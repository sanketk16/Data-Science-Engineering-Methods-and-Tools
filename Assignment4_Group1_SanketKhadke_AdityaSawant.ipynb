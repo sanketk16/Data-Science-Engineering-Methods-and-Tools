{
 "cells": [
  {
   "cell_type": "markdown",
   "metadata": {},
   "source": [
    "<div style=\"text-align: right\">INFO 6105 Data Science Eng Methods and Tools</div>\n",
    "<div style=\"text-align: right\">Sanket Khadke (NUID 002968050), Aditya Sawant (NUID 002762104)</div>\n",
    "\n",
    "# Assignment 4"
   ]
  },
  {
   "cell_type": "markdown",
   "metadata": {},
   "source": [
    "Lets import the required libraries first"
   ]
  },
  {
   "cell_type": "code",
   "execution_count": 1,
   "metadata": {},
   "outputs": [],
   "source": [
    "from fractions import Fraction\n",
    "import math"
   ]
  },
  {
   "cell_type": "markdown",
   "metadata": {},
   "source": [
    "Now lets define the `ProbDist` function such that it takes a dictionary and finds out the probability of each event and returns a probability distribution of all the events"
   ]
  },
  {
   "cell_type": "code",
   "execution_count": 2,
   "metadata": {},
   "outputs": [],
   "source": [
    "class ProbDist(dict):\n",
    "    def __init__(self, mapping=(), **kwargs):\n",
    "        self.update(mapping, **kwargs)\n",
    "        total = sum(self.values())\n",
    "        for outcome in self:\n",
    "            self[outcome] = self[outcome] / total\n",
    "            assert self[outcome] >= 0"
   ]
  },
  {
   "cell_type": "markdown",
   "metadata": {},
   "source": [
    "We also define the function `such_that` which applies transformation to all possible outcome and returns only favourable ones. It makes use of predicate function which returns only true or false and returns all the outcomes that are true for the given predicate function"
   ]
  },
  {
   "cell_type": "code",
   "execution_count": 3,
   "metadata": {},
   "outputs": [],
   "source": [
    "def such_that(predicate, space): \n",
    "    if isinstance(space, ProbDist):\n",
    "        return ProbDist({o:space[o] for o in space if predicate(o)})\n",
    "    else:\n",
    "        return {o for o in space if predicate(o)}"
   ]
  },
  {
   "cell_type": "markdown",
   "metadata": {},
   "source": [
    "We then define the function `p` which is the Probability function and returns the probability of the event given the sample space. Here the function `p` is such that it can also handle a predicate argument and a collection argument, which is the one we will be using in the solutions below"
   ]
  },
  {
   "cell_type": "code",
   "execution_count": 4,
   "metadata": {},
   "outputs": [],
   "source": [
    "def p(event, space): \n",
    "    if is_predicate(event):\n",
    "        event = such_that(event, space)\n",
    "    if isinstance(space, ProbDist):\n",
    "        return sum(space[o] for o in space if o in event)\n",
    "    else:\n",
    "        return Fraction(len(event & space), len(space))\n",
    "\n",
    "is_predicate = callable"
   ]
  },
  {
   "cell_type": "markdown",
   "metadata": {},
   "source": [
    "## Question 1:\n",
    "The season is over and [Max Verstappen](https://www.formula1.com/en/drivers/max-verstappen.html) won, again! But let's assume the season is *not* over and there are *still* two F1 races coming up: The **Netherlands Grand Prix** coming up this weekend and the **Italian Grand Prix** the weekend after. The 2022 driver standings are given [here](https://www.formula1.com/en/results.html/2022/drivers.html). Given these standings (*please do not use team standings given on the same Web site, use driver standings*), what is the Probability Distribution for each F1 driver to win the Netherlands Grand Prix? What is the Probability Distribution for each F1 driver to win *both* the Netherlands and Italian Grand Prix? What is the probability for Red Bull to win both races? What is the probability for Red Bull to win at least one race? Note that Red Bull, and each other racing team, has two drivers per race."
   ]
  },
  {
   "cell_type": "markdown",
   "metadata": {},
   "source": [
    "## Solution\n",
    "Using the latest driver standings from the F1 website, we first create a dictionary containing the driver name initials as the keys and their points as values. We then pass this dictionary to the `ProbDist()` function so as to find the probability distribution of each player winning the next Grand Prix. \n",
    "\n",
    "Note here that, since the probability of each driver winning the Italian Grand Prix is not dependent on the results of the Netherlands Grand Prix, the Probability Distribution in both the cases would be the same.\n",
    "\n",
    "In the cells below, we use `NGP` and `IGP` to represent the Probability Distribution for each driver to win in the *Netherlands Grand Prix* and *Italian Grand Prix* respectively"
   ]
  },
  {
   "cell_type": "code",
   "execution_count": 5,
   "metadata": {},
   "outputs": [
    {
     "data": {
      "text/plain": [
       "{'MV': 0.1889196675900277,\n",
       " 'CL': 0.13130193905817175,\n",
       " 'SP': 0.13019390581717452,\n",
       " 'GR': 0.11246537396121883,\n",
       " 'CS': 0.11191135734072022,\n",
       " 'LH': 0.09418282548476455,\n",
       " 'LN': 0.055401662049861494,\n",
       " 'EO': 0.03656509695290859,\n",
       " 'FA': 0.032686980609418284,\n",
       " 'VB': 0.02548476454293629,\n",
       " 'DR': 0.016066481994459834,\n",
       " 'SV': 0.013296398891966758,\n",
       " 'PG': 0.012742382271468145,\n",
       " 'KM': 0.01218836565096953,\n",
       " 'LS': 0.007202216066481994,\n",
       " 'MS': 0.006648199445983379,\n",
       " 'YT': 0.006094182825484765,\n",
       " 'ZG': 0.0033240997229916896,\n",
       " 'AA': 0.00221606648199446,\n",
       " 'NV': 0.00110803324099723,\n",
       " 'NL': 0.0,\n",
       " 'NH': 0.0}"
      ]
     },
     "execution_count": 5,
     "metadata": {},
     "output_type": "execute_result"
    }
   ],
   "source": [
    "NGP = ProbDist(\n",
    "    MV = 341,\n",
    "    CL = 237,\n",
    "    SP = 235,\n",
    "    GR = 203,\n",
    "    CS = 202,\n",
    "    LH = 170,\n",
    "    LN = 100,\n",
    "    EO = 66,\n",
    "    FA = 59,\n",
    "    VB = 46,\n",
    "    DR = 29,\n",
    "    SV = 24,\n",
    "    PG = 23,\n",
    "    KM = 22,\n",
    "    LS = 13,\n",
    "    MS = 12,\n",
    "    YT = 11,\n",
    "    ZG = 6,\n",
    "    AA = 4,\n",
    "    NV = 2,\n",
    "    NL = 0,\n",
    "    NH = 0)\n",
    "\n",
    "NGP"
   ]
  },
  {
   "cell_type": "code",
   "execution_count": 6,
   "metadata": {},
   "outputs": [
    {
     "data": {
      "text/plain": [
       "{'MV': 0.1889196675900277,\n",
       " 'CL': 0.13130193905817175,\n",
       " 'SP': 0.13019390581717452,\n",
       " 'GR': 0.11246537396121883,\n",
       " 'CS': 0.11191135734072022,\n",
       " 'LH': 0.09418282548476455,\n",
       " 'LN': 0.055401662049861494,\n",
       " 'EO': 0.03656509695290859,\n",
       " 'FA': 0.032686980609418284,\n",
       " 'VB': 0.02548476454293629,\n",
       " 'DR': 0.016066481994459834,\n",
       " 'SV': 0.013296398891966758,\n",
       " 'PG': 0.012742382271468145,\n",
       " 'KM': 0.01218836565096953,\n",
       " 'LS': 0.007202216066481994,\n",
       " 'MS': 0.006648199445983379,\n",
       " 'YT': 0.006094182825484765,\n",
       " 'ZG': 0.0033240997229916896,\n",
       " 'AA': 0.00221606648199446,\n",
       " 'NV': 0.00110803324099723,\n",
       " 'NL': 0.0,\n",
       " 'NH': 0.0}"
      ]
     },
     "execution_count": 6,
     "metadata": {},
     "output_type": "execute_result"
    }
   ],
   "source": [
    "IGP = ProbDist(\n",
    "    MV = 341,\n",
    "    CL = 237,\n",
    "    SP = 235,\n",
    "    GR = 203,\n",
    "    CS = 202,\n",
    "    LH = 170,\n",
    "    LN = 100,\n",
    "    EO = 66,\n",
    "    FA = 59,\n",
    "    VB = 46,\n",
    "    DR = 29,\n",
    "    SV = 24,\n",
    "    PG = 23,\n",
    "    KM = 22,\n",
    "    LS = 13,\n",
    "    MS = 12,\n",
    "    YT = 11,\n",
    "    ZG = 6,\n",
    "    AA = 4,\n",
    "    NV = 2,\n",
    "    NL = 0,\n",
    "    NH = 0)\n",
    "\n",
    "IGP"
   ]
  },
  {
   "cell_type": "markdown",
   "metadata": {},
   "source": [
    "Now, let us find the Probability Distribution of different pairs of drivers winning the Netherlands Grand Prix and Italian Grand Prix. Since there are `22` drivers, so there are `22`x`22` different possible winning combinations. Let us find all the combinations by simply multiplying their winning probabilities for each race (for Netherlands Grand Prix and Italian Grand Prix). \n",
    "This is the *joint probability* of different combination of drivers winning each of the two races. We define the function `joint_prob` below which simply multiplies the winning probability of one driver in a pair with the other. We then store the driver names in the pair in the format `driver1name driver2name` and set them as the keys, while their respective joint probabilities are set as the values."
   ]
  },
  {
   "cell_type": "code",
   "execution_count": 7,
   "metadata": {},
   "outputs": [
    {
     "data": {
      "text/plain": [
       "{'MV MV': 0.03569064080232656,\n",
       " 'MV CL': 0.024805518680795884,\n",
       " 'MV SP': 0.024596189409227986,\n",
       " 'MV GR': 0.02124692106414162,\n",
       " 'MV CS': 0.02114225642835767,\n",
       " 'MV LH': 0.01779298808327131,\n",
       " 'MV LN': 0.010466463578394886,\n",
       " 'MV EO': 0.0069078659617406255,\n",
       " 'MV FA': 0.006175213511252983,\n",
       " 'MV VB': 0.004814573246061648,\n",
       " 'MV DR': 0.003035274437734517,\n",
       " 'MV SV': 0.0025119512588147727,\n",
       " 'MV PG': 0.002407286623030824,\n",
       " 'MV KM': 0.0023026219872468753,\n",
       " 'MV LS': 0.0013606402651913352,\n",
       " 'MV MS': 0.0012559756294073863,\n",
       " 'MV YT': 0.0011513109936234377,\n",
       " 'MV ZG': 0.0006279878147036932,\n",
       " 'MV AA': 0.0004186585431357955,\n",
       " 'MV NV': 0.00020932927156789774,\n",
       " 'MV NL': 0.0,\n",
       " 'MV NH': 0.0,\n",
       " 'CL MV': 0.024805518680795884,\n",
       " 'CL CL': 0.01724019920043585,\n",
       " 'CL SP': 0.017094712287352,\n",
       " 'CL GR': 0.014766921678010452,\n",
       " 'CL CS': 0.014694178221468528,\n",
       " 'CL LH': 0.01236638761212698,\n",
       " 'CL LN': 0.007274345654192341,\n",
       " 'CL EO': 0.004801068131766946,\n",
       " 'CL FA': 0.004291863935973481,\n",
       " 'CL VB': 0.003346199000928477,\n",
       " 'CL DR': 0.002109560239715779,\n",
       " 'CL SV': 0.0017458429570061617,\n",
       " 'CL PG': 0.0016730995004642386,\n",
       " 'CL KM': 0.001600356043922315,\n",
       " 'CL LS': 0.0009456649350450043,\n",
       " 'CL MS': 0.0008729214785030808,\n",
       " 'CL YT': 0.0008001780219611575,\n",
       " 'CL ZG': 0.0004364607392515404,\n",
       " 'CL AA': 0.00029097382616769365,\n",
       " 'CL NV': 0.00014548691308384682,\n",
       " 'CL NL': 0.0,\n",
       " 'CL NH': 0.0,\n",
       " 'SP MV': 0.024596189409227986,\n",
       " 'SP CL': 0.017094712287352,\n",
       " 'SP SP': 0.01695045311193131,\n",
       " 'SP GR': 0.014642306305200237,\n",
       " 'SP CS': 0.014570176717489891,\n",
       " 'SP LH': 0.01226202991075882,\n",
       " 'SP LN': 0.007212958771034599,\n",
       " 'SP EO': 0.004760552788882836,\n",
       " 'SP FA': 0.004255645674910414,\n",
       " 'SP VB': 0.003317961034675916,\n",
       " 'SP DR': 0.0020917580436000337,\n",
       " 'SP SV': 0.0017311101050483037,\n",
       " 'SP PG': 0.001658980517337958,\n",
       " 'SP KM': 0.001586850929627612,\n",
       " 'SP LS': 0.000937684640234498,\n",
       " 'SP MS': 0.0008655550525241519,\n",
       " 'SP YT': 0.000793425464813806,\n",
       " 'SP ZG': 0.00043277752626207593,\n",
       " 'SP AA': 0.000288518350841384,\n",
       " 'SP NV': 0.000144259175420692,\n",
       " 'SP NL': 0.0,\n",
       " 'SP NH': 0.0,\n",
       " 'GR MV': 0.02124692106414162,\n",
       " 'GR CL': 0.014766921678010452,\n",
       " 'GR SP': 0.014642306305200237,\n",
       " 'GR GR': 0.012648460340236799,\n",
       " 'GR CS': 0.012586152653831692,\n",
       " 'GR LH': 0.010592306688868257,\n",
       " 'GR LN': 0.0062307686405107384,\n",
       " 'GR EO': 0.004112307302737088,\n",
       " 'GR FA': 0.003676153497901336,\n",
       " 'GR VB': 0.00286615357463494,\n",
       " 'GR DR': 0.0018069229057481144,\n",
       " 'GR SV': 0.0014953844737225772,\n",
       " 'GR PG': 0.00143307678731747,\n",
       " 'GR KM': 0.0013707691009123626,\n",
       " 'GR LS': 0.000809999923266396,\n",
       " 'GR MS': 0.0007476922368612886,\n",
       " 'GR YT': 0.0006853845504561813,\n",
       " 'GR ZG': 0.0003738461184306443,\n",
       " 'GR AA': 0.00024923074562042957,\n",
       " 'GR NV': 0.00012461537281021479,\n",
       " 'GR NL': 0.0,\n",
       " 'GR NH': 0.0,\n",
       " 'CS MV': 0.02114225642835767,\n",
       " 'CS CL': 0.014694178221468528,\n",
       " 'CS SP': 0.014570176717489891,\n",
       " 'CS GR': 0.012586152653831692,\n",
       " 'CS CS': 0.012524151901842374,\n",
       " 'CS LH': 0.010540127838184176,\n",
       " 'CS LN': 0.006200075198931868,\n",
       " 'CS EO': 0.004092049631295033,\n",
       " 'CS FA': 0.003658044367369802,\n",
       " 'CS VB': 0.0028520345915086596,\n",
       " 'CS DR': 0.0017980218076902419,\n",
       " 'CS SV': 0.0014880180477436483,\n",
       " 'CS PG': 0.0014260172957543298,\n",
       " 'CS KM': 0.0013640165437650111,\n",
       " 'CS LS': 0.0008060097758611428,\n",
       " 'CS MS': 0.0007440090238718241,\n",
       " 'CS YT': 0.0006820082718825056,\n",
       " 'CS ZG': 0.00037200451193591206,\n",
       " 'CS AA': 0.00024800300795727476,\n",
       " 'CS NV': 0.00012400150397863738,\n",
       " 'CS NL': 0.0,\n",
       " 'CS NH': 0.0,\n",
       " 'LH MV': 0.01779298808327131,\n",
       " 'LH CL': 0.01236638761212698,\n",
       " 'LH SP': 0.01226202991075882,\n",
       " 'LH GR': 0.010592306688868257,\n",
       " 'LH CS': 0.010540127838184176,\n",
       " 'LH LH': 0.008870404616293614,\n",
       " 'LH LN': 0.005217885068408008,\n",
       " 'LH EO': 0.0034438041451492858,\n",
       " 'LH FA': 0.003078552190360725,\n",
       " 'LH VB': 0.002400227131467684,\n",
       " 'LH DR': 0.0015131866698383223,\n",
       " 'LH SV': 0.001252292416417922,\n",
       " 'LH PG': 0.001200113565733842,\n",
       " 'LH KM': 0.0011479347150497618,\n",
       " 'LH LS': 0.0006783250588930411,\n",
       " 'LH MS': 0.000626146208208961,\n",
       " 'LH YT': 0.0005739673575248809,\n",
       " 'LH ZG': 0.0003130731041044805,\n",
       " 'LH AA': 0.00020871540273632034,\n",
       " 'LH NV': 0.00010435770136816017,\n",
       " 'LH NL': 0.0,\n",
       " 'LH NH': 0.0,\n",
       " 'LN MV': 0.010466463578394886,\n",
       " 'LN CL': 0.007274345654192341,\n",
       " 'LN SP': 0.007212958771034599,\n",
       " 'LN GR': 0.0062307686405107384,\n",
       " 'LN CS': 0.006200075198931868,\n",
       " 'LN LH': 0.005217885068408008,\n",
       " 'LN LN': 0.003069344157887063,\n",
       " 'LN EO': 0.002025767144205462,\n",
       " 'LN FA': 0.0018109130531533675,\n",
       " 'LN VB': 0.0014118983126280493,\n",
       " 'LN DR': 0.0008901098057872484,\n",
       " 'LN SV': 0.0007366425978928952,\n",
       " 'LN PG': 0.0007059491563140246,\n",
       " 'LN KM': 0.000675255714735154,\n",
       " 'LN LS': 0.00039901474052531826,\n",
       " 'LN MS': 0.0003683212989464476,\n",
       " 'LN YT': 0.000337627857367577,\n",
       " 'LN ZG': 0.0001841606494732238,\n",
       " 'LN AA': 0.00012277376631548254,\n",
       " 'LN NV': 6.138688315774127e-05,\n",
       " 'LN NL': 0.0,\n",
       " 'LN NH': 0.0,\n",
       " 'EO MV': 0.0069078659617406255,\n",
       " 'EO CL': 0.004801068131766946,\n",
       " 'EO SP': 0.004760552788882836,\n",
       " 'EO GR': 0.004112307302737088,\n",
       " 'EO CS': 0.004092049631295033,\n",
       " 'EO LH': 0.0034438041451492858,\n",
       " 'EO LN': 0.002025767144205462,\n",
       " 'EO EO': 0.0013370063151756052,\n",
       " 'EO FA': 0.0011952026150812227,\n",
       " 'EO VB': 0.0009318528863345127,\n",
       " 'EO DR': 0.0005874724718195841,\n",
       " 'EO SV': 0.0004861841146093109,\n",
       " 'EO PG': 0.00046592644316725633,\n",
       " 'EO KM': 0.0004456687717252017,\n",
       " 'EO LS': 0.0002633497287467101,\n",
       " 'EO MS': 0.00024309205730465544,\n",
       " 'EO YT': 0.00022283438586260084,\n",
       " 'EO ZG': 0.00012154602865232772,\n",
       " 'EO AA': 8.103068576821849e-05,\n",
       " 'EO NV': 4.051534288410924e-05,\n",
       " 'EO NL': 0.0,\n",
       " 'EO NH': 0.0,\n",
       " 'FA MV': 0.006175213511252983,\n",
       " 'FA CL': 0.004291863935973481,\n",
       " 'FA SP': 0.004255645674910414,\n",
       " 'FA GR': 0.003676153497901336,\n",
       " 'FA CS': 0.003658044367369802,\n",
       " 'FA LH': 0.003078552190360725,\n",
       " 'FA LN': 0.0018109130531533675,\n",
       " 'FA EO': 0.0011952026150812227,\n",
       " 'FA FA': 0.001068438701360487,\n",
       " 'FA VB': 0.0008330200044505492,\n",
       " 'FA DR': 0.0005251647854144766,\n",
       " 'FA SV': 0.00043461913275680817,\n",
       " 'FA PG': 0.0004165100022252746,\n",
       " 'FA KM': 0.0003984008716937409,\n",
       " 'FA LS': 0.0002354186969099378,\n",
       " 'FA MS': 0.00021730956637840409,\n",
       " 'FA YT': 0.00019920043584687044,\n",
       " 'FA ZG': 0.00010865478318920204,\n",
       " 'FA AA': 7.243652212613471e-05,\n",
       " 'FA NV': 3.6218261063067354e-05,\n",
       " 'FA NL': 0.0,\n",
       " 'FA NH': 0.0,\n",
       " 'VB MV': 0.004814573246061648,\n",
       " 'VB CL': 0.003346199000928477,\n",
       " 'VB SP': 0.003317961034675916,\n",
       " 'VB GR': 0.00286615357463494,\n",
       " 'VB CS': 0.0028520345915086596,\n",
       " 'VB LH': 0.002400227131467684,\n",
       " 'VB LN': 0.0014118983126280493,\n",
       " 'VB EO': 0.0009318528863345127,\n",
       " 'VB FA': 0.0008330200044505492,\n",
       " 'VB VB': 0.0006494732238089027,\n",
       " 'VB DR': 0.00040945051066213433,\n",
       " 'VB SV': 0.0003388555950307318,\n",
       " 'VB PG': 0.0003247366119044514,\n",
       " 'VB KM': 0.00031061762877817087,\n",
       " 'VB LS': 0.0001835467806416464,\n",
       " 'VB MS': 0.0001694277975153659,\n",
       " 'VB YT': 0.00015530881438908544,\n",
       " 'VB ZG': 8.471389875768296e-05,\n",
       " 'VB AA': 5.647593250512198e-05,\n",
       " 'VB NV': 2.823796625256099e-05,\n",
       " 'VB NL': 0.0,\n",
       " 'VB NH': 0.0,\n",
       " 'DR MV': 0.003035274437734517,\n",
       " 'DR CL': 0.002109560239715779,\n",
       " 'DR SP': 0.0020917580436000337,\n",
       " 'DR GR': 0.0018069229057481144,\n",
       " 'DR CS': 0.0017980218076902419,\n",
       " 'DR LH': 0.0015131866698383223,\n",
       " 'DR LN': 0.0008901098057872484,\n",
       " 'DR EO': 0.0005874724718195841,\n",
       " 'DR FA': 0.0005251647854144766,\n",
       " 'DR VB': 0.00040945051066213433,\n",
       " 'DR DR': 0.00025813184367830206,\n",
       " 'DR SV': 0.00021362635338893963,\n",
       " 'DR PG': 0.00020472525533106716,\n",
       " 'DR KM': 0.00019582415727319467,\n",
       " 'DR LS': 0.0001157142747523423,\n",
       " 'DR MS': 0.00010681317669446981,\n",
       " 'DR YT': 9.791207863659734e-05,\n",
       " 'DR ZG': 5.340658834723491e-05,\n",
       " 'DR AA': 3.560439223148994e-05,\n",
       " 'DR NV': 1.780219611574497e-05,\n",
       " 'DR NL': 0.0,\n",
       " 'DR NH': 0.0,\n",
       " 'SV MV': 0.0025119512588147727,\n",
       " 'SV CL': 0.0017458429570061617,\n",
       " 'SV SP': 0.0017311101050483037,\n",
       " 'SV GR': 0.0014953844737225772,\n",
       " 'SV CS': 0.0014880180477436483,\n",
       " 'SV LH': 0.001252292416417922,\n",
       " 'SV LN': 0.0007366425978928952,\n",
       " 'SV EO': 0.0004861841146093109,\n",
       " 'SV FA': 0.00043461913275680817,\n",
       " 'SV VB': 0.0003388555950307318,\n",
       " 'SV DR': 0.00021362635338893963,\n",
       " 'SV SV': 0.00017679422349429485,\n",
       " 'SV PG': 0.0001694277975153659,\n",
       " 'SV KM': 0.00016206137153643694,\n",
       " 'SV LS': 9.576353772607638e-05,\n",
       " 'SV MS': 8.839711174714742e-05,\n",
       " 'SV YT': 8.103068576821847e-05,\n",
       " 'SV ZG': 4.419855587357371e-05,\n",
       " 'SV AA': 2.946570391571581e-05,\n",
       " 'SV NV': 1.4732851957857905e-05,\n",
       " 'SV NL': 0.0,\n",
       " 'SV NH': 0.0,\n",
       " 'PG MV': 0.002407286623030824,\n",
       " 'PG CL': 0.0016730995004642386,\n",
       " 'PG SP': 0.001658980517337958,\n",
       " 'PG GR': 0.00143307678731747,\n",
       " 'PG CS': 0.0014260172957543298,\n",
       " 'PG LH': 0.001200113565733842,\n",
       " 'PG LN': 0.0007059491563140246,\n",
       " 'PG EO': 0.00046592644316725633,\n",
       " 'PG FA': 0.0004165100022252746,\n",
       " 'PG VB': 0.0003247366119044514,\n",
       " 'PG DR': 0.00020472525533106716,\n",
       " 'PG SV': 0.0001694277975153659,\n",
       " 'PG PG': 0.0001623683059522257,\n",
       " 'PG KM': 0.00015530881438908544,\n",
       " 'PG LS': 9.17733903208232e-05,\n",
       " 'PG MS': 8.471389875768296e-05,\n",
       " 'PG YT': 7.765440719454272e-05,\n",
       " 'PG ZG': 4.235694937884148e-05,\n",
       " 'PG AA': 2.823796625256099e-05,\n",
       " 'PG NV': 1.4118983126280495e-05,\n",
       " 'PG NL': 0.0,\n",
       " 'PG NH': 0.0,\n",
       " 'KM MV': 0.0023026219872468753,\n",
       " 'KM CL': 0.001600356043922315,\n",
       " 'KM SP': 0.001586850929627612,\n",
       " 'KM GR': 0.0013707691009123626,\n",
       " 'KM CS': 0.0013640165437650111,\n",
       " 'KM LH': 0.0011479347150497618,\n",
       " 'KM LN': 0.000675255714735154,\n",
       " 'KM EO': 0.0004456687717252017,\n",
       " 'KM FA': 0.0003984008716937409,\n",
       " 'KM VB': 0.00031061762877817087,\n",
       " 'KM DR': 0.00019582415727319467,\n",
       " 'KM SV': 0.00016206137153643694,\n",
       " 'KM PG': 0.00015530881438908544,\n",
       " 'KM KM': 0.00014855625724173387,\n",
       " 'KM LS': 8.778324291557002e-05,\n",
       " 'KM MS': 8.103068576821847e-05,\n",
       " 'KM YT': 7.427812862086694e-05,\n",
       " 'KM ZG': 4.0515342884109236e-05,\n",
       " 'KM AA': 2.7010228589406163e-05,\n",
       " 'KM NV': 1.3505114294703081e-05,\n",
       " 'KM NL': 0.0,\n",
       " 'KM NH': 0.0,\n",
       " 'LS MV': 0.0013606402651913352,\n",
       " 'LS CL': 0.0009456649350450043,\n",
       " 'LS SP': 0.000937684640234498,\n",
       " 'LS GR': 0.000809999923266396,\n",
       " 'LS CS': 0.0008060097758611428,\n",
       " 'LS LH': 0.0006783250588930411,\n",
       " 'LS LN': 0.00039901474052531826,\n",
       " 'LS EO': 0.0002633497287467101,\n",
       " 'LS FA': 0.0002354186969099378,\n",
       " 'LS VB': 0.0001835467806416464,\n",
       " 'LS DR': 0.0001157142747523423,\n",
       " 'LS SV': 9.576353772607638e-05,\n",
       " 'LS PG': 9.17733903208232e-05,\n",
       " 'LS KM': 8.778324291557002e-05,\n",
       " 'LS LS': 5.1871916268291375e-05,\n",
       " 'LS MS': 4.788176886303819e-05,\n",
       " 'LS YT': 4.389162145778501e-05,\n",
       " 'LS ZG': 2.3940884431519095e-05,\n",
       " 'LS AA': 1.596058962101273e-05,\n",
       " 'LS NV': 7.980294810506365e-06,\n",
       " 'LS NL': 0.0,\n",
       " 'LS NH': 0.0,\n",
       " 'MS MV': 0.0012559756294073863,\n",
       " 'MS CL': 0.0008729214785030808,\n",
       " 'MS SP': 0.0008655550525241519,\n",
       " 'MS GR': 0.0007476922368612886,\n",
       " 'MS CS': 0.0007440090238718241,\n",
       " 'MS LH': 0.000626146208208961,\n",
       " 'MS LN': 0.0003683212989464476,\n",
       " 'MS EO': 0.00024309205730465544,\n",
       " 'MS FA': 0.00021730956637840409,\n",
       " 'MS VB': 0.0001694277975153659,\n",
       " 'MS DR': 0.00010681317669446981,\n",
       " 'MS SV': 8.839711174714742e-05,\n",
       " 'MS PG': 8.471389875768296e-05,\n",
       " 'MS KM': 8.103068576821847e-05,\n",
       " 'MS LS': 4.788176886303819e-05,\n",
       " 'MS MS': 4.419855587357371e-05,\n",
       " 'MS YT': 4.0515342884109236e-05,\n",
       " 'MS ZG': 2.2099277936786856e-05,\n",
       " 'MS AA': 1.4732851957857905e-05,\n",
       " 'MS NV': 7.366425978928952e-06,\n",
       " 'MS NL': 0.0,\n",
       " 'MS NH': 0.0,\n",
       " 'YT MV': 0.0011513109936234377,\n",
       " 'YT CL': 0.0008001780219611575,\n",
       " 'YT SP': 0.000793425464813806,\n",
       " 'YT GR': 0.0006853845504561813,\n",
       " 'YT CS': 0.0006820082718825056,\n",
       " 'YT LH': 0.0005739673575248809,\n",
       " 'YT LN': 0.000337627857367577,\n",
       " 'YT EO': 0.00022283438586260084,\n",
       " 'YT FA': 0.00019920043584687044,\n",
       " 'YT VB': 0.00015530881438908544,\n",
       " 'YT DR': 9.791207863659734e-05,\n",
       " 'YT SV': 8.103068576821847e-05,\n",
       " 'YT PG': 7.765440719454272e-05,\n",
       " 'YT KM': 7.427812862086694e-05,\n",
       " 'YT LS': 4.389162145778501e-05,\n",
       " 'YT MS': 4.0515342884109236e-05,\n",
       " 'YT YT': 3.713906431043347e-05,\n",
       " 'YT ZG': 2.0257671442054618e-05,\n",
       " 'YT AA': 1.3505114294703081e-05,\n",
       " 'YT NV': 6.752557147351541e-06,\n",
       " 'YT NL': 0.0,\n",
       " 'YT NH': 0.0,\n",
       " 'ZG MV': 0.0006279878147036932,\n",
       " 'ZG CL': 0.0004364607392515404,\n",
       " 'ZG SP': 0.00043277752626207593,\n",
       " 'ZG GR': 0.0003738461184306443,\n",
       " 'ZG CS': 0.00037200451193591206,\n",
       " 'ZG LH': 0.0003130731041044805,\n",
       " 'ZG LN': 0.0001841606494732238,\n",
       " 'ZG EO': 0.00012154602865232772,\n",
       " 'ZG FA': 0.00010865478318920204,\n",
       " 'ZG VB': 8.471389875768296e-05,\n",
       " 'ZG DR': 5.340658834723491e-05,\n",
       " 'ZG SV': 4.419855587357371e-05,\n",
       " 'ZG PG': 4.235694937884148e-05,\n",
       " 'ZG KM': 4.0515342884109236e-05,\n",
       " 'ZG LS': 2.3940884431519095e-05,\n",
       " 'ZG MS': 2.2099277936786856e-05,\n",
       " 'ZG YT': 2.0257671442054618e-05,\n",
       " 'ZG ZG': 1.1049638968393428e-05,\n",
       " 'ZG AA': 7.366425978928952e-06,\n",
       " 'ZG NV': 3.683212989464476e-06,\n",
       " 'ZG NL': 0.0,\n",
       " 'ZG NH': 0.0,\n",
       " 'AA MV': 0.0004186585431357955,\n",
       " 'AA CL': 0.00029097382616769365,\n",
       " 'AA SP': 0.000288518350841384,\n",
       " 'AA GR': 0.00024923074562042957,\n",
       " 'AA CS': 0.00024800300795727476,\n",
       " 'AA LH': 0.00020871540273632034,\n",
       " 'AA LN': 0.00012277376631548254,\n",
       " 'AA EO': 8.103068576821849e-05,\n",
       " 'AA FA': 7.243652212613471e-05,\n",
       " 'AA VB': 5.647593250512198e-05,\n",
       " 'AA DR': 3.560439223148994e-05,\n",
       " 'AA SV': 2.946570391571581e-05,\n",
       " 'AA PG': 2.823796625256099e-05,\n",
       " 'AA KM': 2.7010228589406163e-05,\n",
       " 'AA LS': 1.596058962101273e-05,\n",
       " 'AA MS': 1.4732851957857905e-05,\n",
       " 'AA YT': 1.3505114294703081e-05,\n",
       " 'AA ZG': 7.366425978928952e-06,\n",
       " 'AA AA': 4.910950652619302e-06,\n",
       " 'AA NV': 2.455475326309651e-06,\n",
       " 'AA NL': 0.0,\n",
       " 'AA NH': 0.0,\n",
       " 'NV MV': 0.00020932927156789774,\n",
       " 'NV CL': 0.00014548691308384682,\n",
       " 'NV SP': 0.000144259175420692,\n",
       " 'NV GR': 0.00012461537281021479,\n",
       " 'NV CS': 0.00012400150397863738,\n",
       " 'NV LH': 0.00010435770136816017,\n",
       " 'NV LN': 6.138688315774127e-05,\n",
       " 'NV EO': 4.051534288410924e-05,\n",
       " 'NV FA': 3.6218261063067354e-05,\n",
       " 'NV VB': 2.823796625256099e-05,\n",
       " 'NV DR': 1.780219611574497e-05,\n",
       " 'NV SV': 1.4732851957857905e-05,\n",
       " 'NV PG': 1.4118983126280495e-05,\n",
       " 'NV KM': 1.3505114294703081e-05,\n",
       " 'NV LS': 7.980294810506365e-06,\n",
       " 'NV MS': 7.366425978928952e-06,\n",
       " 'NV YT': 6.752557147351541e-06,\n",
       " 'NV ZG': 3.683212989464476e-06,\n",
       " 'NV AA': 2.455475326309651e-06,\n",
       " 'NV NV': 1.2277376631548256e-06,\n",
       " 'NV NL': 0.0,\n",
       " 'NV NH': 0.0,\n",
       " 'NL MV': 0.0,\n",
       " 'NL CL': 0.0,\n",
       " 'NL SP': 0.0,\n",
       " 'NL GR': 0.0,\n",
       " 'NL CS': 0.0,\n",
       " 'NL LH': 0.0,\n",
       " 'NL LN': 0.0,\n",
       " 'NL EO': 0.0,\n",
       " 'NL FA': 0.0,\n",
       " 'NL VB': 0.0,\n",
       " 'NL DR': 0.0,\n",
       " 'NL SV': 0.0,\n",
       " 'NL PG': 0.0,\n",
       " 'NL KM': 0.0,\n",
       " 'NL LS': 0.0,\n",
       " 'NL MS': 0.0,\n",
       " 'NL YT': 0.0,\n",
       " 'NL ZG': 0.0,\n",
       " 'NL AA': 0.0,\n",
       " 'NL NV': 0.0,\n",
       " 'NL NL': 0.0,\n",
       " 'NL NH': 0.0,\n",
       " 'NH MV': 0.0,\n",
       " 'NH CL': 0.0,\n",
       " 'NH SP': 0.0,\n",
       " 'NH GR': 0.0,\n",
       " 'NH CS': 0.0,\n",
       " 'NH LH': 0.0,\n",
       " 'NH LN': 0.0,\n",
       " 'NH EO': 0.0,\n",
       " 'NH FA': 0.0,\n",
       " 'NH VB': 0.0,\n",
       " 'NH DR': 0.0,\n",
       " 'NH SV': 0.0,\n",
       " 'NH PG': 0.0,\n",
       " 'NH KM': 0.0,\n",
       " 'NH LS': 0.0,\n",
       " 'NH MS': 0.0,\n",
       " 'NH YT': 0.0,\n",
       " 'NH ZG': 0.0,\n",
       " 'NH AA': 0.0,\n",
       " 'NH NV': 0.0,\n",
       " 'NH NL': 0.0,\n",
       " 'NH NH': 0.0}"
      ]
     },
     "execution_count": 7,
     "metadata": {},
     "output_type": "execute_result"
    }
   ],
   "source": [
    "#Joint Probability function\n",
    "def joint_prob(A, B, sep=''):\n",
    "    return ProbDist({i + sep + j: A[i] * B[j]\n",
    "                    for i in A\n",
    "                    for j in B})\n",
    "\n",
    "joint_pd = joint_prob(NGP, IGP ,' ')\n",
    "joint_pd"
   ]
  },
  {
   "cell_type": "markdown",
   "metadata": {},
   "source": [
    "As said earlier, the total length of `joint_pd` would be `22`x`22`=`484`"
   ]
  },
  {
   "cell_type": "code",
   "execution_count": 8,
   "metadata": {},
   "outputs": [
    {
     "data": {
      "text/plain": [
       "484"
      ]
     },
     "execution_count": 8,
     "metadata": {},
     "output_type": "execute_result"
    }
   ],
   "source": [
    "len(joint_pd)"
   ]
  },
  {
   "cell_type": "markdown",
   "metadata": {},
   "source": [
    "### Each Driver wins both the races"
   ]
  },
  {
   "cell_type": "markdown",
   "metadata": {},
   "source": [
    "Now, since we have to find the Probability Distribution of each driver winning both the races, we will check the keys (of `joint_pd` in this case) to determine if the key contains only one single driver winning both the races. \n",
    "\n",
    "For instance, if we are searching for the Probability Distribution of Max Verstappen winning both the races, we should search for the key `MV MV`.\n",
    "\n",
    "We will accomplish this by defining a function where we would use string comparison. In the function we will first split the key string using `.split(\" \")` and then check if the two obtained strings are the same. If yes, we would append this key value pair to a result dictionary which would be returned through the function."
   ]
  },
  {
   "cell_type": "code",
   "execution_count": 9,
   "metadata": {},
   "outputs": [
    {
     "data": {
      "text/plain": [
       "{'MV': 0.03569064080232656,\n",
       " 'CL': 0.01724019920043585,\n",
       " 'SP': 0.01695045311193131,\n",
       " 'GR': 0.012648460340236799,\n",
       " 'CS': 0.012524151901842374,\n",
       " 'LH': 0.008870404616293614,\n",
       " 'LN': 0.003069344157887063,\n",
       " 'EO': 0.0013370063151756052,\n",
       " 'FA': 0.001068438701360487,\n",
       " 'VB': 0.0006494732238089027,\n",
       " 'DR': 0.00025813184367830206,\n",
       " 'SV': 0.00017679422349429485,\n",
       " 'PG': 0.0001623683059522257,\n",
       " 'KM': 0.00014855625724173387,\n",
       " 'LS': 5.1871916268291375e-05,\n",
       " 'MS': 4.419855587357371e-05,\n",
       " 'YT': 3.713906431043347e-05,\n",
       " 'ZG': 1.1049638968393428e-05,\n",
       " 'AA': 4.910950652619302e-06,\n",
       " 'NV': 1.2277376631548256e-06,\n",
       " 'NL': 0.0,\n",
       " 'NH': 0.0}"
      ]
     },
     "execution_count": 9,
     "metadata": {},
     "output_type": "execute_result"
    }
   ],
   "source": [
    "#To find the probability distribution of each F1 driver to win both Netherlands and Italy Grand Prix\n",
    "def each_driver_wins_both_races(joint_pd):\n",
    "    result_pd = {}\n",
    "    for x in joint_pd:\n",
    "        if x.split(\" \")[:-1] == x.split(\" \")[1:]:\n",
    "            result_pd[x.split(\" \")[1]] = joint_pd[x]\n",
    "    return result_pd\n",
    "            \n",
    "each_driver_wins_both = each_driver_wins_both_races(joint_pd)\n",
    "each_driver_wins_both"
   ]
  },
  {
   "cell_type": "markdown",
   "metadata": {},
   "source": [
    "### Red Bull wins both the races"
   ]
  },
  {
   "cell_type": "markdown",
   "metadata": {},
   "source": [
    "Now for the next part of the question, we need to find the probability of Red Bull winning both the races. Red Bull team consists of `Max Verstappen` and `Sergio Perez` denoted by `MV` and `SP` respectively"
   ]
  },
  {
   "cell_type": "markdown",
   "metadata": {},
   "source": [
    "**Method 1**\n",
    "\n",
    "Now, in order for Red Bull to win both the races, we define a function `redbull_wins_both_races` and pass it to our probability function `p` to find the probability of Red Bull winning both the races. \n",
    "\n",
    "Here, we check if the keys of `joint_pd` begin _**and**_ end with either `MV` **or** `SP`. In short, we check for 4 combinations in `joint_pd` which are `MV MV`, `MV SP`, `SP MV` and `SP SP`"
   ]
  },
  {
   "cell_type": "code",
   "execution_count": 10,
   "metadata": {},
   "outputs": [
    {
     "data": {
      "text/plain": [
       "0.10183347273271384"
      ]
     },
     "execution_count": 10,
     "metadata": {},
     "output_type": "execute_result"
    }
   ],
   "source": [
    "def redbull_wins_both_races(outcome):\n",
    "    return (outcome.startswith(\"MV\") or outcome.startswith(\"SP\")) and (outcome.endswith(\"MV\") or outcome.endswith(\"SP\"))\n",
    "\n",
    "p(redbull_wins_both_races, joint_pd)"
   ]
  },
  {
   "cell_type": "markdown",
   "metadata": {},
   "source": [
    "**Method 2**\n",
    "\n",
    "Now for Red Bull to win both the races, first lets make a list of the two drivers (MV and SP in this case) who race for Red Bull in `redbull_players`\n",
    "\n",
    "We then generate a list of all possible combinations of the two players so that we only obtain keys where only `MV` and `SP` win the two races. We obtain a total of 4 combinations as below in `redbull_drivers_combo`."
   ]
  },
  {
   "cell_type": "code",
   "execution_count": 11,
   "metadata": {
    "scrolled": true
   },
   "outputs": [
    {
     "data": {
      "text/plain": [
       "['MV', 'SP']"
      ]
     },
     "execution_count": 11,
     "metadata": {},
     "output_type": "execute_result"
    }
   ],
   "source": [
    "redbull_drivers = [\"MV\", \"SP\"]\n",
    "redbull_drivers"
   ]
  },
  {
   "cell_type": "code",
   "execution_count": 12,
   "metadata": {},
   "outputs": [
    {
     "data": {
      "text/plain": [
       "['MV MV', 'MV SP', 'SP MV', 'SP SP']"
      ]
     },
     "execution_count": 12,
     "metadata": {},
     "output_type": "execute_result"
    }
   ],
   "source": [
    "redbull_drivers_combo = [a + \" \" + b for a in redbull_drivers for b in redbull_drivers]\n",
    "redbull_drivers_combo"
   ]
  },
  {
   "cell_type": "markdown",
   "metadata": {},
   "source": [
    "We now write a function to search for the probability distribution of all the combination keys we generated above. We will then store these key-value pairs and return them as a dictionary and pass it to the probability function `p` to find out the probability of Red Bull winning both the races. In the function below, `result_pd` is used to store the resultant probability distribution dictionary that would be returned from the function."
   ]
  },
  {
   "cell_type": "code",
   "execution_count": 13,
   "metadata": {
    "scrolled": true
   },
   "outputs": [
    {
     "data": {
      "text/plain": [
       "0.10183347273271384"
      ]
     },
     "execution_count": 13,
     "metadata": {},
     "output_type": "execute_result"
    }
   ],
   "source": [
    "def redbull_wins_both_races_v2(driver_combo, joint_pd):\n",
    "    result_pd = {}\n",
    "    for x in driver_combo:\n",
    "        result_pd[x] = joint_pd[x]\n",
    "    return result_pd\n",
    "\n",
    "redbull_wins_both = redbull_wins_both_races_v2(redbull_drivers_combo, joint_pd)\n",
    "p(redbull_wins_both, joint_pd)"
   ]
  },
  {
   "cell_type": "markdown",
   "metadata": {},
   "source": [
    "### Red Bull wins atleast one race"
   ]
  },
  {
   "cell_type": "markdown",
   "metadata": {},
   "source": [
    "For the next subsection of this question, we need to find the probability of Red Bull winning atleast one race. Red Bull team consists of Max Verstappen and Sergio Perez denoted by MV and SP respectively"
   ]
  },
  {
   "cell_type": "markdown",
   "metadata": {},
   "source": [
    "**Method 1**\n",
    "\n",
    "Now, in order for Red Bull to win atleast one race, we define a function `redbull_wins_atleast_one_race` and pass it to our probability function `p` to find the resultant probability. \n",
    "Here in this function that we would define, we check if the keys of `joint_pd` begin _**or**_ end with either `MV` **or** `SP`. In short, we check for multiple combinations in `joint_pd` that would just rather contain either `MV` or `SP`"
   ]
  },
  {
   "cell_type": "code",
   "execution_count": 14,
   "metadata": {},
   "outputs": [
    {
     "data": {
      "text/plain": [
       "0.5363936740816907"
      ]
     },
     "execution_count": 14,
     "metadata": {},
     "output_type": "execute_result"
    }
   ],
   "source": [
    "def redbull_wins_atleast_one_race(outcome):\n",
    "    return outcome.startswith(\"MV\") or outcome.startswith(\"SP\") or outcome.endswith(\"MV\") or outcome.endswith(\"SP\")\n",
    "\n",
    "p(redbull_wins_atleast_one_race, joint_pd)"
   ]
  },
  {
   "cell_type": "markdown",
   "metadata": {},
   "source": [
    "**Method 2**\n",
    "\n",
    "In order to find the total probability of Red Bull winning atleast one race among two, we will define a function to first find out if the key of `joint_pd` contains either `MV` or `SP`. If present, we pass this key-value pair to a `result_pd`. \n",
    "\n",
    "Since we iterate twice, once over `MV` and the next time over `SP`, we save this key-value pair in a dictionary to ensure that any combinations, particularly combinations of `MV` and `SP` are not repeated and are unique. \n",
    "\n",
    "Finally, we pass this resultant output dictionary along with `joint_pd` to the function `p` to find the required probability of Red Bull winning atleast one race"
   ]
  },
  {
   "cell_type": "code",
   "execution_count": 15,
   "metadata": {},
   "outputs": [
    {
     "data": {
      "text/plain": [
       "0.5363936740816907"
      ]
     },
     "execution_count": 15,
     "metadata": {},
     "output_type": "execute_result"
    }
   ],
   "source": [
    "def redbull_wins_atleast_one_race_v2(driver_list, joint_pd):\n",
    "    result_pd = {}\n",
    "    for i in joint_pd:\n",
    "        for j in driver_list:\n",
    "            if j in i:\n",
    "                result_pd[i] = joint_pd[i]\n",
    "    return result_pd\n",
    "\n",
    "result_pd = redbull_wins_atleast_one_race_v2(redbull_drivers, joint_pd)\n",
    "p(result_pd, joint_pd)"
   ]
  },
  {
   "cell_type": "markdown",
   "metadata": {},
   "source": [
    "## Question 2"
   ]
  },
  {
   "cell_type": "markdown",
   "metadata": {},
   "source": [
    "If Red Bull wins the first race, what is the probability that Red Bull wins the next one? If Red Bull wins at least one of these two races, what is the probability Red Bull wins both races? How about Ferrari, Mercedes, and Alpine-Renault?"
   ]
  },
  {
   "cell_type": "markdown",
   "metadata": {},
   "source": [
    "## Solution"
   ]
  },
  {
   "cell_type": "markdown",
   "metadata": {},
   "source": [
    "### If Red Bull wins the first race, what is the probability that Red Bull wins the next one?\n",
    "\n",
    "In order to find the probability that Red Bull wins the first race we first define a predicate function `redbull_wins_first_race` where we check if the key of the joint probability distribution dictionary `joint_pd` either starts with `MV` or `SP`. This indicates that either Max Verstappen and Sergio Perez denoted by MV and SP respectively win the Netherlands Grand Prix."
   ]
  },
  {
   "cell_type": "code",
   "execution_count": 16,
   "metadata": {},
   "outputs": [],
   "source": [
    "def redbull_wins_first_race(outcome):\n",
    "    return outcome.startswith(\"MV\") or outcome.startswith(\"SP\")"
   ]
  },
  {
   "cell_type": "markdown",
   "metadata": {},
   "source": [
    "As we can see below, we can check the resultant dictionary and it clearly shows that either of `MV` or `SP` won the Netherlands Grand Prix"
   ]
  },
  {
   "cell_type": "code",
   "execution_count": 17,
   "metadata": {},
   "outputs": [
    {
     "data": {
      "text/plain": [
       "{'MV MV': 0.11184306709756849,\n",
       " 'MV CL': 0.07773257156048016,\n",
       " 'MV SP': 0.07707660049245924,\n",
       " 'MV GR': 0.06658106340412435,\n",
       " 'MV CS': 0.06625307787011388,\n",
       " 'MV LH': 0.05575754078177902,\n",
       " 'MV LN': 0.032798553401046475,\n",
       " 'MV EO': 0.021647045244690678,\n",
       " 'MV FA': 0.01935114650661742,\n",
       " 'MV VB': 0.015087334564481381,\n",
       " 'MV DR': 0.009511580486303479,\n",
       " 'MV SV': 0.007871652816251155,\n",
       " 'MV PG': 0.0075436672822406904,\n",
       " 'MV KM': 0.007215681748230226,\n",
       " 'MV LS': 0.004263811942136042,\n",
       " 'MV MS': 0.0039358264081255775,\n",
       " 'MV YT': 0.003607840874115113,\n",
       " 'MV ZG': 0.0019679132040627888,\n",
       " 'MV AA': 0.0013119421360418592,\n",
       " 'MV NV': 0.0006559710680209296,\n",
       " 'MV NL': 0.0,\n",
       " 'MV NH': 0.0,\n",
       " 'SP MV': 0.07707660049245924,\n",
       " 'SP CL': 0.0535693674976916,\n",
       " 'SP SP': 0.0531173053247153,\n",
       " 'SP GR': 0.04588431055709449,\n",
       " 'SP CS': 0.04565827947060634,\n",
       " 'SP LH': 0.03842528470298554,\n",
       " 'SP LN': 0.022603108648815023,\n",
       " 'SP EO': 0.014918051708217916,\n",
       " 'SP FA': 0.013335834102800863,\n",
       " 'SP VB': 0.01039742997845491,\n",
       " 'SP DR': 0.006554901508156356,\n",
       " 'SP SV': 0.005424746075715605,\n",
       " 'SP PG': 0.005198714989227455,\n",
       " 'SP KM': 0.0049726839027393055,\n",
       " 'SP LS': 0.0029384041243459527,\n",
       " 'SP MS': 0.0027123730378578025,\n",
       " 'SP YT': 0.0024863419513696527,\n",
       " 'SP ZG': 0.0013561865189289013,\n",
       " 'SP AA': 0.0009041243459526011,\n",
       " 'SP NV': 0.00045206217297630053,\n",
       " 'SP NL': 0.0,\n",
       " 'SP NH': 0.0}"
      ]
     },
     "execution_count": 17,
     "metadata": {},
     "output_type": "execute_result"
    }
   ],
   "source": [
    "such_that(redbull_wins_first_race, joint_pd)"
   ]
  },
  {
   "cell_type": "markdown",
   "metadata": {},
   "source": [
    "We then define another predicate function `redbull_wins_second_race_if_first_race_won` where we would check if the keys of the dictionary obtained from the predicate function `redbull_wins_first_race` end with either `MV` or `SP`. This means that Max Verstappen and Sergio Perez, denoted by MV and SP respectively, won the second race as well, which in turn signify that Red Bull won the second race provided Red Bull also won the first race"
   ]
  },
  {
   "cell_type": "code",
   "execution_count": 18,
   "metadata": {},
   "outputs": [],
   "source": [
    "def redbull_wins_second_race_if_first_race_won (outcome):\n",
    "    return outcome.endswith(\"MV\") or outcome.endswith(\"SP\")"
   ]
  },
  {
   "cell_type": "markdown",
   "metadata": {},
   "source": [
    "We then pass both these predicate functions to `p` to calculate the required probability. We pass the predicate function `redbull_wins_first_race` through the `such_that` function so that we could get a resultant dictionary which could be used as a collection argument for our `p` function"
   ]
  },
  {
   "cell_type": "code",
   "execution_count": 19,
   "metadata": {},
   "outputs": [
    {
     "data": {
      "text/plain": [
       "0.31911357340720226"
      ]
     },
     "execution_count": 19,
     "metadata": {},
     "output_type": "execute_result"
    }
   ],
   "source": [
    "p(redbull_wins_second_race_if_first_race_won, such_that(redbull_wins_first_race, joint_pd))"
   ]
  },
  {
   "cell_type": "markdown",
   "metadata": {},
   "source": [
    "### If Red Bull wins at least one of these two races, what is the probability Red Bull wins both races?\n",
    "\n",
    "Further, for the next part of the question, we are supposed to find the probability Red Bull wins both races if Red Bull wins at least one of these two races\n",
    "\n",
    "Here, we would make use of the predicate function `redbull_wins_atleast_one_race` from Question 1 to check if the keys of `joint_pd` contain either `MV` or `SP`. We check this by comparing the key string and check if it starts **or** ends with either `MV` **or** `SP`"
   ]
  },
  {
   "cell_type": "markdown",
   "metadata": {},
   "source": [
    "As we can see below, we can check the resultant dictionary and it clearly shows that either of `MV` or `SP` or both win atleast one of the races"
   ]
  },
  {
   "cell_type": "code",
   "execution_count": 20,
   "metadata": {},
   "outputs": [
    {
     "data": {
      "text/plain": [
       "{'MV MV': 0.06653814637808539,\n",
       " 'MV CL': 0.04624498736541419,\n",
       " 'MV SP': 0.045854734307478204,\n",
       " 'MV GR': 0.03961068538050245,\n",
       " 'MV CS': 0.03941555885153445,\n",
       " 'MV LH': 0.0331715099245587,\n",
       " 'MV LN': 0.019512652896799234,\n",
       " 'MV EO': 0.012878350911887496,\n",
       " 'MV FA': 0.011512465209111549,\n",
       " 'MV VB': 0.008975820332527648,\n",
       " 'MV DR': 0.005658669340071778,\n",
       " 'MV SV': 0.004683036695231816,\n",
       " 'MV PG': 0.004487910166263824,\n",
       " 'MV KM': 0.004292783637295832,\n",
       " 'MV LS': 0.0025366448765839003,\n",
       " 'MV MS': 0.002341518347615908,\n",
       " 'MV YT': 0.002146391818647916,\n",
       " 'MV ZG': 0.001170759173807954,\n",
       " 'MV AA': 0.0007805061158719694,\n",
       " 'MV NV': 0.0003902530579359847,\n",
       " 'MV NL': 0.0,\n",
       " 'MV NH': 0.0,\n",
       " 'CL MV': 0.04624498736541419,\n",
       " 'CL SP': 0.03186971270050538,\n",
       " 'SP MV': 0.045854734307478204,\n",
       " 'SP CL': 0.03186971270050538,\n",
       " 'SP SP': 0.031600769977294364,\n",
       " 'SP GR': 0.02729768640591811,\n",
       " 'SP CS': 0.027163215044312603,\n",
       " 'SP LH': 0.02286013147293635,\n",
       " 'SP LN': 0.013447136160550792,\n",
       " 'SP EO': 0.008875109865963524,\n",
       " 'SP FA': 0.007933810334724968,\n",
       " 'SP VB': 0.006185682633853365,\n",
       " 'SP DR': 0.0038996694865597297,\n",
       " 'SP SV': 0.00322731267853219,\n",
       " 'SP PG': 0.0030928413169266826,\n",
       " 'SP KM': 0.0029583699553211744,\n",
       " 'SP LS': 0.001748127700871603,\n",
       " 'SP MS': 0.001613656339266095,\n",
       " 'SP YT': 0.0014791849776605872,\n",
       " 'SP ZG': 0.0008068281696330475,\n",
       " 'SP AA': 0.0005378854464220318,\n",
       " 'SP NV': 0.0002689427232110159,\n",
       " 'SP NL': 0.0,\n",
       " 'SP NH': 0.0,\n",
       " 'GR MV': 0.03961068538050245,\n",
       " 'GR SP': 0.02729768640591811,\n",
       " 'CS MV': 0.03941555885153445,\n",
       " 'CS SP': 0.027163215044312603,\n",
       " 'LH MV': 0.0331715099245587,\n",
       " 'LH SP': 0.02286013147293635,\n",
       " 'LN MV': 0.019512652896799234,\n",
       " 'LN SP': 0.013447136160550792,\n",
       " 'EO MV': 0.012878350911887496,\n",
       " 'EO SP': 0.008875109865963524,\n",
       " 'FA MV': 0.011512465209111549,\n",
       " 'FA SP': 0.007933810334724968,\n",
       " 'VB MV': 0.008975820332527648,\n",
       " 'VB SP': 0.006185682633853365,\n",
       " 'DR MV': 0.005658669340071778,\n",
       " 'DR SP': 0.0038996694865597297,\n",
       " 'SV MV': 0.004683036695231816,\n",
       " 'SV SP': 0.00322731267853219,\n",
       " 'PG MV': 0.004487910166263824,\n",
       " 'PG SP': 0.0030928413169266826,\n",
       " 'KM MV': 0.004292783637295832,\n",
       " 'KM SP': 0.0029583699553211744,\n",
       " 'LS MV': 0.0025366448765839003,\n",
       " 'LS SP': 0.001748127700871603,\n",
       " 'MS MV': 0.002341518347615908,\n",
       " 'MS SP': 0.001613656339266095,\n",
       " 'YT MV': 0.002146391818647916,\n",
       " 'YT SP': 0.0014791849776605872,\n",
       " 'ZG MV': 0.001170759173807954,\n",
       " 'ZG SP': 0.0008068281696330475,\n",
       " 'AA MV': 0.0007805061158719694,\n",
       " 'AA SP': 0.0005378854464220318,\n",
       " 'NV MV': 0.0003902530579359847,\n",
       " 'NV SP': 0.0002689427232110159,\n",
       " 'NL MV': 0.0,\n",
       " 'NL SP': 0.0,\n",
       " 'NH MV': 0.0,\n",
       " 'NH SP': 0.0}"
      ]
     },
     "execution_count": 20,
     "metadata": {},
     "output_type": "execute_result"
    }
   ],
   "source": [
    "such_that(redbull_wins_atleast_one_race, joint_pd)"
   ]
  },
  {
   "cell_type": "markdown",
   "metadata": {},
   "source": [
    "Further, we want to calculate the probability that Red Bull wins both races given it wins atleast one race. \n",
    "\n",
    "Here, again we make use of the predicate function `redbull_wins_both_races` defined in Question 1 to determine the required outcome dictionary. In this predicate function, we check if the key contains only `MV` and `SP` or their combinations"
   ]
  },
  {
   "cell_type": "code",
   "execution_count": 21,
   "metadata": {},
   "outputs": [
    {
     "data": {
      "text/plain": [
       "0.18984838497033615"
      ]
     },
     "execution_count": 21,
     "metadata": {},
     "output_type": "execute_result"
    }
   ],
   "source": [
    "p(redbull_wins_both_races, such_that(redbull_wins_atleast_one_race, joint_pd))"
   ]
  },
  {
   "cell_type": "markdown",
   "metadata": {},
   "source": [
    "We are also supposed to do the same set of calculations for Ferrari, Mercedes, and Alpine-Renault"
   ]
  },
  {
   "cell_type": "markdown",
   "metadata": {},
   "source": [
    "### Ferrari"
   ]
  },
  {
   "cell_type": "markdown",
   "metadata": {},
   "source": [
    "### Part 1 : wins the first race, what is the probability that Ferrari wins the next one"
   ]
  },
  {
   "cell_type": "markdown",
   "metadata": {},
   "source": [
    "For this part of the question, we define a similar predicate function `ferrari_wins_first_race` for Ferrari where we would check first if the keys of the dictionary `joint_pd` start with either `CS` or `CL`"
   ]
  },
  {
   "cell_type": "code",
   "execution_count": 22,
   "metadata": {},
   "outputs": [],
   "source": [
    "def ferrari_wins_first_race(outcome):\n",
    "    return outcome.startswith(\"CS\") or outcome.startswith(\"CL\")"
   ]
  },
  {
   "cell_type": "markdown",
   "metadata": {},
   "source": [
    "Checking the resultant dictionary using the such_that function"
   ]
  },
  {
   "cell_type": "code",
   "execution_count": 23,
   "metadata": {
    "scrolled": true
   },
   "outputs": [
    {
     "data": {
      "text/plain": [
       "{'CL MV': 0.10199080004290789,\n",
       " 'CL CL': 0.07088510149609728,\n",
       " 'CL SP': 0.07028691498558168,\n",
       " 'CL GR': 0.06071593081733226,\n",
       " 'CL CS': 0.060416837562074464,\n",
       " 'CL LH': 0.05084585339382505,\n",
       " 'CL LN': 0.029909325525779438,\n",
       " 'CL EO': 0.019740154847014434,\n",
       " 'CL FA': 0.01764650206020987,\n",
       " 'CL VB': 0.013758289741858543,\n",
       " 'CL DR': 0.008673704402476038,\n",
       " 'CL SV': 0.007178238126187064,\n",
       " 'CL PG': 0.006879144870929272,\n",
       " 'CL KM': 0.006580051615671476,\n",
       " 'CL LS': 0.0038882123183513273,\n",
       " 'CL MS': 0.003589119063093532,\n",
       " 'CL YT': 0.003290025807835738,\n",
       " 'CL ZG': 0.001794559531546766,\n",
       " 'CL AA': 0.0011963730210311776,\n",
       " 'CL NV': 0.0005981865105155888,\n",
       " 'CL NL': 0.0,\n",
       " 'CL NH': 0.0,\n",
       " 'CS MV': 0.0869288675471198,\n",
       " 'CS CL': 0.060416837562074464,\n",
       " 'CS SP': 0.05990699083159282,\n",
       " 'CS GR': 0.05174944314388656,\n",
       " 'CS CS': 0.05149451977864575,\n",
       " 'CS LH': 0.043336972090939486,\n",
       " 'CS LN': 0.02549233652408205,\n",
       " 'CS EO': 0.016824942105894154,\n",
       " 'CS FA': 0.015040478549208411,\n",
       " 'CS VB': 0.011726474801077745,\n",
       " 'CS DR': 0.007392777591983795,\n",
       " 'CS SV': 0.0061181607657796915,\n",
       " 'CS PG': 0.005863237400538872,\n",
       " 'CS KM': 0.0056083140352980515,\n",
       " 'CS LS': 0.0033140037481306666,\n",
       " 'CS MS': 0.0030590803828898457,\n",
       " 'CS YT': 0.0028041570176490257,\n",
       " 'CS ZG': 0.0015295401914449229,\n",
       " 'CS AA': 0.0010196934609632822,\n",
       " 'CS NV': 0.0005098467304816411,\n",
       " 'CS NL': 0.0,\n",
       " 'CS NH': 0.0}"
      ]
     },
     "execution_count": 23,
     "metadata": {},
     "output_type": "execute_result"
    }
   ],
   "source": [
    "such_that(ferrari_wins_first_race, joint_pd)"
   ]
  },
  {
   "cell_type": "markdown",
   "metadata": {},
   "source": [
    "We then define another predicate function `ferrari_wins_second_race_if_first_race_won` where we would check if the keys of the dictionary obtained from the predicate function `ferrari_wins_first_race` end with either `CS` or `CL`."
   ]
  },
  {
   "cell_type": "code",
   "execution_count": 24,
   "metadata": {},
   "outputs": [],
   "source": [
    "def ferrari_wins_second_race_if_first_race_won (outcome):\n",
    "    return outcome.endswith(\"CS\") or outcome.endswith(\"CL\")"
   ]
  },
  {
   "cell_type": "markdown",
   "metadata": {},
   "source": [
    "We then pass both these predicate functions to `p` to calculate the required probability. We pass the predicate function `ferrari_wins_first_race` through the `such_that` function so that we could get a resultant dictionary which could be used as a collection argument for our `p` function"
   ]
  },
  {
   "cell_type": "code",
   "execution_count": 25,
   "metadata": {},
   "outputs": [
    {
     "data": {
      "text/plain": [
       "0.24321329639889197"
      ]
     },
     "execution_count": 25,
     "metadata": {},
     "output_type": "execute_result"
    }
   ],
   "source": [
    "p(ferrari_wins_second_race_if_first_race_won, such_that(ferrari_wins_first_race, joint_pd))"
   ]
  },
  {
   "cell_type": "markdown",
   "metadata": {},
   "source": [
    "### Part 2 : wins at least one of these two races, what is the probability Ferrari wins both races"
   ]
  },
  {
   "cell_type": "markdown",
   "metadata": {},
   "source": [
    "For this part of the question, we define a similar predicate function `ferrari_wins_atleast_one_race` for **Ferrari** where we would check first if the keys of the dictionary `joint_pd` either start **or** end with either `CS` **or** `CL`"
   ]
  },
  {
   "cell_type": "code",
   "execution_count": 26,
   "metadata": {},
   "outputs": [],
   "source": [
    "def ferrari_wins_atleast_one_race(outcome):\n",
    "    return outcome.startswith(\"CL\") or outcome.startswith(\"CS\") or outcome.endswith(\"CL\") or outcome.endswith(\"CS\")"
   ]
  },
  {
   "cell_type": "markdown",
   "metadata": {},
   "source": [
    "We again check the resultant dictionary using the `such_that` function"
   ]
  },
  {
   "cell_type": "code",
   "execution_count": 27,
   "metadata": {},
   "outputs": [
    {
     "data": {
      "text/plain": [
       "{'MV CL': 0.05805531191341808,\n",
       " 'MV CS': 0.049481742643504016,\n",
       " 'CL MV': 0.05805531191341808,\n",
       " 'CL CL': 0.04034929303073339,\n",
       " 'CL SP': 0.040008792667604834,\n",
       " 'CL GR': 0.03456078685754801,\n",
       " 'CL CS': 0.034390536675983734,\n",
       " 'CL LH': 0.028942530865926904,\n",
       " 'CL LN': 0.01702501815642759,\n",
       " 'CL EO': 0.011236511983242211,\n",
       " 'CL FA': 0.010044760712292277,\n",
       " 'CL VB': 0.007831508351956692,\n",
       " 'CL DR': 0.004937255265364001,\n",
       " 'CL SV': 0.004086004357542621,\n",
       " 'CL PG': 0.003915754175978346,\n",
       " 'CL KM': 0.00374550399441407,\n",
       " 'CL LS': 0.0022132523603355866,\n",
       " 'CL MS': 0.0020430021787713106,\n",
       " 'CL YT': 0.001872751997207035,\n",
       " 'CL ZG': 0.0010215010893856553,\n",
       " 'CL AA': 0.0006810007262571036,\n",
       " 'CL NV': 0.0003405003631285518,\n",
       " 'CL NL': 0.0,\n",
       " 'CL NH': 0.0,\n",
       " 'SP CL': 0.040008792667604834,\n",
       " 'SP CS': 0.03410032117660834,\n",
       " 'GR CL': 0.03456078685754801,\n",
       " 'GR CS': 0.029456873186602096,\n",
       " 'CS MV': 0.049481742643504016,\n",
       " 'CS CL': 0.034390536675983734,\n",
       " 'CS SP': 0.03410032117660834,\n",
       " 'CS GR': 0.029456873186602096,\n",
       " 'CS CS': 0.029311765436914404,\n",
       " 'CS LH': 0.024668317446908162,\n",
       " 'CS LN': 0.014510774968769504,\n",
       " 'CS EO': 0.009577111479387874,\n",
       " 'CS FA': 0.008561357231574009,\n",
       " 'CS VB': 0.006674956485633973,\n",
       " 'CS DR': 0.004208124740943157,\n",
       " 'CS SV': 0.003482585992504681,\n",
       " 'CS PG': 0.0033374782428169866,\n",
       " 'CS KM': 0.0031923704931292917,\n",
       " 'CS LS': 0.0018864007459400355,\n",
       " 'CS MS': 0.0017412929962523406,\n",
       " 'CS YT': 0.0015961852465646458,\n",
       " 'CS ZG': 0.0008706464981261703,\n",
       " 'CS AA': 0.0005804309987507804,\n",
       " 'CS NV': 0.0002902154993753902,\n",
       " 'CS NL': 0.0,\n",
       " 'CS NH': 0.0,\n",
       " 'LH CL': 0.028942530865926904,\n",
       " 'LH CS': 0.024668317446908162,\n",
       " 'LN CL': 0.01702501815642759,\n",
       " 'LN CS': 0.014510774968769504,\n",
       " 'EO CL': 0.011236511983242211,\n",
       " 'EO CS': 0.009577111479387874,\n",
       " 'FA CL': 0.010044760712292277,\n",
       " 'FA CS': 0.008561357231574009,\n",
       " 'VB CL': 0.007831508351956692,\n",
       " 'VB CS': 0.006674956485633973,\n",
       " 'DR CL': 0.004937255265364001,\n",
       " 'DR CS': 0.004208124740943157,\n",
       " 'SV CL': 0.004086004357542621,\n",
       " 'SV CS': 0.003482585992504681,\n",
       " 'PG CL': 0.003915754175978346,\n",
       " 'PG CS': 0.0033374782428169866,\n",
       " 'KM CL': 0.00374550399441407,\n",
       " 'KM CS': 0.0031923704931292917,\n",
       " 'LS CL': 0.0022132523603355866,\n",
       " 'LS CS': 0.0018864007459400355,\n",
       " 'MS CL': 0.0020430021787713106,\n",
       " 'MS CS': 0.0017412929962523406,\n",
       " 'YT CL': 0.001872751997207035,\n",
       " 'YT CS': 0.0015961852465646458,\n",
       " 'ZG CL': 0.0010215010893856553,\n",
       " 'ZG CS': 0.0008706464981261703,\n",
       " 'AA CL': 0.0006810007262571036,\n",
       " 'AA CS': 0.0005804309987507804,\n",
       " 'NV CL': 0.0003405003631285518,\n",
       " 'NV CS': 0.0002902154993753902,\n",
       " 'NL CL': 0.0,\n",
       " 'NL CS': 0.0,\n",
       " 'NH CL': 0.0,\n",
       " 'NH CS': 0.0}"
      ]
     },
     "execution_count": 27,
     "metadata": {},
     "output_type": "execute_result"
    }
   ],
   "source": [
    "such_that(ferrari_wins_atleast_one_race, joint_pd)"
   ]
  },
  {
   "cell_type": "markdown",
   "metadata": {},
   "source": [
    "We would then define another predicate function `ferrari_wins_both_races` similar to `redbull_wins_both_races` where we would check if the keys obtained from the output dictionary returned in `ferrari_wins_atleast_one_race` contains only `CS` **or** `CL`"
   ]
  },
  {
   "cell_type": "code",
   "execution_count": 28,
   "metadata": {},
   "outputs": [],
   "source": [
    "def ferrari_wins_both_the_races (outcome):\n",
    "    return (outcome.startswith(\"CL\") or outcome.startswith(\"CS\")) and (outcome.endswith(\"CL\") or outcome.endswith(\"CS\"))"
   ]
  },
  {
   "cell_type": "markdown",
   "metadata": {},
   "source": [
    "We now pass both these predicate functions to our probability function `p` using the `such_that` function to calculate the required probability"
   ]
  },
  {
   "cell_type": "code",
   "execution_count": 29,
   "metadata": {},
   "outputs": [
    {
     "data": {
      "text/plain": [
       "0.13844213181961526"
      ]
     },
     "execution_count": 29,
     "metadata": {},
     "output_type": "execute_result"
    }
   ],
   "source": [
    "p(ferrari_wins_both_the_races, such_that(ferrari_wins_atleast_one_race, joint_pd))"
   ]
  },
  {
   "cell_type": "markdown",
   "metadata": {},
   "source": [
    "### Mercedes"
   ]
  },
  {
   "cell_type": "markdown",
   "metadata": {},
   "source": [
    "### Part 1 : wins the first race, what is the probability that Mercedes wins the next one"
   ]
  },
  {
   "cell_type": "markdown",
   "metadata": {},
   "source": [
    "For this part of the question, we define a similar predicate function `mercedes_wins_first_race` for Mercedes where we would check first if the keys of the dictionary `joint_pd` start with either `GR` or `LH`"
   ]
  },
  {
   "cell_type": "code",
   "execution_count": 30,
   "metadata": {},
   "outputs": [],
   "source": [
    "def mercedes_wins_first_race(outcome):\n",
    "    return outcome.startswith(\"GR\") or outcome.startswith(\"LH\")"
   ]
  },
  {
   "cell_type": "markdown",
   "metadata": {},
   "source": [
    "We again check the resultant dictionary using the `such_that` function"
   ]
  },
  {
   "cell_type": "code",
   "execution_count": 31,
   "metadata": {},
   "outputs": [
    {
     "data": {
      "text/plain": [
       "{'GR MV': 0.10281687002888909,\n",
       " 'GR CL': 0.07145923224881734,\n",
       " 'GR SP': 0.07085620075304673,\n",
       " 'GR GR': 0.06120769682071695,\n",
       " 'GR CS': 0.06090618107283165,\n",
       " 'GR LH': 0.05125767714050189,\n",
       " 'GR LN': 0.03015157478853052,\n",
       " 'GR EO': 0.019900039360430145,\n",
       " 'GR FA': 0.01778942912523301,\n",
       " 'GR VB': 0.013869724402724042,\n",
       " 'GR DR': 0.008743956688673851,\n",
       " 'GR SV': 0.007236377949247324,\n",
       " 'GR PG': 0.006934862201362021,\n",
       " 'GR KM': 0.006633346453476715,\n",
       " 'GR LS': 0.003919704722508967,\n",
       " 'GR MS': 0.003618188974623662,\n",
       " 'GR YT': 0.0033166732267383577,\n",
       " 'GR ZG': 0.001809094487311831,\n",
       " 'GR AA': 0.001206062991541221,\n",
       " 'GR NV': 0.0006030314957706105,\n",
       " 'GR NL': 0.0,\n",
       " 'GR NH': 0.0,\n",
       " 'LH MV': 0.08610279756113864,\n",
       " 'LH CL': 0.059842706809354426,\n",
       " 'LH SP': 0.059337705064127805,\n",
       " 'LH GR': 0.05125767714050189,\n",
       " 'LH CS': 0.05100517626788858,\n",
       " 'LH LH': 0.04292514834426266,\n",
       " 'LH LN': 0.02525008726133098,\n",
       " 'LH EO': 0.01666505759247845,\n",
       " 'LH FA': 0.014897551484185279,\n",
       " 'LH VB': 0.011615040140212252,\n",
       " 'LH DR': 0.007322525305785984,\n",
       " 'LH SV': 0.006060020942719435,\n",
       " 'LH PG': 0.005807520070106126,\n",
       " 'LH KM': 0.005555019197492815,\n",
       " 'LH LS': 0.0032825113439730273,\n",
       " 'LH MS': 0.0030300104713597174,\n",
       " 'LH YT': 0.0027775095987464075,\n",
       " 'LH ZG': 0.0015150052356798587,\n",
       " 'LH AA': 0.0010100034904532392,\n",
       " 'LH NV': 0.0005050017452266196,\n",
       " 'LH NL': 0.0,\n",
       " 'LH NH': 0.0}"
      ]
     },
     "execution_count": 31,
     "metadata": {},
     "output_type": "execute_result"
    }
   ],
   "source": [
    "such_that(mercedes_wins_first_race, joint_pd)"
   ]
  },
  {
   "cell_type": "markdown",
   "metadata": {},
   "source": [
    "We then define another predicate function `mercedes_wins_second_race_if_first_race_won` where we would check if the keys of the dictionary obtained from the predicate function `mercedes_wins_first_race` end with either `GR` or `LH`."
   ]
  },
  {
   "cell_type": "code",
   "execution_count": 32,
   "metadata": {},
   "outputs": [],
   "source": [
    "def mercedes_wins_second_race_if_first_race_won (outcome):\n",
    "    return outcome.endswith(\"GR\") or outcome.endswith(\"LH\")"
   ]
  },
  {
   "cell_type": "markdown",
   "metadata": {},
   "source": [
    "We now pass both these predicate functions to our probability function `p` using the `such_that` function to calculate the required probability"
   ]
  },
  {
   "cell_type": "code",
   "execution_count": 33,
   "metadata": {},
   "outputs": [
    {
     "data": {
      "text/plain": [
       "0.2066481994459834"
      ]
     },
     "execution_count": 33,
     "metadata": {},
     "output_type": "execute_result"
    }
   ],
   "source": [
    "p(mercedes_wins_second_race_if_first_race_won, such_that(mercedes_wins_first_race, joint_pd))"
   ]
  },
  {
   "cell_type": "markdown",
   "metadata": {},
   "source": [
    "### Part 2 : wins at least one of these two races, what is the probability Mercedes wins both races"
   ]
  },
  {
   "cell_type": "markdown",
   "metadata": {},
   "source": [
    "Now lets define similar functions `mercedes_wins_atleast_one_race` and `mercedes_wins_both_races` for Mercedes where we would check the same conditions as in case of Red Bull and Ferrari but now for the two drivers `GR` and `LH`"
   ]
  },
  {
   "cell_type": "code",
   "execution_count": 34,
   "metadata": {},
   "outputs": [],
   "source": [
    "def mercedes_wins_atleast_one_race (outcome):\n",
    "    return outcome.startswith(\"LH\") or outcome.startswith(\"GR\") or outcome.endswith(\"LH\") or outcome.endswith(\"GR\")"
   ]
  },
  {
   "cell_type": "markdown",
   "metadata": {},
   "source": [
    "Checking the resultant dictionary using `such_that` function"
   ]
  },
  {
   "cell_type": "code",
   "execution_count": 35,
   "metadata": {},
   "outputs": [
    {
     "data": {
      "text/plain": [
       "{'MV GR': 0.057332236763096886,\n",
       " 'MV LH': 0.048012217978948134,\n",
       " 'CL GR': 0.03984674519898523,\n",
       " 'CL LH': 0.033369195486834924,\n",
       " 'SP GR': 0.03951048574582923,\n",
       " 'SP LH': 0.03308759890044813,\n",
       " 'GR MV': 0.057332236763096886,\n",
       " 'GR CL': 0.03984674519898523,\n",
       " 'GR SP': 0.03951048574582923,\n",
       " 'GR GR': 0.034130334495333335,\n",
       " 'GR CS': 0.03396220476875533,\n",
       " 'GR LH': 0.028582053518259445,\n",
       " 'GR LN': 0.01681297265779967,\n",
       " 'GR EO': 0.011096561954147785,\n",
       " 'GR FA': 0.009919653868101808,\n",
       " 'GR VB': 0.00773396742258785,\n",
       " 'GR DR': 0.0048757620707619055,\n",
       " 'GR SV': 0.004035113437871921,\n",
       " 'GR PG': 0.003866983711293925,\n",
       " 'GR KM': 0.0036988539847159284,\n",
       " 'GR LS': 0.0021856864455139574,\n",
       " 'GR MS': 0.0020175567189359605,\n",
       " 'GR YT': 0.0018494269923579642,\n",
       " 'GR ZG': 0.0010087783594679802,\n",
       " 'GR AA': 0.0006725189063119869,\n",
       " 'GR NV': 0.00033625945315599346,\n",
       " 'GR NL': 0.0,\n",
       " 'GR NH': 0.0,\n",
       " 'CS GR': 0.03396220476875533,\n",
       " 'CS LH': 0.028441255225066048,\n",
       " 'LH MV': 0.048012217978948134,\n",
       " 'LH CL': 0.033369195486834924,\n",
       " 'LH SP': 0.03308759890044813,\n",
       " 'LH GR': 0.028582053518259445,\n",
       " 'LH CS': 0.028441255225066048,\n",
       " 'LH LH': 0.023935709842877365,\n",
       " 'LH LN': 0.014079829319339626,\n",
       " 'LH EO': 0.009292687350764155,\n",
       " 'LH FA': 0.008307099298410382,\n",
       " 'LH VB': 0.0064767214868962295,\n",
       " 'LH DR': 0.004083150502608492,\n",
       " 'LH SV': 0.0033791590366415106,\n",
       " 'LH PG': 0.0032383607434481147,\n",
       " 'LH KM': 0.003097562450254718,\n",
       " 'LH LS': 0.0018303778115141517,\n",
       " 'LH MS': 0.0016895795183207553,\n",
       " 'LH YT': 0.001548781225127359,\n",
       " 'LH ZG': 0.0008447897591603777,\n",
       " 'LH AA': 0.0005631931727735852,\n",
       " 'LH NV': 0.0002815965863867926,\n",
       " 'LH NL': 0.0,\n",
       " 'LH NH': 0.0,\n",
       " 'LN GR': 0.01681297265779967,\n",
       " 'LN LH': 0.014079829319339626,\n",
       " 'EO GR': 0.011096561954147785,\n",
       " 'EO LH': 0.009292687350764155,\n",
       " 'FA GR': 0.009919653868101808,\n",
       " 'FA LH': 0.008307099298410382,\n",
       " 'VB GR': 0.00773396742258785,\n",
       " 'VB LH': 0.0064767214868962295,\n",
       " 'DR GR': 0.0048757620707619055,\n",
       " 'DR LH': 0.004083150502608492,\n",
       " 'SV GR': 0.004035113437871921,\n",
       " 'SV LH': 0.0033791590366415106,\n",
       " 'PG GR': 0.003866983711293925,\n",
       " 'PG LH': 0.0032383607434481147,\n",
       " 'KM GR': 0.0036988539847159284,\n",
       " 'KM LH': 0.003097562450254718,\n",
       " 'LS GR': 0.0021856864455139574,\n",
       " 'LS LH': 0.0018303778115141517,\n",
       " 'MS GR': 0.0020175567189359605,\n",
       " 'MS LH': 0.0016895795183207553,\n",
       " 'YT GR': 0.0018494269923579642,\n",
       " 'YT LH': 0.001548781225127359,\n",
       " 'ZG GR': 0.0010087783594679802,\n",
       " 'ZG LH': 0.0008447897591603777,\n",
       " 'AA GR': 0.0006725189063119869,\n",
       " 'AA LH': 0.0005631931727735852,\n",
       " 'NV GR': 0.00033625945315599346,\n",
       " 'NV LH': 0.0002815965863867926,\n",
       " 'NL GR': 0.0,\n",
       " 'NL LH': 0.0,\n",
       " 'NH GR': 0.0,\n",
       " 'NH LH': 0.0}"
      ]
     },
     "execution_count": 35,
     "metadata": {},
     "output_type": "execute_result"
    }
   ],
   "source": [
    "such_that(mercedes_wins_atleast_one_race, joint_pd)"
   ]
  },
  {
   "cell_type": "markdown",
   "metadata": {},
   "source": [
    "Defining the predicate function `mercedes_wins_both_races` having the same function as `redbull_wins_both_races` and `ferrari_wins_both_races` but considering the team drivers `LH` and `GR`"
   ]
  },
  {
   "cell_type": "code",
   "execution_count": 36,
   "metadata": {},
   "outputs": [],
   "source": [
    "def mercedes_wins_both_races(outcome):\n",
    "    return (outcome.startswith(\"LH\") or outcome.startswith(\"GR\")) and (outcome.endswith(\"LH\") or outcome.endswith(\"GR\"))"
   ]
  },
  {
   "cell_type": "markdown",
   "metadata": {},
   "source": [
    "Now passing both the predicate functions to our probability function `p` by using `such_that` to generate the second collection argument"
   ]
  },
  {
   "cell_type": "code",
   "execution_count": 37,
   "metadata": {},
   "outputs": [
    {
     "data": {
      "text/plain": [
       "0.11523015137472958"
      ]
     },
     "execution_count": 37,
     "metadata": {},
     "output_type": "execute_result"
    }
   ],
   "source": [
    "p(mercedes_wins_both_races, such_that(mercedes_wins_atleast_one_race, joint_pd))"
   ]
  },
  {
   "cell_type": "markdown",
   "metadata": {},
   "source": [
    "### Alpine-Renault"
   ]
  },
  {
   "cell_type": "markdown",
   "metadata": {},
   "source": [
    "### Part 1 : wins the first race, what is the probability that Alpine-Renault wins the next one"
   ]
  },
  {
   "cell_type": "markdown",
   "metadata": {},
   "source": [
    "For this part of the question, we define a similar predicate function `alpinerenault_wins_first_race` for Alpine-Renault where we would check first if the keys of the dictionary `joint_pd` start with either `EO` or `FA`"
   ]
  },
  {
   "cell_type": "code",
   "execution_count": 38,
   "metadata": {},
   "outputs": [],
   "source": [
    "def aplinerenault_wins_first_race(outcome):\n",
    "    return outcome.startswith(\"EO\") or outcome.startswith(\"FA\")"
   ]
  },
  {
   "cell_type": "markdown",
   "metadata": {},
   "source": [
    "We again check the resultant dictionary using the `such_that` function"
   ]
  },
  {
   "cell_type": "code",
   "execution_count": 39,
   "metadata": {
    "scrolled": true
   },
   "outputs": [
    {
     "data": {
      "text/plain": [
       "{'EO MV': 0.09974958448753464,\n",
       " 'EO CL': 0.0693274238227147,\n",
       " 'EO SP': 0.06874238227146816,\n",
       " 'EO GR': 0.059381717451523555,\n",
       " 'EO CS': 0.059089196675900284,\n",
       " 'EO LH': 0.049728531855955695,\n",
       " 'EO LN': 0.029252077562326877,\n",
       " 'EO EO': 0.019306371191135742,\n",
       " 'EO FA': 0.01725872576177286,\n",
       " 'EO VB': 0.013455955678670365,\n",
       " 'EO DR': 0.008483102493074796,\n",
       " 'EO SV': 0.0070204986149584505,\n",
       " 'EO PG': 0.0067279778393351825,\n",
       " 'EO KM': 0.006435457063711913,\n",
       " 'EO LS': 0.003802770083102494,\n",
       " 'EO MS': 0.0035102493074792252,\n",
       " 'EO YT': 0.0032177285318559564,\n",
       " 'EO ZG': 0.0017551246537396126,\n",
       " 'EO AA': 0.0011700831024930752,\n",
       " 'EO NV': 0.0005850415512465376,\n",
       " 'EO NL': 0.0,\n",
       " 'EO NH': 0.0,\n",
       " 'FA MV': 0.0891700831024931,\n",
       " 'FA CL': 0.06197451523545707,\n",
       " 'FA SP': 0.061451523545706384,\n",
       " 'FA GR': 0.0530836565096953,\n",
       " 'FA CS': 0.05282216066481995,\n",
       " 'FA LH': 0.04445429362880887,\n",
       " 'FA LN': 0.02614958448753463,\n",
       " 'FA EO': 0.01725872576177286,\n",
       " 'FA FA': 0.015428254847645434,\n",
       " 'FA VB': 0.012028808864265932,\n",
       " 'FA DR': 0.007583379501385042,\n",
       " 'FA SV': 0.0062759002770083104,\n",
       " 'FA PG': 0.006014404432132966,\n",
       " 'FA KM': 0.005752908587257619,\n",
       " 'FA LS': 0.003399445983379502,\n",
       " 'FA MS': 0.0031379501385041552,\n",
       " 'FA YT': 0.0028764542936288097,\n",
       " 'FA ZG': 0.0015689750692520776,\n",
       " 'FA AA': 0.0010459833795013853,\n",
       " 'FA NV': 0.0005229916897506926,\n",
       " 'FA NL': 0.0,\n",
       " 'FA NH': 0.0}"
      ]
     },
     "execution_count": 39,
     "metadata": {},
     "output_type": "execute_result"
    }
   ],
   "source": [
    "such_that(aplinerenault_wins_first_race, joint_pd)"
   ]
  },
  {
   "cell_type": "markdown",
   "metadata": {},
   "source": [
    "We would then define another predicate function `alpinerenault_wins_both_races` similar to `redbull_wins_both_races` where we would check if the keys obtained from the output dictionary returned in `alpinerenault_wins_atleast_one_race` contains only `EO` **or** `FA`"
   ]
  },
  {
   "cell_type": "code",
   "execution_count": 40,
   "metadata": {},
   "outputs": [],
   "source": [
    "def alpinerenault_wins_second_race_if_first_race_won(outcome):\n",
    "    return outcome.endswith(\"EO\") or outcome.endswith(\"FA\")"
   ]
  },
  {
   "cell_type": "markdown",
   "metadata": {},
   "source": [
    "We now pass both these predicate functions to our probability function `p` using the `such_that` function to calculate the required probability"
   ]
  },
  {
   "cell_type": "code",
   "execution_count": 41,
   "metadata": {},
   "outputs": [
    {
     "data": {
      "text/plain": [
       "0.06925207756232689"
      ]
     },
     "execution_count": 41,
     "metadata": {},
     "output_type": "execute_result"
    }
   ],
   "source": [
    "p(alpinerenault_wins_second_race_if_first_race_won, such_that(aplinerenault_wins_first_race, joint_pd))"
   ]
  },
  {
   "cell_type": "markdown",
   "metadata": {},
   "source": [
    "### Part 2 : wins at least one of these two races, what is the probability Ferrari wins both races"
   ]
  },
  {
   "cell_type": "markdown",
   "metadata": {},
   "source": [
    "Let us also define similar functions `alpinerenault_wins_atleast_one_race` and `alpinerenault_wins_both_races` for Alpine-Renault where we would check the same conditions as in case of Red Bull, Ferrari and Mercedes, but now for the two drivers `EO` and `FA`"
   ]
  },
  {
   "cell_type": "code",
   "execution_count": 42,
   "metadata": {},
   "outputs": [],
   "source": [
    "def alpinerenault_wins_atleast_one_race(outcome):\n",
    "    return outcome.startswith(\"FA\") or outcome.startswith(\"EO\") or outcome.endswith(\"FA\") or outcome.endswith(\"EO\")"
   ]
  },
  {
   "cell_type": "markdown",
   "metadata": {},
   "source": [
    "Checking the resultant dictionary obtained from the above predicate function by using the `such_that` function"
   ]
  },
  {
   "cell_type": "code",
   "execution_count": 43,
   "metadata": {},
   "outputs": [
    {
     "data": {
      "text/plain": [
       "{'MV EO': 0.05166370157819224,\n",
       " 'MV FA': 0.04618421807747488,\n",
       " 'CL EO': 0.03590703012912482,\n",
       " 'CL FA': 0.032098708751793395,\n",
       " 'SP EO': 0.035604017216642754,\n",
       " 'SP FA': 0.03182783357245336,\n",
       " 'GR EO': 0.030755810616929693,\n",
       " 'GR FA': 0.02749383070301291,\n",
       " 'CS EO': 0.03060430416068866,\n",
       " 'CS FA': 0.027358393113342892,\n",
       " 'LH EO': 0.02575609756097561,\n",
       " 'LH FA': 0.023024390243902435,\n",
       " 'LN EO': 0.015150645624103298,\n",
       " 'LN FA': 0.013543758967001432,\n",
       " 'EO MV': 0.05166370157819224,\n",
       " 'EO CL': 0.03590703012912482,\n",
       " 'EO SP': 0.035604017216642754,\n",
       " 'EO GR': 0.030755810616929693,\n",
       " 'EO CS': 0.03060430416068866,\n",
       " 'EO LH': 0.02575609756097561,\n",
       " 'EO LN': 0.015150645624103298,\n",
       " 'EO EO': 0.009999426111908178,\n",
       " 'EO FA': 0.008938880918220947,\n",
       " 'EO VB': 0.0069692969870875175,\n",
       " 'EO DR': 0.004393687230989957,\n",
       " 'EO SV': 0.003636154949784791,\n",
       " 'EO PG': 0.0034846484935437587,\n",
       " 'EO KM': 0.0033331420373027255,\n",
       " 'EO LS': 0.0019695839311334286,\n",
       " 'EO MS': 0.0018180774748923956,\n",
       " 'EO YT': 0.0016665710186513627,\n",
       " 'EO ZG': 0.0009090387374461978,\n",
       " 'EO AA': 0.0006060258249641319,\n",
       " 'EO NV': 0.00030301291248206595,\n",
       " 'EO NL': 0.0,\n",
       " 'EO NH': 0.0,\n",
       " 'FA MV': 0.04618421807747488,\n",
       " 'FA CL': 0.032098708751793395,\n",
       " 'FA SP': 0.03182783357245336,\n",
       " 'FA GR': 0.02749383070301291,\n",
       " 'FA CS': 0.027358393113342892,\n",
       " 'FA LH': 0.023024390243902435,\n",
       " 'FA LN': 0.013543758967001432,\n",
       " 'FA EO': 0.008938880918220947,\n",
       " 'FA FA': 0.007990817790530846,\n",
       " 'FA VB': 0.006230129124820659,\n",
       " 'FA DR': 0.003927690100430415,\n",
       " 'FA SV': 0.0032505021520803433,\n",
       " 'FA PG': 0.0031150645624103295,\n",
       " 'FA KM': 0.0029796269727403154,\n",
       " 'FA LS': 0.0017606886657101862,\n",
       " 'FA MS': 0.0016252510760401716,\n",
       " 'FA YT': 0.0014898134863701577,\n",
       " 'FA ZG': 0.0008126255380200858,\n",
       " 'FA AA': 0.0005417503586800574,\n",
       " 'FA NV': 0.0002708751793400287,\n",
       " 'FA NL': 0.0,\n",
       " 'FA NH': 0.0,\n",
       " 'VB EO': 0.0069692969870875175,\n",
       " 'VB FA': 0.006230129124820659,\n",
       " 'DR EO': 0.004393687230989957,\n",
       " 'DR FA': 0.003927690100430415,\n",
       " 'SV EO': 0.003636154949784791,\n",
       " 'SV FA': 0.0032505021520803433,\n",
       " 'PG EO': 0.0034846484935437587,\n",
       " 'PG FA': 0.0031150645624103295,\n",
       " 'KM EO': 0.0033331420373027255,\n",
       " 'KM FA': 0.0029796269727403154,\n",
       " 'LS EO': 0.0019695839311334286,\n",
       " 'LS FA': 0.0017606886657101862,\n",
       " 'MS EO': 0.0018180774748923956,\n",
       " 'MS FA': 0.0016252510760401716,\n",
       " 'YT EO': 0.0016665710186513627,\n",
       " 'YT FA': 0.0014898134863701577,\n",
       " 'ZG EO': 0.0009090387374461978,\n",
       " 'ZG FA': 0.0008126255380200858,\n",
       " 'AA EO': 0.0006060258249641319,\n",
       " 'AA FA': 0.0005417503586800574,\n",
       " 'NV EO': 0.00030301291248206595,\n",
       " 'NV FA': 0.0002708751793400287,\n",
       " 'NL EO': 0.0,\n",
       " 'NL FA': 0.0,\n",
       " 'NH EO': 0.0,\n",
       " 'NH FA': 0.0}"
      ]
     },
     "execution_count": 43,
     "metadata": {},
     "output_type": "execute_result"
    }
   ],
   "source": [
    "such_that(alpinerenault_wins_atleast_one_race, joint_pd)"
   ]
  },
  {
   "cell_type": "markdown",
   "metadata": {},
   "source": [
    "Now defining a predicate function `alpinerenault_wins_both_the_races` similar to those defined for Red Bull, Ferrari and Mercedes"
   ]
  },
  {
   "cell_type": "code",
   "execution_count": 44,
   "metadata": {},
   "outputs": [],
   "source": [
    "def alpinerenault_wins_both_the_races(outcome):\n",
    "    return (outcome.startswith(\"FA\") or outcome.startswith(\"EO\")) and (outcome.endswith(\"FA\") or outcome.endswith(\"EO\"))"
   ]
  },
  {
   "cell_type": "code",
   "execution_count": 45,
   "metadata": {},
   "outputs": [
    {
     "data": {
      "text/plain": [
       "0.035868005738880916"
      ]
     },
     "execution_count": 45,
     "metadata": {},
     "output_type": "execute_result"
    }
   ],
   "source": [
    "p(alpinerenault_wins_both_the_races, such_that(alpinerenault_wins_atleast_one_race, joint_pd))"
   ]
  },
  {
   "cell_type": "markdown",
   "metadata": {},
   "source": [
    "## Question 3:\n",
    "\n",
    "Red Bull wins one of these two races on a rainy day. What is the probability Red Bull wins both races? Assuming races can be held on either rainy, sunny, cloudy, snowy or foggy days? \n",
    "\n",
    "<br>Assume that rain, sun, clouds, snow, and fog are the only possible weather conditions on race tracks and there is an equal probability for each one of these weather events."
   ]
  },
  {
   "cell_type": "markdown",
   "metadata": {},
   "source": [
    "## Solution:\n",
    "\n",
    "There are 5 possible weather conditions and there is an equal probability for each one of these weather events. Hence probability of each weather is 1/5 or 20%"
   ]
  },
  {
   "cell_type": "code",
   "execution_count": 46,
   "metadata": {},
   "outputs": [
    {
     "data": {
      "text/plain": [
       "{'rainy': 0.2, 'sunny': 0.2, 'cloudy': 0.2, 'snowy': 0.2, 'foggy': 0.2}"
      ]
     },
     "execution_count": 46,
     "metadata": {},
     "output_type": "execute_result"
    }
   ],
   "source": [
    "weather = ProbDist(rainy = 0.2, sunny = 0.2 , cloudy = 0.2 , snowy = 0.2 , foggy = 0.2)\n",
    "weather"
   ]
  },
  {
   "cell_type": "markdown",
   "metadata": {},
   "source": [
    "Now that we have the Probability Distribution for the weather, lets find the *joint probability distribution* for *Netherlands Grand Prix and weather* and also for the *Italian Grand Prix and weather*. \n",
    "Here we use the same function `joint_prob` defined in Question 1. Both these joint probabilities will have a total of `22`x`5` (players* weather events) = 110 pairs"
   ]
  },
  {
   "cell_type": "code",
   "execution_count": 47,
   "metadata": {},
   "outputs": [
    {
     "data": {
      "text/plain": [
       "{'MV rainy': 0.037783933518005554,\n",
       " 'MV sunny': 0.037783933518005554,\n",
       " 'MV cloudy': 0.037783933518005554,\n",
       " 'MV snowy': 0.037783933518005554,\n",
       " 'MV foggy': 0.037783933518005554,\n",
       " 'CL rainy': 0.02626038781163436,\n",
       " 'CL sunny': 0.02626038781163436,\n",
       " 'CL cloudy': 0.02626038781163436,\n",
       " 'CL snowy': 0.02626038781163436,\n",
       " 'CL foggy': 0.02626038781163436,\n",
       " 'SP rainy': 0.026038781163434912,\n",
       " 'SP sunny': 0.026038781163434912,\n",
       " 'SP cloudy': 0.026038781163434912,\n",
       " 'SP snowy': 0.026038781163434912,\n",
       " 'SP foggy': 0.026038781163434912,\n",
       " 'GR rainy': 0.022493074792243772,\n",
       " 'GR sunny': 0.022493074792243772,\n",
       " 'GR cloudy': 0.022493074792243772,\n",
       " 'GR snowy': 0.022493074792243772,\n",
       " 'GR foggy': 0.022493074792243772,\n",
       " 'CS rainy': 0.02238227146814405,\n",
       " 'CS sunny': 0.02238227146814405,\n",
       " 'CS cloudy': 0.02238227146814405,\n",
       " 'CS snowy': 0.02238227146814405,\n",
       " 'CS foggy': 0.02238227146814405,\n",
       " 'LH rainy': 0.018836565096952914,\n",
       " 'LH sunny': 0.018836565096952914,\n",
       " 'LH cloudy': 0.018836565096952914,\n",
       " 'LH snowy': 0.018836565096952914,\n",
       " 'LH foggy': 0.018836565096952914,\n",
       " 'LN rainy': 0.011080332409972301,\n",
       " 'LN sunny': 0.011080332409972301,\n",
       " 'LN cloudy': 0.011080332409972301,\n",
       " 'LN snowy': 0.011080332409972301,\n",
       " 'LN foggy': 0.011080332409972301,\n",
       " 'EO rainy': 0.00731301939058172,\n",
       " 'EO sunny': 0.00731301939058172,\n",
       " 'EO cloudy': 0.00731301939058172,\n",
       " 'EO snowy': 0.00731301939058172,\n",
       " 'EO foggy': 0.00731301939058172,\n",
       " 'FA rainy': 0.0065373961218836586,\n",
       " 'FA sunny': 0.0065373961218836586,\n",
       " 'FA cloudy': 0.0065373961218836586,\n",
       " 'FA snowy': 0.0065373961218836586,\n",
       " 'FA foggy': 0.0065373961218836586,\n",
       " 'VB rainy': 0.005096952908587259,\n",
       " 'VB sunny': 0.005096952908587259,\n",
       " 'VB cloudy': 0.005096952908587259,\n",
       " 'VB snowy': 0.005096952908587259,\n",
       " 'VB foggy': 0.005096952908587259,\n",
       " 'DR rainy': 0.003213296398891968,\n",
       " 'DR sunny': 0.003213296398891968,\n",
       " 'DR cloudy': 0.003213296398891968,\n",
       " 'DR snowy': 0.003213296398891968,\n",
       " 'DR foggy': 0.003213296398891968,\n",
       " 'SV rainy': 0.0026592797783933524,\n",
       " 'SV sunny': 0.0026592797783933524,\n",
       " 'SV cloudy': 0.0026592797783933524,\n",
       " 'SV snowy': 0.0026592797783933524,\n",
       " 'SV foggy': 0.0026592797783933524,\n",
       " 'PG rainy': 0.0025484764542936297,\n",
       " 'PG sunny': 0.0025484764542936297,\n",
       " 'PG cloudy': 0.0025484764542936297,\n",
       " 'PG snowy': 0.0025484764542936297,\n",
       " 'PG foggy': 0.0025484764542936297,\n",
       " 'KM rainy': 0.0024376731301939064,\n",
       " 'KM sunny': 0.0024376731301939064,\n",
       " 'KM cloudy': 0.0024376731301939064,\n",
       " 'KM snowy': 0.0024376731301939064,\n",
       " 'KM foggy': 0.0024376731301939064,\n",
       " 'LS rainy': 0.0014404432132963992,\n",
       " 'LS sunny': 0.0014404432132963992,\n",
       " 'LS cloudy': 0.0014404432132963992,\n",
       " 'LS snowy': 0.0014404432132963992,\n",
       " 'LS foggy': 0.0014404432132963992,\n",
       " 'MS rainy': 0.0013296398891966762,\n",
       " 'MS sunny': 0.0013296398891966762,\n",
       " 'MS cloudy': 0.0013296398891966762,\n",
       " 'MS snowy': 0.0013296398891966762,\n",
       " 'MS foggy': 0.0013296398891966762,\n",
       " 'YT rainy': 0.0012188365650969532,\n",
       " 'YT sunny': 0.0012188365650969532,\n",
       " 'YT cloudy': 0.0012188365650969532,\n",
       " 'YT snowy': 0.0012188365650969532,\n",
       " 'YT foggy': 0.0012188365650969532,\n",
       " 'ZG rainy': 0.0006648199445983381,\n",
       " 'ZG sunny': 0.0006648199445983381,\n",
       " 'ZG cloudy': 0.0006648199445983381,\n",
       " 'ZG snowy': 0.0006648199445983381,\n",
       " 'ZG foggy': 0.0006648199445983381,\n",
       " 'AA rainy': 0.0004432132963988921,\n",
       " 'AA sunny': 0.0004432132963988921,\n",
       " 'AA cloudy': 0.0004432132963988921,\n",
       " 'AA snowy': 0.0004432132963988921,\n",
       " 'AA foggy': 0.0004432132963988921,\n",
       " 'NV rainy': 0.00022160664819944606,\n",
       " 'NV sunny': 0.00022160664819944606,\n",
       " 'NV cloudy': 0.00022160664819944606,\n",
       " 'NV snowy': 0.00022160664819944606,\n",
       " 'NV foggy': 0.00022160664819944606,\n",
       " 'NL rainy': 0.0,\n",
       " 'NL sunny': 0.0,\n",
       " 'NL cloudy': 0.0,\n",
       " 'NL snowy': 0.0,\n",
       " 'NL foggy': 0.0,\n",
       " 'NH rainy': 0.0,\n",
       " 'NH sunny': 0.0,\n",
       " 'NH cloudy': 0.0,\n",
       " 'NH snowy': 0.0,\n",
       " 'NH foggy': 0.0}"
      ]
     },
     "execution_count": 47,
     "metadata": {},
     "output_type": "execute_result"
    }
   ],
   "source": [
    "weather_NGP = joint_prob(NGP, weather , ' ')\n",
    "weather_NGP"
   ]
  },
  {
   "cell_type": "code",
   "execution_count": 48,
   "metadata": {},
   "outputs": [
    {
     "data": {
      "text/plain": [
       "110"
      ]
     },
     "execution_count": 48,
     "metadata": {},
     "output_type": "execute_result"
    }
   ],
   "source": [
    "len(weather_NGP)"
   ]
  },
  {
   "cell_type": "code",
   "execution_count": 49,
   "metadata": {},
   "outputs": [
    {
     "data": {
      "text/plain": [
       "{'MV rainy': 0.037783933518005554,\n",
       " 'MV sunny': 0.037783933518005554,\n",
       " 'MV cloudy': 0.037783933518005554,\n",
       " 'MV snowy': 0.037783933518005554,\n",
       " 'MV foggy': 0.037783933518005554,\n",
       " 'CL rainy': 0.02626038781163436,\n",
       " 'CL sunny': 0.02626038781163436,\n",
       " 'CL cloudy': 0.02626038781163436,\n",
       " 'CL snowy': 0.02626038781163436,\n",
       " 'CL foggy': 0.02626038781163436,\n",
       " 'SP rainy': 0.026038781163434912,\n",
       " 'SP sunny': 0.026038781163434912,\n",
       " 'SP cloudy': 0.026038781163434912,\n",
       " 'SP snowy': 0.026038781163434912,\n",
       " 'SP foggy': 0.026038781163434912,\n",
       " 'GR rainy': 0.022493074792243772,\n",
       " 'GR sunny': 0.022493074792243772,\n",
       " 'GR cloudy': 0.022493074792243772,\n",
       " 'GR snowy': 0.022493074792243772,\n",
       " 'GR foggy': 0.022493074792243772,\n",
       " 'CS rainy': 0.02238227146814405,\n",
       " 'CS sunny': 0.02238227146814405,\n",
       " 'CS cloudy': 0.02238227146814405,\n",
       " 'CS snowy': 0.02238227146814405,\n",
       " 'CS foggy': 0.02238227146814405,\n",
       " 'LH rainy': 0.018836565096952914,\n",
       " 'LH sunny': 0.018836565096952914,\n",
       " 'LH cloudy': 0.018836565096952914,\n",
       " 'LH snowy': 0.018836565096952914,\n",
       " 'LH foggy': 0.018836565096952914,\n",
       " 'LN rainy': 0.011080332409972301,\n",
       " 'LN sunny': 0.011080332409972301,\n",
       " 'LN cloudy': 0.011080332409972301,\n",
       " 'LN snowy': 0.011080332409972301,\n",
       " 'LN foggy': 0.011080332409972301,\n",
       " 'EO rainy': 0.00731301939058172,\n",
       " 'EO sunny': 0.00731301939058172,\n",
       " 'EO cloudy': 0.00731301939058172,\n",
       " 'EO snowy': 0.00731301939058172,\n",
       " 'EO foggy': 0.00731301939058172,\n",
       " 'FA rainy': 0.0065373961218836586,\n",
       " 'FA sunny': 0.0065373961218836586,\n",
       " 'FA cloudy': 0.0065373961218836586,\n",
       " 'FA snowy': 0.0065373961218836586,\n",
       " 'FA foggy': 0.0065373961218836586,\n",
       " 'VB rainy': 0.005096952908587259,\n",
       " 'VB sunny': 0.005096952908587259,\n",
       " 'VB cloudy': 0.005096952908587259,\n",
       " 'VB snowy': 0.005096952908587259,\n",
       " 'VB foggy': 0.005096952908587259,\n",
       " 'DR rainy': 0.003213296398891968,\n",
       " 'DR sunny': 0.003213296398891968,\n",
       " 'DR cloudy': 0.003213296398891968,\n",
       " 'DR snowy': 0.003213296398891968,\n",
       " 'DR foggy': 0.003213296398891968,\n",
       " 'SV rainy': 0.0026592797783933524,\n",
       " 'SV sunny': 0.0026592797783933524,\n",
       " 'SV cloudy': 0.0026592797783933524,\n",
       " 'SV snowy': 0.0026592797783933524,\n",
       " 'SV foggy': 0.0026592797783933524,\n",
       " 'PG rainy': 0.0025484764542936297,\n",
       " 'PG sunny': 0.0025484764542936297,\n",
       " 'PG cloudy': 0.0025484764542936297,\n",
       " 'PG snowy': 0.0025484764542936297,\n",
       " 'PG foggy': 0.0025484764542936297,\n",
       " 'KM rainy': 0.0024376731301939064,\n",
       " 'KM sunny': 0.0024376731301939064,\n",
       " 'KM cloudy': 0.0024376731301939064,\n",
       " 'KM snowy': 0.0024376731301939064,\n",
       " 'KM foggy': 0.0024376731301939064,\n",
       " 'LS rainy': 0.0014404432132963992,\n",
       " 'LS sunny': 0.0014404432132963992,\n",
       " 'LS cloudy': 0.0014404432132963992,\n",
       " 'LS snowy': 0.0014404432132963992,\n",
       " 'LS foggy': 0.0014404432132963992,\n",
       " 'MS rainy': 0.0013296398891966762,\n",
       " 'MS sunny': 0.0013296398891966762,\n",
       " 'MS cloudy': 0.0013296398891966762,\n",
       " 'MS snowy': 0.0013296398891966762,\n",
       " 'MS foggy': 0.0013296398891966762,\n",
       " 'YT rainy': 0.0012188365650969532,\n",
       " 'YT sunny': 0.0012188365650969532,\n",
       " 'YT cloudy': 0.0012188365650969532,\n",
       " 'YT snowy': 0.0012188365650969532,\n",
       " 'YT foggy': 0.0012188365650969532,\n",
       " 'ZG rainy': 0.0006648199445983381,\n",
       " 'ZG sunny': 0.0006648199445983381,\n",
       " 'ZG cloudy': 0.0006648199445983381,\n",
       " 'ZG snowy': 0.0006648199445983381,\n",
       " 'ZG foggy': 0.0006648199445983381,\n",
       " 'AA rainy': 0.0004432132963988921,\n",
       " 'AA sunny': 0.0004432132963988921,\n",
       " 'AA cloudy': 0.0004432132963988921,\n",
       " 'AA snowy': 0.0004432132963988921,\n",
       " 'AA foggy': 0.0004432132963988921,\n",
       " 'NV rainy': 0.00022160664819944606,\n",
       " 'NV sunny': 0.00022160664819944606,\n",
       " 'NV cloudy': 0.00022160664819944606,\n",
       " 'NV snowy': 0.00022160664819944606,\n",
       " 'NV foggy': 0.00022160664819944606,\n",
       " 'NL rainy': 0.0,\n",
       " 'NL sunny': 0.0,\n",
       " 'NL cloudy': 0.0,\n",
       " 'NL snowy': 0.0,\n",
       " 'NL foggy': 0.0,\n",
       " 'NH rainy': 0.0,\n",
       " 'NH sunny': 0.0,\n",
       " 'NH cloudy': 0.0,\n",
       " 'NH snowy': 0.0,\n",
       " 'NH foggy': 0.0}"
      ]
     },
     "execution_count": 49,
     "metadata": {},
     "output_type": "execute_result"
    }
   ],
   "source": [
    "weather_IGP = joint_prob(IGP, weather , ' ')\n",
    "weather_IGP"
   ]
  },
  {
   "cell_type": "code",
   "execution_count": 50,
   "metadata": {},
   "outputs": [
    {
     "data": {
      "text/plain": [
       "110"
      ]
     },
     "execution_count": 50,
     "metadata": {},
     "output_type": "execute_result"
    }
   ],
   "source": [
    "len(weather_IGP)"
   ]
  },
  {
   "cell_type": "markdown",
   "metadata": {},
   "source": [
    "Now that we have the joint probability of weather with Netherlands Grand Prix and Italian Grand Prix, let us now find the joint probability of these two joint probabilities. This would give us a joint probability distribution where we would be able to find out the probability that a certain player will win a certain race given a certain weather. \n",
    "\n",
    "To compute this joint probability distribution, we will use the `joint_prob` function from Question 1 again. Here we will have a total of `110`x`110` = `12100` combinations"
   ]
  },
  {
   "cell_type": "code",
   "execution_count": 51,
   "metadata": {},
   "outputs": [
    {
     "data": {
      "text/plain": [
       "{'MV rainy MV rainy': 0.0014276256320930258,\n",
       " 'MV rainy MV sunny': 0.0014276256320930258,\n",
       " 'MV rainy MV cloudy': 0.0014276256320930258,\n",
       " 'MV rainy MV snowy': 0.0014276256320930258,\n",
       " 'MV rainy MV foggy': 0.0014276256320930258,\n",
       " 'MV rainy CL rainy': 0.0009922207472318097,\n",
       " 'MV rainy CL sunny': 0.0009922207472318097,\n",
       " 'MV rainy CL cloudy': 0.0009922207472318097,\n",
       " 'MV rainy CL snowy': 0.0009922207472318097,\n",
       " 'MV rainy CL foggy': 0.0009922207472318097,\n",
       " 'MV rainy SP rainy': 0.000983847576369094,\n",
       " 'MV rainy SP sunny': 0.000983847576369094,\n",
       " 'MV rainy SP cloudy': 0.000983847576369094,\n",
       " 'MV rainy SP snowy': 0.000983847576369094,\n",
       " 'MV rainy SP foggy': 0.000983847576369094,\n",
       " 'MV rainy GR rainy': 0.0008498768425656429,\n",
       " 'MV rainy GR sunny': 0.0008498768425656429,\n",
       " 'MV rainy GR cloudy': 0.0008498768425656429,\n",
       " 'MV rainy GR snowy': 0.0008498768425656429,\n",
       " 'MV rainy GR foggy': 0.0008498768425656429,\n",
       " 'MV rainy CS rainy': 0.000845690257134285,\n",
       " 'MV rainy CS sunny': 0.000845690257134285,\n",
       " 'MV rainy CS cloudy': 0.000845690257134285,\n",
       " 'MV rainy CS snowy': 0.000845690257134285,\n",
       " 'MV rainy CS foggy': 0.000845690257134285,\n",
       " 'MV rainy LH rainy': 0.0007117195233308339,\n",
       " 'MV rainy LH sunny': 0.0007117195233308339,\n",
       " 'MV rainy LH cloudy': 0.0007117195233308339,\n",
       " 'MV rainy LH snowy': 0.0007117195233308339,\n",
       " 'MV rainy LH foggy': 0.0007117195233308339,\n",
       " 'MV rainy LN rainy': 0.00041865854313578464,\n",
       " 'MV rainy LN sunny': 0.00041865854313578464,\n",
       " 'MV rainy LN cloudy': 0.00041865854313578464,\n",
       " 'MV rainy LN snowy': 0.00041865854313578464,\n",
       " 'MV rainy LN foggy': 0.00041865854313578464,\n",
       " 'MV rainy EO rainy': 0.0002763146384696179,\n",
       " 'MV rainy EO sunny': 0.0002763146384696179,\n",
       " 'MV rainy EO cloudy': 0.0002763146384696179,\n",
       " 'MV rainy EO snowy': 0.0002763146384696179,\n",
       " 'MV rainy EO foggy': 0.0002763146384696179,\n",
       " 'MV rainy FA rainy': 0.000247008540450113,\n",
       " 'MV rainy FA sunny': 0.000247008540450113,\n",
       " 'MV rainy FA cloudy': 0.000247008540450113,\n",
       " 'MV rainy FA snowy': 0.000247008540450113,\n",
       " 'MV rainy FA foggy': 0.000247008540450113,\n",
       " 'MV rainy VB rainy': 0.00019258292984246096,\n",
       " 'MV rainy VB sunny': 0.00019258292984246096,\n",
       " 'MV rainy VB cloudy': 0.00019258292984246096,\n",
       " 'MV rainy VB snowy': 0.00019258292984246096,\n",
       " 'MV rainy VB foggy': 0.00019258292984246096,\n",
       " 'MV rainy DR rainy': 0.00012141097750937756,\n",
       " 'MV rainy DR sunny': 0.00012141097750937756,\n",
       " 'MV rainy DR cloudy': 0.00012141097750937756,\n",
       " 'MV rainy DR snowy': 0.00012141097750937756,\n",
       " 'MV rainy DR foggy': 0.00012141097750937756,\n",
       " 'MV rainy SV rainy': 0.00010047805035258832,\n",
       " 'MV rainy SV sunny': 0.00010047805035258832,\n",
       " 'MV rainy SV cloudy': 0.00010047805035258832,\n",
       " 'MV rainy SV snowy': 0.00010047805035258832,\n",
       " 'MV rainy SV foggy': 0.00010047805035258832,\n",
       " 'MV rainy PG rainy': 9.629146492123048e-05,\n",
       " 'MV rainy PG sunny': 9.629146492123048e-05,\n",
       " 'MV rainy PG cloudy': 9.629146492123048e-05,\n",
       " 'MV rainy PG snowy': 9.629146492123048e-05,\n",
       " 'MV rainy PG foggy': 9.629146492123048e-05,\n",
       " 'MV rainy KM rainy': 9.210487948987262e-05,\n",
       " 'MV rainy KM sunny': 9.210487948987262e-05,\n",
       " 'MV rainy KM cloudy': 9.210487948987262e-05,\n",
       " 'MV rainy KM snowy': 9.210487948987262e-05,\n",
       " 'MV rainy KM foggy': 9.210487948987262e-05,\n",
       " 'MV rainy LS rainy': 5.442561060765201e-05,\n",
       " 'MV rainy LS sunny': 5.442561060765201e-05,\n",
       " 'MV rainy LS cloudy': 5.442561060765201e-05,\n",
       " 'MV rainy LS snowy': 5.442561060765201e-05,\n",
       " 'MV rainy LS foggy': 5.442561060765201e-05,\n",
       " 'MV rainy MS rainy': 5.023902517629416e-05,\n",
       " 'MV rainy MS sunny': 5.023902517629416e-05,\n",
       " 'MV rainy MS cloudy': 5.023902517629416e-05,\n",
       " 'MV rainy MS snowy': 5.023902517629416e-05,\n",
       " 'MV rainy MS foggy': 5.023902517629416e-05,\n",
       " 'MV rainy YT rainy': 4.605243974493631e-05,\n",
       " 'MV rainy YT sunny': 4.605243974493631e-05,\n",
       " 'MV rainy YT cloudy': 4.605243974493631e-05,\n",
       " 'MV rainy YT snowy': 4.605243974493631e-05,\n",
       " 'MV rainy YT foggy': 4.605243974493631e-05,\n",
       " 'MV rainy ZG rainy': 2.511951258814708e-05,\n",
       " 'MV rainy ZG sunny': 2.511951258814708e-05,\n",
       " 'MV rainy ZG cloudy': 2.511951258814708e-05,\n",
       " 'MV rainy ZG snowy': 2.511951258814708e-05,\n",
       " 'MV rainy ZG foggy': 2.511951258814708e-05,\n",
       " 'MV rainy AA rainy': 1.6746341725431388e-05,\n",
       " 'MV rainy AA sunny': 1.6746341725431388e-05,\n",
       " 'MV rainy AA cloudy': 1.6746341725431388e-05,\n",
       " 'MV rainy AA snowy': 1.6746341725431388e-05,\n",
       " 'MV rainy AA foggy': 1.6746341725431388e-05,\n",
       " 'MV rainy NV rainy': 8.373170862715694e-06,\n",
       " 'MV rainy NV sunny': 8.373170862715694e-06,\n",
       " 'MV rainy NV cloudy': 8.373170862715694e-06,\n",
       " 'MV rainy NV snowy': 8.373170862715694e-06,\n",
       " 'MV rainy NV foggy': 8.373170862715694e-06,\n",
       " 'MV rainy NL rainy': 0.0,\n",
       " 'MV rainy NL sunny': 0.0,\n",
       " 'MV rainy NL cloudy': 0.0,\n",
       " 'MV rainy NL snowy': 0.0,\n",
       " 'MV rainy NL foggy': 0.0,\n",
       " 'MV rainy NH rainy': 0.0,\n",
       " 'MV rainy NH sunny': 0.0,\n",
       " 'MV rainy NH cloudy': 0.0,\n",
       " 'MV rainy NH snowy': 0.0,\n",
       " 'MV rainy NH foggy': 0.0,\n",
       " 'MV sunny MV rainy': 0.0014276256320930258,\n",
       " 'MV sunny MV sunny': 0.0014276256320930258,\n",
       " 'MV sunny MV cloudy': 0.0014276256320930258,\n",
       " 'MV sunny MV snowy': 0.0014276256320930258,\n",
       " 'MV sunny MV foggy': 0.0014276256320930258,\n",
       " 'MV sunny CL rainy': 0.0009922207472318097,\n",
       " 'MV sunny CL sunny': 0.0009922207472318097,\n",
       " 'MV sunny CL cloudy': 0.0009922207472318097,\n",
       " 'MV sunny CL snowy': 0.0009922207472318097,\n",
       " 'MV sunny CL foggy': 0.0009922207472318097,\n",
       " 'MV sunny SP rainy': 0.000983847576369094,\n",
       " 'MV sunny SP sunny': 0.000983847576369094,\n",
       " 'MV sunny SP cloudy': 0.000983847576369094,\n",
       " 'MV sunny SP snowy': 0.000983847576369094,\n",
       " 'MV sunny SP foggy': 0.000983847576369094,\n",
       " 'MV sunny GR rainy': 0.0008498768425656429,\n",
       " 'MV sunny GR sunny': 0.0008498768425656429,\n",
       " 'MV sunny GR cloudy': 0.0008498768425656429,\n",
       " 'MV sunny GR snowy': 0.0008498768425656429,\n",
       " 'MV sunny GR foggy': 0.0008498768425656429,\n",
       " 'MV sunny CS rainy': 0.000845690257134285,\n",
       " 'MV sunny CS sunny': 0.000845690257134285,\n",
       " 'MV sunny CS cloudy': 0.000845690257134285,\n",
       " 'MV sunny CS snowy': 0.000845690257134285,\n",
       " 'MV sunny CS foggy': 0.000845690257134285,\n",
       " 'MV sunny LH rainy': 0.0007117195233308339,\n",
       " 'MV sunny LH sunny': 0.0007117195233308339,\n",
       " 'MV sunny LH cloudy': 0.0007117195233308339,\n",
       " 'MV sunny LH snowy': 0.0007117195233308339,\n",
       " 'MV sunny LH foggy': 0.0007117195233308339,\n",
       " 'MV sunny LN rainy': 0.00041865854313578464,\n",
       " 'MV sunny LN sunny': 0.00041865854313578464,\n",
       " 'MV sunny LN cloudy': 0.00041865854313578464,\n",
       " 'MV sunny LN snowy': 0.00041865854313578464,\n",
       " 'MV sunny LN foggy': 0.00041865854313578464,\n",
       " 'MV sunny EO rainy': 0.0002763146384696179,\n",
       " 'MV sunny EO sunny': 0.0002763146384696179,\n",
       " 'MV sunny EO cloudy': 0.0002763146384696179,\n",
       " 'MV sunny EO snowy': 0.0002763146384696179,\n",
       " 'MV sunny EO foggy': 0.0002763146384696179,\n",
       " 'MV sunny FA rainy': 0.000247008540450113,\n",
       " 'MV sunny FA sunny': 0.000247008540450113,\n",
       " 'MV sunny FA cloudy': 0.000247008540450113,\n",
       " 'MV sunny FA snowy': 0.000247008540450113,\n",
       " 'MV sunny FA foggy': 0.000247008540450113,\n",
       " 'MV sunny VB rainy': 0.00019258292984246096,\n",
       " 'MV sunny VB sunny': 0.00019258292984246096,\n",
       " 'MV sunny VB cloudy': 0.00019258292984246096,\n",
       " 'MV sunny VB snowy': 0.00019258292984246096,\n",
       " 'MV sunny VB foggy': 0.00019258292984246096,\n",
       " 'MV sunny DR rainy': 0.00012141097750937756,\n",
       " 'MV sunny DR sunny': 0.00012141097750937756,\n",
       " 'MV sunny DR cloudy': 0.00012141097750937756,\n",
       " 'MV sunny DR snowy': 0.00012141097750937756,\n",
       " 'MV sunny DR foggy': 0.00012141097750937756,\n",
       " 'MV sunny SV rainy': 0.00010047805035258832,\n",
       " 'MV sunny SV sunny': 0.00010047805035258832,\n",
       " 'MV sunny SV cloudy': 0.00010047805035258832,\n",
       " 'MV sunny SV snowy': 0.00010047805035258832,\n",
       " 'MV sunny SV foggy': 0.00010047805035258832,\n",
       " 'MV sunny PG rainy': 9.629146492123048e-05,\n",
       " 'MV sunny PG sunny': 9.629146492123048e-05,\n",
       " 'MV sunny PG cloudy': 9.629146492123048e-05,\n",
       " 'MV sunny PG snowy': 9.629146492123048e-05,\n",
       " 'MV sunny PG foggy': 9.629146492123048e-05,\n",
       " 'MV sunny KM rainy': 9.210487948987262e-05,\n",
       " 'MV sunny KM sunny': 9.210487948987262e-05,\n",
       " 'MV sunny KM cloudy': 9.210487948987262e-05,\n",
       " 'MV sunny KM snowy': 9.210487948987262e-05,\n",
       " 'MV sunny KM foggy': 9.210487948987262e-05,\n",
       " 'MV sunny LS rainy': 5.442561060765201e-05,\n",
       " 'MV sunny LS sunny': 5.442561060765201e-05,\n",
       " 'MV sunny LS cloudy': 5.442561060765201e-05,\n",
       " 'MV sunny LS snowy': 5.442561060765201e-05,\n",
       " 'MV sunny LS foggy': 5.442561060765201e-05,\n",
       " 'MV sunny MS rainy': 5.023902517629416e-05,\n",
       " 'MV sunny MS sunny': 5.023902517629416e-05,\n",
       " 'MV sunny MS cloudy': 5.023902517629416e-05,\n",
       " 'MV sunny MS snowy': 5.023902517629416e-05,\n",
       " 'MV sunny MS foggy': 5.023902517629416e-05,\n",
       " 'MV sunny YT rainy': 4.605243974493631e-05,\n",
       " 'MV sunny YT sunny': 4.605243974493631e-05,\n",
       " 'MV sunny YT cloudy': 4.605243974493631e-05,\n",
       " 'MV sunny YT snowy': 4.605243974493631e-05,\n",
       " 'MV sunny YT foggy': 4.605243974493631e-05,\n",
       " 'MV sunny ZG rainy': 2.511951258814708e-05,\n",
       " 'MV sunny ZG sunny': 2.511951258814708e-05,\n",
       " 'MV sunny ZG cloudy': 2.511951258814708e-05,\n",
       " 'MV sunny ZG snowy': 2.511951258814708e-05,\n",
       " 'MV sunny ZG foggy': 2.511951258814708e-05,\n",
       " 'MV sunny AA rainy': 1.6746341725431388e-05,\n",
       " 'MV sunny AA sunny': 1.6746341725431388e-05,\n",
       " 'MV sunny AA cloudy': 1.6746341725431388e-05,\n",
       " 'MV sunny AA snowy': 1.6746341725431388e-05,\n",
       " 'MV sunny AA foggy': 1.6746341725431388e-05,\n",
       " 'MV sunny NV rainy': 8.373170862715694e-06,\n",
       " 'MV sunny NV sunny': 8.373170862715694e-06,\n",
       " 'MV sunny NV cloudy': 8.373170862715694e-06,\n",
       " 'MV sunny NV snowy': 8.373170862715694e-06,\n",
       " 'MV sunny NV foggy': 8.373170862715694e-06,\n",
       " 'MV sunny NL rainy': 0.0,\n",
       " 'MV sunny NL sunny': 0.0,\n",
       " 'MV sunny NL cloudy': 0.0,\n",
       " 'MV sunny NL snowy': 0.0,\n",
       " 'MV sunny NL foggy': 0.0,\n",
       " 'MV sunny NH rainy': 0.0,\n",
       " 'MV sunny NH sunny': 0.0,\n",
       " 'MV sunny NH cloudy': 0.0,\n",
       " 'MV sunny NH snowy': 0.0,\n",
       " 'MV sunny NH foggy': 0.0,\n",
       " 'MV cloudy MV rainy': 0.0014276256320930258,\n",
       " 'MV cloudy MV sunny': 0.0014276256320930258,\n",
       " 'MV cloudy MV cloudy': 0.0014276256320930258,\n",
       " 'MV cloudy MV snowy': 0.0014276256320930258,\n",
       " 'MV cloudy MV foggy': 0.0014276256320930258,\n",
       " 'MV cloudy CL rainy': 0.0009922207472318097,\n",
       " 'MV cloudy CL sunny': 0.0009922207472318097,\n",
       " 'MV cloudy CL cloudy': 0.0009922207472318097,\n",
       " 'MV cloudy CL snowy': 0.0009922207472318097,\n",
       " 'MV cloudy CL foggy': 0.0009922207472318097,\n",
       " 'MV cloudy SP rainy': 0.000983847576369094,\n",
       " 'MV cloudy SP sunny': 0.000983847576369094,\n",
       " 'MV cloudy SP cloudy': 0.000983847576369094,\n",
       " 'MV cloudy SP snowy': 0.000983847576369094,\n",
       " 'MV cloudy SP foggy': 0.000983847576369094,\n",
       " 'MV cloudy GR rainy': 0.0008498768425656429,\n",
       " 'MV cloudy GR sunny': 0.0008498768425656429,\n",
       " 'MV cloudy GR cloudy': 0.0008498768425656429,\n",
       " 'MV cloudy GR snowy': 0.0008498768425656429,\n",
       " 'MV cloudy GR foggy': 0.0008498768425656429,\n",
       " 'MV cloudy CS rainy': 0.000845690257134285,\n",
       " 'MV cloudy CS sunny': 0.000845690257134285,\n",
       " 'MV cloudy CS cloudy': 0.000845690257134285,\n",
       " 'MV cloudy CS snowy': 0.000845690257134285,\n",
       " 'MV cloudy CS foggy': 0.000845690257134285,\n",
       " 'MV cloudy LH rainy': 0.0007117195233308339,\n",
       " 'MV cloudy LH sunny': 0.0007117195233308339,\n",
       " 'MV cloudy LH cloudy': 0.0007117195233308339,\n",
       " 'MV cloudy LH snowy': 0.0007117195233308339,\n",
       " 'MV cloudy LH foggy': 0.0007117195233308339,\n",
       " 'MV cloudy LN rainy': 0.00041865854313578464,\n",
       " 'MV cloudy LN sunny': 0.00041865854313578464,\n",
       " 'MV cloudy LN cloudy': 0.00041865854313578464,\n",
       " 'MV cloudy LN snowy': 0.00041865854313578464,\n",
       " 'MV cloudy LN foggy': 0.00041865854313578464,\n",
       " 'MV cloudy EO rainy': 0.0002763146384696179,\n",
       " 'MV cloudy EO sunny': 0.0002763146384696179,\n",
       " 'MV cloudy EO cloudy': 0.0002763146384696179,\n",
       " 'MV cloudy EO snowy': 0.0002763146384696179,\n",
       " 'MV cloudy EO foggy': 0.0002763146384696179,\n",
       " 'MV cloudy FA rainy': 0.000247008540450113,\n",
       " 'MV cloudy FA sunny': 0.000247008540450113,\n",
       " 'MV cloudy FA cloudy': 0.000247008540450113,\n",
       " 'MV cloudy FA snowy': 0.000247008540450113,\n",
       " 'MV cloudy FA foggy': 0.000247008540450113,\n",
       " 'MV cloudy VB rainy': 0.00019258292984246096,\n",
       " 'MV cloudy VB sunny': 0.00019258292984246096,\n",
       " 'MV cloudy VB cloudy': 0.00019258292984246096,\n",
       " 'MV cloudy VB snowy': 0.00019258292984246096,\n",
       " 'MV cloudy VB foggy': 0.00019258292984246096,\n",
       " 'MV cloudy DR rainy': 0.00012141097750937756,\n",
       " 'MV cloudy DR sunny': 0.00012141097750937756,\n",
       " 'MV cloudy DR cloudy': 0.00012141097750937756,\n",
       " 'MV cloudy DR snowy': 0.00012141097750937756,\n",
       " 'MV cloudy DR foggy': 0.00012141097750937756,\n",
       " 'MV cloudy SV rainy': 0.00010047805035258832,\n",
       " 'MV cloudy SV sunny': 0.00010047805035258832,\n",
       " 'MV cloudy SV cloudy': 0.00010047805035258832,\n",
       " 'MV cloudy SV snowy': 0.00010047805035258832,\n",
       " 'MV cloudy SV foggy': 0.00010047805035258832,\n",
       " 'MV cloudy PG rainy': 9.629146492123048e-05,\n",
       " 'MV cloudy PG sunny': 9.629146492123048e-05,\n",
       " 'MV cloudy PG cloudy': 9.629146492123048e-05,\n",
       " 'MV cloudy PG snowy': 9.629146492123048e-05,\n",
       " 'MV cloudy PG foggy': 9.629146492123048e-05,\n",
       " 'MV cloudy KM rainy': 9.210487948987262e-05,\n",
       " 'MV cloudy KM sunny': 9.210487948987262e-05,\n",
       " 'MV cloudy KM cloudy': 9.210487948987262e-05,\n",
       " 'MV cloudy KM snowy': 9.210487948987262e-05,\n",
       " 'MV cloudy KM foggy': 9.210487948987262e-05,\n",
       " 'MV cloudy LS rainy': 5.442561060765201e-05,\n",
       " 'MV cloudy LS sunny': 5.442561060765201e-05,\n",
       " 'MV cloudy LS cloudy': 5.442561060765201e-05,\n",
       " 'MV cloudy LS snowy': 5.442561060765201e-05,\n",
       " 'MV cloudy LS foggy': 5.442561060765201e-05,\n",
       " 'MV cloudy MS rainy': 5.023902517629416e-05,\n",
       " 'MV cloudy MS sunny': 5.023902517629416e-05,\n",
       " 'MV cloudy MS cloudy': 5.023902517629416e-05,\n",
       " 'MV cloudy MS snowy': 5.023902517629416e-05,\n",
       " 'MV cloudy MS foggy': 5.023902517629416e-05,\n",
       " 'MV cloudy YT rainy': 4.605243974493631e-05,\n",
       " 'MV cloudy YT sunny': 4.605243974493631e-05,\n",
       " 'MV cloudy YT cloudy': 4.605243974493631e-05,\n",
       " 'MV cloudy YT snowy': 4.605243974493631e-05,\n",
       " 'MV cloudy YT foggy': 4.605243974493631e-05,\n",
       " 'MV cloudy ZG rainy': 2.511951258814708e-05,\n",
       " 'MV cloudy ZG sunny': 2.511951258814708e-05,\n",
       " 'MV cloudy ZG cloudy': 2.511951258814708e-05,\n",
       " 'MV cloudy ZG snowy': 2.511951258814708e-05,\n",
       " 'MV cloudy ZG foggy': 2.511951258814708e-05,\n",
       " 'MV cloudy AA rainy': 1.6746341725431388e-05,\n",
       " 'MV cloudy AA sunny': 1.6746341725431388e-05,\n",
       " 'MV cloudy AA cloudy': 1.6746341725431388e-05,\n",
       " 'MV cloudy AA snowy': 1.6746341725431388e-05,\n",
       " 'MV cloudy AA foggy': 1.6746341725431388e-05,\n",
       " 'MV cloudy NV rainy': 8.373170862715694e-06,\n",
       " 'MV cloudy NV sunny': 8.373170862715694e-06,\n",
       " 'MV cloudy NV cloudy': 8.373170862715694e-06,\n",
       " 'MV cloudy NV snowy': 8.373170862715694e-06,\n",
       " 'MV cloudy NV foggy': 8.373170862715694e-06,\n",
       " 'MV cloudy NL rainy': 0.0,\n",
       " 'MV cloudy NL sunny': 0.0,\n",
       " 'MV cloudy NL cloudy': 0.0,\n",
       " 'MV cloudy NL snowy': 0.0,\n",
       " 'MV cloudy NL foggy': 0.0,\n",
       " 'MV cloudy NH rainy': 0.0,\n",
       " 'MV cloudy NH sunny': 0.0,\n",
       " 'MV cloudy NH cloudy': 0.0,\n",
       " 'MV cloudy NH snowy': 0.0,\n",
       " 'MV cloudy NH foggy': 0.0,\n",
       " 'MV snowy MV rainy': 0.0014276256320930258,\n",
       " 'MV snowy MV sunny': 0.0014276256320930258,\n",
       " 'MV snowy MV cloudy': 0.0014276256320930258,\n",
       " 'MV snowy MV snowy': 0.0014276256320930258,\n",
       " 'MV snowy MV foggy': 0.0014276256320930258,\n",
       " 'MV snowy CL rainy': 0.0009922207472318097,\n",
       " 'MV snowy CL sunny': 0.0009922207472318097,\n",
       " 'MV snowy CL cloudy': 0.0009922207472318097,\n",
       " 'MV snowy CL snowy': 0.0009922207472318097,\n",
       " 'MV snowy CL foggy': 0.0009922207472318097,\n",
       " 'MV snowy SP rainy': 0.000983847576369094,\n",
       " 'MV snowy SP sunny': 0.000983847576369094,\n",
       " 'MV snowy SP cloudy': 0.000983847576369094,\n",
       " 'MV snowy SP snowy': 0.000983847576369094,\n",
       " 'MV snowy SP foggy': 0.000983847576369094,\n",
       " 'MV snowy GR rainy': 0.0008498768425656429,\n",
       " 'MV snowy GR sunny': 0.0008498768425656429,\n",
       " 'MV snowy GR cloudy': 0.0008498768425656429,\n",
       " 'MV snowy GR snowy': 0.0008498768425656429,\n",
       " 'MV snowy GR foggy': 0.0008498768425656429,\n",
       " 'MV snowy CS rainy': 0.000845690257134285,\n",
       " 'MV snowy CS sunny': 0.000845690257134285,\n",
       " 'MV snowy CS cloudy': 0.000845690257134285,\n",
       " 'MV snowy CS snowy': 0.000845690257134285,\n",
       " 'MV snowy CS foggy': 0.000845690257134285,\n",
       " 'MV snowy LH rainy': 0.0007117195233308339,\n",
       " 'MV snowy LH sunny': 0.0007117195233308339,\n",
       " 'MV snowy LH cloudy': 0.0007117195233308339,\n",
       " 'MV snowy LH snowy': 0.0007117195233308339,\n",
       " 'MV snowy LH foggy': 0.0007117195233308339,\n",
       " 'MV snowy LN rainy': 0.00041865854313578464,\n",
       " 'MV snowy LN sunny': 0.00041865854313578464,\n",
       " 'MV snowy LN cloudy': 0.00041865854313578464,\n",
       " 'MV snowy LN snowy': 0.00041865854313578464,\n",
       " 'MV snowy LN foggy': 0.00041865854313578464,\n",
       " 'MV snowy EO rainy': 0.0002763146384696179,\n",
       " 'MV snowy EO sunny': 0.0002763146384696179,\n",
       " 'MV snowy EO cloudy': 0.0002763146384696179,\n",
       " 'MV snowy EO snowy': 0.0002763146384696179,\n",
       " 'MV snowy EO foggy': 0.0002763146384696179,\n",
       " 'MV snowy FA rainy': 0.000247008540450113,\n",
       " 'MV snowy FA sunny': 0.000247008540450113,\n",
       " 'MV snowy FA cloudy': 0.000247008540450113,\n",
       " 'MV snowy FA snowy': 0.000247008540450113,\n",
       " 'MV snowy FA foggy': 0.000247008540450113,\n",
       " 'MV snowy VB rainy': 0.00019258292984246096,\n",
       " 'MV snowy VB sunny': 0.00019258292984246096,\n",
       " 'MV snowy VB cloudy': 0.00019258292984246096,\n",
       " 'MV snowy VB snowy': 0.00019258292984246096,\n",
       " 'MV snowy VB foggy': 0.00019258292984246096,\n",
       " 'MV snowy DR rainy': 0.00012141097750937756,\n",
       " 'MV snowy DR sunny': 0.00012141097750937756,\n",
       " 'MV snowy DR cloudy': 0.00012141097750937756,\n",
       " 'MV snowy DR snowy': 0.00012141097750937756,\n",
       " 'MV snowy DR foggy': 0.00012141097750937756,\n",
       " 'MV snowy SV rainy': 0.00010047805035258832,\n",
       " 'MV snowy SV sunny': 0.00010047805035258832,\n",
       " 'MV snowy SV cloudy': 0.00010047805035258832,\n",
       " 'MV snowy SV snowy': 0.00010047805035258832,\n",
       " 'MV snowy SV foggy': 0.00010047805035258832,\n",
       " 'MV snowy PG rainy': 9.629146492123048e-05,\n",
       " 'MV snowy PG sunny': 9.629146492123048e-05,\n",
       " 'MV snowy PG cloudy': 9.629146492123048e-05,\n",
       " 'MV snowy PG snowy': 9.629146492123048e-05,\n",
       " 'MV snowy PG foggy': 9.629146492123048e-05,\n",
       " 'MV snowy KM rainy': 9.210487948987262e-05,\n",
       " 'MV snowy KM sunny': 9.210487948987262e-05,\n",
       " 'MV snowy KM cloudy': 9.210487948987262e-05,\n",
       " 'MV snowy KM snowy': 9.210487948987262e-05,\n",
       " 'MV snowy KM foggy': 9.210487948987262e-05,\n",
       " 'MV snowy LS rainy': 5.442561060765201e-05,\n",
       " 'MV snowy LS sunny': 5.442561060765201e-05,\n",
       " 'MV snowy LS cloudy': 5.442561060765201e-05,\n",
       " 'MV snowy LS snowy': 5.442561060765201e-05,\n",
       " 'MV snowy LS foggy': 5.442561060765201e-05,\n",
       " 'MV snowy MS rainy': 5.023902517629416e-05,\n",
       " 'MV snowy MS sunny': 5.023902517629416e-05,\n",
       " 'MV snowy MS cloudy': 5.023902517629416e-05,\n",
       " 'MV snowy MS snowy': 5.023902517629416e-05,\n",
       " 'MV snowy MS foggy': 5.023902517629416e-05,\n",
       " 'MV snowy YT rainy': 4.605243974493631e-05,\n",
       " 'MV snowy YT sunny': 4.605243974493631e-05,\n",
       " 'MV snowy YT cloudy': 4.605243974493631e-05,\n",
       " 'MV snowy YT snowy': 4.605243974493631e-05,\n",
       " 'MV snowy YT foggy': 4.605243974493631e-05,\n",
       " 'MV snowy ZG rainy': 2.511951258814708e-05,\n",
       " 'MV snowy ZG sunny': 2.511951258814708e-05,\n",
       " 'MV snowy ZG cloudy': 2.511951258814708e-05,\n",
       " 'MV snowy ZG snowy': 2.511951258814708e-05,\n",
       " 'MV snowy ZG foggy': 2.511951258814708e-05,\n",
       " 'MV snowy AA rainy': 1.6746341725431388e-05,\n",
       " 'MV snowy AA sunny': 1.6746341725431388e-05,\n",
       " 'MV snowy AA cloudy': 1.6746341725431388e-05,\n",
       " 'MV snowy AA snowy': 1.6746341725431388e-05,\n",
       " 'MV snowy AA foggy': 1.6746341725431388e-05,\n",
       " 'MV snowy NV rainy': 8.373170862715694e-06,\n",
       " 'MV snowy NV sunny': 8.373170862715694e-06,\n",
       " 'MV snowy NV cloudy': 8.373170862715694e-06,\n",
       " 'MV snowy NV snowy': 8.373170862715694e-06,\n",
       " 'MV snowy NV foggy': 8.373170862715694e-06,\n",
       " 'MV snowy NL rainy': 0.0,\n",
       " 'MV snowy NL sunny': 0.0,\n",
       " 'MV snowy NL cloudy': 0.0,\n",
       " 'MV snowy NL snowy': 0.0,\n",
       " 'MV snowy NL foggy': 0.0,\n",
       " 'MV snowy NH rainy': 0.0,\n",
       " 'MV snowy NH sunny': 0.0,\n",
       " 'MV snowy NH cloudy': 0.0,\n",
       " 'MV snowy NH snowy': 0.0,\n",
       " 'MV snowy NH foggy': 0.0,\n",
       " 'MV foggy MV rainy': 0.0014276256320930258,\n",
       " 'MV foggy MV sunny': 0.0014276256320930258,\n",
       " 'MV foggy MV cloudy': 0.0014276256320930258,\n",
       " 'MV foggy MV snowy': 0.0014276256320930258,\n",
       " 'MV foggy MV foggy': 0.0014276256320930258,\n",
       " 'MV foggy CL rainy': 0.0009922207472318097,\n",
       " 'MV foggy CL sunny': 0.0009922207472318097,\n",
       " 'MV foggy CL cloudy': 0.0009922207472318097,\n",
       " 'MV foggy CL snowy': 0.0009922207472318097,\n",
       " 'MV foggy CL foggy': 0.0009922207472318097,\n",
       " 'MV foggy SP rainy': 0.000983847576369094,\n",
       " 'MV foggy SP sunny': 0.000983847576369094,\n",
       " 'MV foggy SP cloudy': 0.000983847576369094,\n",
       " 'MV foggy SP snowy': 0.000983847576369094,\n",
       " 'MV foggy SP foggy': 0.000983847576369094,\n",
       " 'MV foggy GR rainy': 0.0008498768425656429,\n",
       " 'MV foggy GR sunny': 0.0008498768425656429,\n",
       " 'MV foggy GR cloudy': 0.0008498768425656429,\n",
       " 'MV foggy GR snowy': 0.0008498768425656429,\n",
       " 'MV foggy GR foggy': 0.0008498768425656429,\n",
       " 'MV foggy CS rainy': 0.000845690257134285,\n",
       " 'MV foggy CS sunny': 0.000845690257134285,\n",
       " 'MV foggy CS cloudy': 0.000845690257134285,\n",
       " 'MV foggy CS snowy': 0.000845690257134285,\n",
       " 'MV foggy CS foggy': 0.000845690257134285,\n",
       " 'MV foggy LH rainy': 0.0007117195233308339,\n",
       " 'MV foggy LH sunny': 0.0007117195233308339,\n",
       " 'MV foggy LH cloudy': 0.0007117195233308339,\n",
       " 'MV foggy LH snowy': 0.0007117195233308339,\n",
       " 'MV foggy LH foggy': 0.0007117195233308339,\n",
       " 'MV foggy LN rainy': 0.00041865854313578464,\n",
       " 'MV foggy LN sunny': 0.00041865854313578464,\n",
       " 'MV foggy LN cloudy': 0.00041865854313578464,\n",
       " 'MV foggy LN snowy': 0.00041865854313578464,\n",
       " 'MV foggy LN foggy': 0.00041865854313578464,\n",
       " 'MV foggy EO rainy': 0.0002763146384696179,\n",
       " 'MV foggy EO sunny': 0.0002763146384696179,\n",
       " 'MV foggy EO cloudy': 0.0002763146384696179,\n",
       " 'MV foggy EO snowy': 0.0002763146384696179,\n",
       " 'MV foggy EO foggy': 0.0002763146384696179,\n",
       " 'MV foggy FA rainy': 0.000247008540450113,\n",
       " 'MV foggy FA sunny': 0.000247008540450113,\n",
       " 'MV foggy FA cloudy': 0.000247008540450113,\n",
       " 'MV foggy FA snowy': 0.000247008540450113,\n",
       " 'MV foggy FA foggy': 0.000247008540450113,\n",
       " 'MV foggy VB rainy': 0.00019258292984246096,\n",
       " 'MV foggy VB sunny': 0.00019258292984246096,\n",
       " 'MV foggy VB cloudy': 0.00019258292984246096,\n",
       " 'MV foggy VB snowy': 0.00019258292984246096,\n",
       " 'MV foggy VB foggy': 0.00019258292984246096,\n",
       " 'MV foggy DR rainy': 0.00012141097750937756,\n",
       " 'MV foggy DR sunny': 0.00012141097750937756,\n",
       " 'MV foggy DR cloudy': 0.00012141097750937756,\n",
       " 'MV foggy DR snowy': 0.00012141097750937756,\n",
       " 'MV foggy DR foggy': 0.00012141097750937756,\n",
       " 'MV foggy SV rainy': 0.00010047805035258832,\n",
       " 'MV foggy SV sunny': 0.00010047805035258832,\n",
       " 'MV foggy SV cloudy': 0.00010047805035258832,\n",
       " 'MV foggy SV snowy': 0.00010047805035258832,\n",
       " 'MV foggy SV foggy': 0.00010047805035258832,\n",
       " 'MV foggy PG rainy': 9.629146492123048e-05,\n",
       " 'MV foggy PG sunny': 9.629146492123048e-05,\n",
       " 'MV foggy PG cloudy': 9.629146492123048e-05,\n",
       " 'MV foggy PG snowy': 9.629146492123048e-05,\n",
       " 'MV foggy PG foggy': 9.629146492123048e-05,\n",
       " 'MV foggy KM rainy': 9.210487948987262e-05,\n",
       " 'MV foggy KM sunny': 9.210487948987262e-05,\n",
       " 'MV foggy KM cloudy': 9.210487948987262e-05,\n",
       " 'MV foggy KM snowy': 9.210487948987262e-05,\n",
       " 'MV foggy KM foggy': 9.210487948987262e-05,\n",
       " 'MV foggy LS rainy': 5.442561060765201e-05,\n",
       " 'MV foggy LS sunny': 5.442561060765201e-05,\n",
       " 'MV foggy LS cloudy': 5.442561060765201e-05,\n",
       " 'MV foggy LS snowy': 5.442561060765201e-05,\n",
       " 'MV foggy LS foggy': 5.442561060765201e-05,\n",
       " 'MV foggy MS rainy': 5.023902517629416e-05,\n",
       " 'MV foggy MS sunny': 5.023902517629416e-05,\n",
       " 'MV foggy MS cloudy': 5.023902517629416e-05,\n",
       " 'MV foggy MS snowy': 5.023902517629416e-05,\n",
       " 'MV foggy MS foggy': 5.023902517629416e-05,\n",
       " 'MV foggy YT rainy': 4.605243974493631e-05,\n",
       " 'MV foggy YT sunny': 4.605243974493631e-05,\n",
       " 'MV foggy YT cloudy': 4.605243974493631e-05,\n",
       " 'MV foggy YT snowy': 4.605243974493631e-05,\n",
       " 'MV foggy YT foggy': 4.605243974493631e-05,\n",
       " 'MV foggy ZG rainy': 2.511951258814708e-05,\n",
       " 'MV foggy ZG sunny': 2.511951258814708e-05,\n",
       " 'MV foggy ZG cloudy': 2.511951258814708e-05,\n",
       " 'MV foggy ZG snowy': 2.511951258814708e-05,\n",
       " 'MV foggy ZG foggy': 2.511951258814708e-05,\n",
       " 'MV foggy AA rainy': 1.6746341725431388e-05,\n",
       " 'MV foggy AA sunny': 1.6746341725431388e-05,\n",
       " 'MV foggy AA cloudy': 1.6746341725431388e-05,\n",
       " 'MV foggy AA snowy': 1.6746341725431388e-05,\n",
       " 'MV foggy AA foggy': 1.6746341725431388e-05,\n",
       " 'MV foggy NV rainy': 8.373170862715694e-06,\n",
       " 'MV foggy NV sunny': 8.373170862715694e-06,\n",
       " 'MV foggy NV cloudy': 8.373170862715694e-06,\n",
       " 'MV foggy NV snowy': 8.373170862715694e-06,\n",
       " 'MV foggy NV foggy': 8.373170862715694e-06,\n",
       " 'MV foggy NL rainy': 0.0,\n",
       " 'MV foggy NL sunny': 0.0,\n",
       " 'MV foggy NL cloudy': 0.0,\n",
       " 'MV foggy NL snowy': 0.0,\n",
       " 'MV foggy NL foggy': 0.0,\n",
       " 'MV foggy NH rainy': 0.0,\n",
       " 'MV foggy NH sunny': 0.0,\n",
       " 'MV foggy NH cloudy': 0.0,\n",
       " 'MV foggy NH snowy': 0.0,\n",
       " 'MV foggy NH foggy': 0.0,\n",
       " 'CL rainy MV rainy': 0.0009922207472318097,\n",
       " 'CL rainy MV sunny': 0.0009922207472318097,\n",
       " 'CL rainy MV cloudy': 0.0009922207472318097,\n",
       " 'CL rainy MV snowy': 0.0009922207472318097,\n",
       " 'CL rainy MV foggy': 0.0009922207472318097,\n",
       " 'CL rainy CL rainy': 0.0006896079680174162,\n",
       " 'CL rainy CL sunny': 0.0006896079680174162,\n",
       " 'CL rainy CL cloudy': 0.0006896079680174162,\n",
       " 'CL rainy CL snowy': 0.0006896079680174162,\n",
       " 'CL rainy CL foggy': 0.0006896079680174162,\n",
       " 'CL rainy SP rainy': 0.0006837884914940624,\n",
       " 'CL rainy SP sunny': 0.0006837884914940624,\n",
       " 'CL rainy SP cloudy': 0.0006837884914940624,\n",
       " 'CL rainy SP snowy': 0.0006837884914940624,\n",
       " 'CL rainy SP foggy': 0.0006837884914940624,\n",
       " 'CL rainy GR rainy': 0.0005906768671204028,\n",
       " 'CL rainy GR sunny': 0.0005906768671204028,\n",
       " 'CL rainy GR cloudy': 0.0005906768671204028,\n",
       " 'CL rainy GR snowy': 0.0005906768671204028,\n",
       " 'CL rainy GR foggy': 0.0005906768671204028,\n",
       " 'CL rainy CS rainy': 0.000587767128858726,\n",
       " 'CL rainy CS sunny': 0.000587767128858726,\n",
       " 'CL rainy CS cloudy': 0.000587767128858726,\n",
       " 'CL rainy CS snowy': 0.000587767128858726,\n",
       " 'CL rainy CS foggy': 0.000587767128858726,\n",
       " 'CL rainy LH rainy': 0.0004946555044850663,\n",
       " 'CL rainy LH sunny': 0.0004946555044850663,\n",
       " 'CL rainy LH cloudy': 0.0004946555044850663,\n",
       " 'CL rainy LH snowy': 0.0004946555044850663,\n",
       " 'CL rainy LH foggy': 0.0004946555044850663,\n",
       " 'CL rainy LN rainy': 0.0002909738261676861,\n",
       " 'CL rainy LN sunny': 0.0002909738261676861,\n",
       " 'CL rainy LN cloudy': 0.0002909738261676861,\n",
       " 'CL rainy LN snowy': 0.0002909738261676861,\n",
       " 'CL rainy LN foggy': 0.0002909738261676861,\n",
       " 'CL rainy EO rainy': 0.00019204272527067288,\n",
       " 'CL rainy EO sunny': 0.00019204272527067288,\n",
       " 'CL rainy EO cloudy': 0.00019204272527067288,\n",
       " 'CL rainy EO snowy': 0.00019204272527067288,\n",
       " 'CL rainy EO foggy': 0.00019204272527067288,\n",
       " 'CL rainy FA rainy': 0.00017167455743893482,\n",
       " 'CL rainy FA sunny': 0.00017167455743893482,\n",
       " 'CL rainy FA cloudy': 0.00017167455743893482,\n",
       " 'CL rainy FA snowy': 0.00017167455743893482,\n",
       " 'CL rainy FA foggy': 0.00017167455743893482,\n",
       " 'CL rainy VB rainy': 0.00013384796003713565,\n",
       " 'CL rainy VB sunny': 0.00013384796003713565,\n",
       " 'CL rainy VB cloudy': 0.00013384796003713565,\n",
       " 'CL rainy VB snowy': 0.00013384796003713565,\n",
       " 'CL rainy VB foggy': 0.00013384796003713565,\n",
       " 'CL rainy DR rainy': 8.438240958862898e-05,\n",
       " 'CL rainy DR sunny': 8.438240958862898e-05,\n",
       " 'CL rainy DR cloudy': 8.438240958862898e-05,\n",
       " 'CL rainy DR snowy': 8.438240958862898e-05,\n",
       " 'CL rainy DR foggy': 8.438240958862898e-05,\n",
       " 'CL rainy SV rainy': 6.983371828024467e-05,\n",
       " 'CL rainy SV sunny': 6.983371828024467e-05,\n",
       " 'CL rainy SV cloudy': 6.983371828024467e-05,\n",
       " 'CL rainy SV snowy': 6.983371828024467e-05,\n",
       " 'CL rainy SV foggy': 6.983371828024467e-05,\n",
       " 'CL rainy PG rainy': 6.692398001856783e-05,\n",
       " 'CL rainy PG sunny': 6.692398001856783e-05,\n",
       " 'CL rainy PG cloudy': 6.692398001856783e-05,\n",
       " 'CL rainy PG snowy': 6.692398001856783e-05,\n",
       " 'CL rainy PG foggy': 6.692398001856783e-05,\n",
       " 'CL rainy KM rainy': 6.401424175689094e-05,\n",
       " 'CL rainy KM sunny': 6.401424175689094e-05,\n",
       " 'CL rainy KM cloudy': 6.401424175689094e-05,\n",
       " 'CL rainy KM snowy': 6.401424175689094e-05,\n",
       " 'CL rainy KM foggy': 6.401424175689094e-05,\n",
       " 'CL rainy LS rainy': 3.782659740179919e-05,\n",
       " 'CL rainy LS sunny': 3.782659740179919e-05,\n",
       " 'CL rainy LS cloudy': 3.782659740179919e-05,\n",
       " 'CL rainy LS snowy': 3.782659740179919e-05,\n",
       " 'CL rainy LS foggy': 3.782659740179919e-05,\n",
       " 'CL rainy MS rainy': 3.4916859140122335e-05,\n",
       " 'CL rainy MS sunny': 3.4916859140122335e-05,\n",
       " 'CL rainy MS cloudy': 3.4916859140122335e-05,\n",
       " 'CL rainy MS snowy': 3.4916859140122335e-05,\n",
       " 'CL rainy MS foggy': 3.4916859140122335e-05,\n",
       " 'CL rainy YT rainy': 3.200712087844547e-05,\n",
       " 'CL rainy YT sunny': 3.200712087844547e-05,\n",
       " 'CL rainy YT cloudy': 3.200712087844547e-05,\n",
       " 'CL rainy YT snowy': 3.200712087844547e-05,\n",
       " 'CL rainy YT foggy': 3.200712087844547e-05,\n",
       " 'CL rainy ZG rainy': 1.7458429570061168e-05,\n",
       " 'CL rainy ZG sunny': 1.7458429570061168e-05,\n",
       " 'CL rainy ZG cloudy': 1.7458429570061168e-05,\n",
       " 'CL rainy ZG snowy': 1.7458429570061168e-05,\n",
       " 'CL rainy ZG foggy': 1.7458429570061168e-05,\n",
       " 'CL rainy AA rainy': 1.1638953046707444e-05,\n",
       " 'CL rainy AA sunny': 1.1638953046707444e-05,\n",
       " 'CL rainy AA cloudy': 1.1638953046707444e-05,\n",
       " 'CL rainy AA snowy': 1.1638953046707444e-05,\n",
       " 'CL rainy AA foggy': 1.1638953046707444e-05,\n",
       " 'CL rainy NV rainy': 5.819476523353722e-06,\n",
       " 'CL rainy NV sunny': 5.819476523353722e-06,\n",
       " 'CL rainy NV cloudy': 5.819476523353722e-06,\n",
       " 'CL rainy NV snowy': 5.819476523353722e-06,\n",
       " 'CL rainy NV foggy': 5.819476523353722e-06,\n",
       " 'CL rainy NL rainy': 0.0,\n",
       " 'CL rainy NL sunny': 0.0,\n",
       " 'CL rainy NL cloudy': 0.0,\n",
       " 'CL rainy NL snowy': 0.0,\n",
       " 'CL rainy NL foggy': 0.0,\n",
       " 'CL rainy NH rainy': 0.0,\n",
       " 'CL rainy NH sunny': 0.0,\n",
       " 'CL rainy NH cloudy': 0.0,\n",
       " 'CL rainy NH snowy': 0.0,\n",
       " 'CL rainy NH foggy': 0.0,\n",
       " 'CL sunny MV rainy': 0.0009922207472318097,\n",
       " 'CL sunny MV sunny': 0.0009922207472318097,\n",
       " 'CL sunny MV cloudy': 0.0009922207472318097,\n",
       " 'CL sunny MV snowy': 0.0009922207472318097,\n",
       " 'CL sunny MV foggy': 0.0009922207472318097,\n",
       " 'CL sunny CL rainy': 0.0006896079680174162,\n",
       " 'CL sunny CL sunny': 0.0006896079680174162,\n",
       " 'CL sunny CL cloudy': 0.0006896079680174162,\n",
       " 'CL sunny CL snowy': 0.0006896079680174162,\n",
       " 'CL sunny CL foggy': 0.0006896079680174162,\n",
       " 'CL sunny SP rainy': 0.0006837884914940624,\n",
       " 'CL sunny SP sunny': 0.0006837884914940624,\n",
       " 'CL sunny SP cloudy': 0.0006837884914940624,\n",
       " 'CL sunny SP snowy': 0.0006837884914940624,\n",
       " 'CL sunny SP foggy': 0.0006837884914940624,\n",
       " 'CL sunny GR rainy': 0.0005906768671204028,\n",
       " 'CL sunny GR sunny': 0.0005906768671204028,\n",
       " 'CL sunny GR cloudy': 0.0005906768671204028,\n",
       " 'CL sunny GR snowy': 0.0005906768671204028,\n",
       " 'CL sunny GR foggy': 0.0005906768671204028,\n",
       " 'CL sunny CS rainy': 0.000587767128858726,\n",
       " 'CL sunny CS sunny': 0.000587767128858726,\n",
       " 'CL sunny CS cloudy': 0.000587767128858726,\n",
       " 'CL sunny CS snowy': 0.000587767128858726,\n",
       " 'CL sunny CS foggy': 0.000587767128858726,\n",
       " 'CL sunny LH rainy': 0.0004946555044850663,\n",
       " 'CL sunny LH sunny': 0.0004946555044850663,\n",
       " 'CL sunny LH cloudy': 0.0004946555044850663,\n",
       " 'CL sunny LH snowy': 0.0004946555044850663,\n",
       " 'CL sunny LH foggy': 0.0004946555044850663,\n",
       " 'CL sunny LN rainy': 0.0002909738261676861,\n",
       " 'CL sunny LN sunny': 0.0002909738261676861,\n",
       " 'CL sunny LN cloudy': 0.0002909738261676861,\n",
       " 'CL sunny LN snowy': 0.0002909738261676861,\n",
       " 'CL sunny LN foggy': 0.0002909738261676861,\n",
       " 'CL sunny EO rainy': 0.00019204272527067288,\n",
       " 'CL sunny EO sunny': 0.00019204272527067288,\n",
       " 'CL sunny EO cloudy': 0.00019204272527067288,\n",
       " 'CL sunny EO snowy': 0.00019204272527067288,\n",
       " 'CL sunny EO foggy': 0.00019204272527067288,\n",
       " 'CL sunny FA rainy': 0.00017167455743893482,\n",
       " 'CL sunny FA sunny': 0.00017167455743893482,\n",
       " 'CL sunny FA cloudy': 0.00017167455743893482,\n",
       " 'CL sunny FA snowy': 0.00017167455743893482,\n",
       " 'CL sunny FA foggy': 0.00017167455743893482,\n",
       " 'CL sunny VB rainy': 0.00013384796003713565,\n",
       " 'CL sunny VB sunny': 0.00013384796003713565,\n",
       " 'CL sunny VB cloudy': 0.00013384796003713565,\n",
       " 'CL sunny VB snowy': 0.00013384796003713565,\n",
       " 'CL sunny VB foggy': 0.00013384796003713565,\n",
       " 'CL sunny DR rainy': 8.438240958862898e-05,\n",
       " 'CL sunny DR sunny': 8.438240958862898e-05,\n",
       " 'CL sunny DR cloudy': 8.438240958862898e-05,\n",
       " 'CL sunny DR snowy': 8.438240958862898e-05,\n",
       " 'CL sunny DR foggy': 8.438240958862898e-05,\n",
       " 'CL sunny SV rainy': 6.983371828024467e-05,\n",
       " 'CL sunny SV sunny': 6.983371828024467e-05,\n",
       " 'CL sunny SV cloudy': 6.983371828024467e-05,\n",
       " 'CL sunny SV snowy': 6.983371828024467e-05,\n",
       " 'CL sunny SV foggy': 6.983371828024467e-05,\n",
       " 'CL sunny PG rainy': 6.692398001856783e-05,\n",
       " 'CL sunny PG sunny': 6.692398001856783e-05,\n",
       " 'CL sunny PG cloudy': 6.692398001856783e-05,\n",
       " 'CL sunny PG snowy': 6.692398001856783e-05,\n",
       " 'CL sunny PG foggy': 6.692398001856783e-05,\n",
       " 'CL sunny KM rainy': 6.401424175689094e-05,\n",
       " 'CL sunny KM sunny': 6.401424175689094e-05,\n",
       " 'CL sunny KM cloudy': 6.401424175689094e-05,\n",
       " 'CL sunny KM snowy': 6.401424175689094e-05,\n",
       " 'CL sunny KM foggy': 6.401424175689094e-05,\n",
       " 'CL sunny LS rainy': 3.782659740179919e-05,\n",
       " 'CL sunny LS sunny': 3.782659740179919e-05,\n",
       " 'CL sunny LS cloudy': 3.782659740179919e-05,\n",
       " 'CL sunny LS snowy': 3.782659740179919e-05,\n",
       " 'CL sunny LS foggy': 3.782659740179919e-05,\n",
       " 'CL sunny MS rainy': 3.4916859140122335e-05,\n",
       " 'CL sunny MS sunny': 3.4916859140122335e-05,\n",
       " 'CL sunny MS cloudy': 3.4916859140122335e-05,\n",
       " 'CL sunny MS snowy': 3.4916859140122335e-05,\n",
       " 'CL sunny MS foggy': 3.4916859140122335e-05,\n",
       " 'CL sunny YT rainy': 3.200712087844547e-05,\n",
       " 'CL sunny YT sunny': 3.200712087844547e-05,\n",
       " 'CL sunny YT cloudy': 3.200712087844547e-05,\n",
       " 'CL sunny YT snowy': 3.200712087844547e-05,\n",
       " 'CL sunny YT foggy': 3.200712087844547e-05,\n",
       " 'CL sunny ZG rainy': 1.7458429570061168e-05,\n",
       " 'CL sunny ZG sunny': 1.7458429570061168e-05,\n",
       " 'CL sunny ZG cloudy': 1.7458429570061168e-05,\n",
       " 'CL sunny ZG snowy': 1.7458429570061168e-05,\n",
       " 'CL sunny ZG foggy': 1.7458429570061168e-05,\n",
       " 'CL sunny AA rainy': 1.1638953046707444e-05,\n",
       " 'CL sunny AA sunny': 1.1638953046707444e-05,\n",
       " 'CL sunny AA cloudy': 1.1638953046707444e-05,\n",
       " 'CL sunny AA snowy': 1.1638953046707444e-05,\n",
       " 'CL sunny AA foggy': 1.1638953046707444e-05,\n",
       " 'CL sunny NV rainy': 5.819476523353722e-06,\n",
       " 'CL sunny NV sunny': 5.819476523353722e-06,\n",
       " 'CL sunny NV cloudy': 5.819476523353722e-06,\n",
       " 'CL sunny NV snowy': 5.819476523353722e-06,\n",
       " 'CL sunny NV foggy': 5.819476523353722e-06,\n",
       " 'CL sunny NL rainy': 0.0,\n",
       " 'CL sunny NL sunny': 0.0,\n",
       " 'CL sunny NL cloudy': 0.0,\n",
       " 'CL sunny NL snowy': 0.0,\n",
       " 'CL sunny NL foggy': 0.0,\n",
       " 'CL sunny NH rainy': 0.0,\n",
       " 'CL sunny NH sunny': 0.0,\n",
       " 'CL sunny NH cloudy': 0.0,\n",
       " 'CL sunny NH snowy': 0.0,\n",
       " 'CL sunny NH foggy': 0.0,\n",
       " 'CL cloudy MV rainy': 0.0009922207472318097,\n",
       " 'CL cloudy MV sunny': 0.0009922207472318097,\n",
       " 'CL cloudy MV cloudy': 0.0009922207472318097,\n",
       " 'CL cloudy MV snowy': 0.0009922207472318097,\n",
       " 'CL cloudy MV foggy': 0.0009922207472318097,\n",
       " 'CL cloudy CL rainy': 0.0006896079680174162,\n",
       " 'CL cloudy CL sunny': 0.0006896079680174162,\n",
       " 'CL cloudy CL cloudy': 0.0006896079680174162,\n",
       " 'CL cloudy CL snowy': 0.0006896079680174162,\n",
       " 'CL cloudy CL foggy': 0.0006896079680174162,\n",
       " 'CL cloudy SP rainy': 0.0006837884914940624,\n",
       " 'CL cloudy SP sunny': 0.0006837884914940624,\n",
       " 'CL cloudy SP cloudy': 0.0006837884914940624,\n",
       " 'CL cloudy SP snowy': 0.0006837884914940624,\n",
       " 'CL cloudy SP foggy': 0.0006837884914940624,\n",
       " 'CL cloudy GR rainy': 0.0005906768671204028,\n",
       " 'CL cloudy GR sunny': 0.0005906768671204028,\n",
       " 'CL cloudy GR cloudy': 0.0005906768671204028,\n",
       " 'CL cloudy GR snowy': 0.0005906768671204028,\n",
       " 'CL cloudy GR foggy': 0.0005906768671204028,\n",
       " 'CL cloudy CS rainy': 0.000587767128858726,\n",
       " 'CL cloudy CS sunny': 0.000587767128858726,\n",
       " 'CL cloudy CS cloudy': 0.000587767128858726,\n",
       " 'CL cloudy CS snowy': 0.000587767128858726,\n",
       " 'CL cloudy CS foggy': 0.000587767128858726,\n",
       " 'CL cloudy LH rainy': 0.0004946555044850663,\n",
       " 'CL cloudy LH sunny': 0.0004946555044850663,\n",
       " 'CL cloudy LH cloudy': 0.0004946555044850663,\n",
       " 'CL cloudy LH snowy': 0.0004946555044850663,\n",
       " 'CL cloudy LH foggy': 0.0004946555044850663,\n",
       " 'CL cloudy LN rainy': 0.0002909738261676861,\n",
       " 'CL cloudy LN sunny': 0.0002909738261676861,\n",
       " 'CL cloudy LN cloudy': 0.0002909738261676861,\n",
       " 'CL cloudy LN snowy': 0.0002909738261676861,\n",
       " 'CL cloudy LN foggy': 0.0002909738261676861,\n",
       " 'CL cloudy EO rainy': 0.00019204272527067288,\n",
       " 'CL cloudy EO sunny': 0.00019204272527067288,\n",
       " 'CL cloudy EO cloudy': 0.00019204272527067288,\n",
       " 'CL cloudy EO snowy': 0.00019204272527067288,\n",
       " 'CL cloudy EO foggy': 0.00019204272527067288,\n",
       " 'CL cloudy FA rainy': 0.00017167455743893482,\n",
       " 'CL cloudy FA sunny': 0.00017167455743893482,\n",
       " 'CL cloudy FA cloudy': 0.00017167455743893482,\n",
       " 'CL cloudy FA snowy': 0.00017167455743893482,\n",
       " 'CL cloudy FA foggy': 0.00017167455743893482,\n",
       " 'CL cloudy VB rainy': 0.00013384796003713565,\n",
       " 'CL cloudy VB sunny': 0.00013384796003713565,\n",
       " 'CL cloudy VB cloudy': 0.00013384796003713565,\n",
       " 'CL cloudy VB snowy': 0.00013384796003713565,\n",
       " 'CL cloudy VB foggy': 0.00013384796003713565,\n",
       " 'CL cloudy DR rainy': 8.438240958862898e-05,\n",
       " 'CL cloudy DR sunny': 8.438240958862898e-05,\n",
       " 'CL cloudy DR cloudy': 8.438240958862898e-05,\n",
       " 'CL cloudy DR snowy': 8.438240958862898e-05,\n",
       " 'CL cloudy DR foggy': 8.438240958862898e-05,\n",
       " 'CL cloudy SV rainy': 6.983371828024467e-05,\n",
       " 'CL cloudy SV sunny': 6.983371828024467e-05,\n",
       " 'CL cloudy SV cloudy': 6.983371828024467e-05,\n",
       " 'CL cloudy SV snowy': 6.983371828024467e-05,\n",
       " 'CL cloudy SV foggy': 6.983371828024467e-05,\n",
       " 'CL cloudy PG rainy': 6.692398001856783e-05,\n",
       " 'CL cloudy PG sunny': 6.692398001856783e-05,\n",
       " 'CL cloudy PG cloudy': 6.692398001856783e-05,\n",
       " 'CL cloudy PG snowy': 6.692398001856783e-05,\n",
       " 'CL cloudy PG foggy': 6.692398001856783e-05,\n",
       " 'CL cloudy KM rainy': 6.401424175689094e-05,\n",
       " 'CL cloudy KM sunny': 6.401424175689094e-05,\n",
       " 'CL cloudy KM cloudy': 6.401424175689094e-05,\n",
       " 'CL cloudy KM snowy': 6.401424175689094e-05,\n",
       " 'CL cloudy KM foggy': 6.401424175689094e-05,\n",
       " 'CL cloudy LS rainy': 3.782659740179919e-05,\n",
       " 'CL cloudy LS sunny': 3.782659740179919e-05,\n",
       " 'CL cloudy LS cloudy': 3.782659740179919e-05,\n",
       " 'CL cloudy LS snowy': 3.782659740179919e-05,\n",
       " 'CL cloudy LS foggy': 3.782659740179919e-05,\n",
       " 'CL cloudy MS rainy': 3.4916859140122335e-05,\n",
       " 'CL cloudy MS sunny': 3.4916859140122335e-05,\n",
       " 'CL cloudy MS cloudy': 3.4916859140122335e-05,\n",
       " 'CL cloudy MS snowy': 3.4916859140122335e-05,\n",
       " 'CL cloudy MS foggy': 3.4916859140122335e-05,\n",
       " 'CL cloudy YT rainy': 3.200712087844547e-05,\n",
       " 'CL cloudy YT sunny': 3.200712087844547e-05,\n",
       " 'CL cloudy YT cloudy': 3.200712087844547e-05,\n",
       " 'CL cloudy YT snowy': 3.200712087844547e-05,\n",
       " 'CL cloudy YT foggy': 3.200712087844547e-05,\n",
       " 'CL cloudy ZG rainy': 1.7458429570061168e-05,\n",
       " 'CL cloudy ZG sunny': 1.7458429570061168e-05,\n",
       " 'CL cloudy ZG cloudy': 1.7458429570061168e-05,\n",
       " 'CL cloudy ZG snowy': 1.7458429570061168e-05,\n",
       " 'CL cloudy ZG foggy': 1.7458429570061168e-05,\n",
       " 'CL cloudy AA rainy': 1.1638953046707444e-05,\n",
       " 'CL cloudy AA sunny': 1.1638953046707444e-05,\n",
       " 'CL cloudy AA cloudy': 1.1638953046707444e-05,\n",
       " 'CL cloudy AA snowy': 1.1638953046707444e-05,\n",
       " 'CL cloudy AA foggy': 1.1638953046707444e-05,\n",
       " 'CL cloudy NV rainy': 5.819476523353722e-06,\n",
       " 'CL cloudy NV sunny': 5.819476523353722e-06,\n",
       " 'CL cloudy NV cloudy': 5.819476523353722e-06,\n",
       " 'CL cloudy NV snowy': 5.819476523353722e-06,\n",
       " 'CL cloudy NV foggy': 5.819476523353722e-06,\n",
       " 'CL cloudy NL rainy': 0.0,\n",
       " 'CL cloudy NL sunny': 0.0,\n",
       " 'CL cloudy NL cloudy': 0.0,\n",
       " 'CL cloudy NL snowy': 0.0,\n",
       " 'CL cloudy NL foggy': 0.0,\n",
       " 'CL cloudy NH rainy': 0.0,\n",
       " 'CL cloudy NH sunny': 0.0,\n",
       " 'CL cloudy NH cloudy': 0.0,\n",
       " 'CL cloudy NH snowy': 0.0,\n",
       " 'CL cloudy NH foggy': 0.0,\n",
       " 'CL snowy MV rainy': 0.0009922207472318097,\n",
       " 'CL snowy MV sunny': 0.0009922207472318097,\n",
       " 'CL snowy MV cloudy': 0.0009922207472318097,\n",
       " 'CL snowy MV snowy': 0.0009922207472318097,\n",
       " 'CL snowy MV foggy': 0.0009922207472318097,\n",
       " 'CL snowy CL rainy': 0.0006896079680174162,\n",
       " 'CL snowy CL sunny': 0.0006896079680174162,\n",
       " 'CL snowy CL cloudy': 0.0006896079680174162,\n",
       " 'CL snowy CL snowy': 0.0006896079680174162,\n",
       " 'CL snowy CL foggy': 0.0006896079680174162,\n",
       " 'CL snowy SP rainy': 0.0006837884914940624,\n",
       " 'CL snowy SP sunny': 0.0006837884914940624,\n",
       " 'CL snowy SP cloudy': 0.0006837884914940624,\n",
       " 'CL snowy SP snowy': 0.0006837884914940624,\n",
       " 'CL snowy SP foggy': 0.0006837884914940624,\n",
       " 'CL snowy GR rainy': 0.0005906768671204028,\n",
       " 'CL snowy GR sunny': 0.0005906768671204028,\n",
       " 'CL snowy GR cloudy': 0.0005906768671204028,\n",
       " 'CL snowy GR snowy': 0.0005906768671204028,\n",
       " 'CL snowy GR foggy': 0.0005906768671204028,\n",
       " 'CL snowy CS rainy': 0.000587767128858726,\n",
       " 'CL snowy CS sunny': 0.000587767128858726,\n",
       " 'CL snowy CS cloudy': 0.000587767128858726,\n",
       " 'CL snowy CS snowy': 0.000587767128858726,\n",
       " 'CL snowy CS foggy': 0.000587767128858726,\n",
       " 'CL snowy LH rainy': 0.0004946555044850663,\n",
       " 'CL snowy LH sunny': 0.0004946555044850663,\n",
       " 'CL snowy LH cloudy': 0.0004946555044850663,\n",
       " 'CL snowy LH snowy': 0.0004946555044850663,\n",
       " 'CL snowy LH foggy': 0.0004946555044850663,\n",
       " 'CL snowy LN rainy': 0.0002909738261676861,\n",
       " 'CL snowy LN sunny': 0.0002909738261676861,\n",
       " 'CL snowy LN cloudy': 0.0002909738261676861,\n",
       " 'CL snowy LN snowy': 0.0002909738261676861,\n",
       " 'CL snowy LN foggy': 0.0002909738261676861,\n",
       " 'CL snowy EO rainy': 0.00019204272527067288,\n",
       " 'CL snowy EO sunny': 0.00019204272527067288,\n",
       " 'CL snowy EO cloudy': 0.00019204272527067288,\n",
       " 'CL snowy EO snowy': 0.00019204272527067288,\n",
       " 'CL snowy EO foggy': 0.00019204272527067288,\n",
       " 'CL snowy FA rainy': 0.00017167455743893482,\n",
       " 'CL snowy FA sunny': 0.00017167455743893482,\n",
       " 'CL snowy FA cloudy': 0.00017167455743893482,\n",
       " 'CL snowy FA snowy': 0.00017167455743893482,\n",
       " 'CL snowy FA foggy': 0.00017167455743893482,\n",
       " 'CL snowy VB rainy': 0.00013384796003713565,\n",
       " 'CL snowy VB sunny': 0.00013384796003713565,\n",
       " 'CL snowy VB cloudy': 0.00013384796003713565,\n",
       " 'CL snowy VB snowy': 0.00013384796003713565,\n",
       " 'CL snowy VB foggy': 0.00013384796003713565,\n",
       " 'CL snowy DR rainy': 8.438240958862898e-05,\n",
       " 'CL snowy DR sunny': 8.438240958862898e-05,\n",
       " 'CL snowy DR cloudy': 8.438240958862898e-05,\n",
       " 'CL snowy DR snowy': 8.438240958862898e-05,\n",
       " 'CL snowy DR foggy': 8.438240958862898e-05,\n",
       " 'CL snowy SV rainy': 6.983371828024467e-05,\n",
       " 'CL snowy SV sunny': 6.983371828024467e-05,\n",
       " 'CL snowy SV cloudy': 6.983371828024467e-05,\n",
       " 'CL snowy SV snowy': 6.983371828024467e-05,\n",
       " 'CL snowy SV foggy': 6.983371828024467e-05,\n",
       " 'CL snowy PG rainy': 6.692398001856783e-05,\n",
       " 'CL snowy PG sunny': 6.692398001856783e-05,\n",
       " 'CL snowy PG cloudy': 6.692398001856783e-05,\n",
       " 'CL snowy PG snowy': 6.692398001856783e-05,\n",
       " 'CL snowy PG foggy': 6.692398001856783e-05,\n",
       " 'CL snowy KM rainy': 6.401424175689094e-05,\n",
       " 'CL snowy KM sunny': 6.401424175689094e-05,\n",
       " 'CL snowy KM cloudy': 6.401424175689094e-05,\n",
       " 'CL snowy KM snowy': 6.401424175689094e-05,\n",
       " 'CL snowy KM foggy': 6.401424175689094e-05,\n",
       " 'CL snowy LS rainy': 3.782659740179919e-05,\n",
       " 'CL snowy LS sunny': 3.782659740179919e-05,\n",
       " 'CL snowy LS cloudy': 3.782659740179919e-05,\n",
       " 'CL snowy LS snowy': 3.782659740179919e-05,\n",
       " 'CL snowy LS foggy': 3.782659740179919e-05,\n",
       " 'CL snowy MS rainy': 3.4916859140122335e-05,\n",
       " 'CL snowy MS sunny': 3.4916859140122335e-05,\n",
       " 'CL snowy MS cloudy': 3.4916859140122335e-05,\n",
       " 'CL snowy MS snowy': 3.4916859140122335e-05,\n",
       " 'CL snowy MS foggy': 3.4916859140122335e-05,\n",
       " 'CL snowy YT rainy': 3.200712087844547e-05,\n",
       " 'CL snowy YT sunny': 3.200712087844547e-05,\n",
       " 'CL snowy YT cloudy': 3.200712087844547e-05,\n",
       " 'CL snowy YT snowy': 3.200712087844547e-05,\n",
       " 'CL snowy YT foggy': 3.200712087844547e-05,\n",
       " 'CL snowy ZG rainy': 1.7458429570061168e-05,\n",
       " 'CL snowy ZG sunny': 1.7458429570061168e-05,\n",
       " 'CL snowy ZG cloudy': 1.7458429570061168e-05,\n",
       " 'CL snowy ZG snowy': 1.7458429570061168e-05,\n",
       " 'CL snowy ZG foggy': 1.7458429570061168e-05,\n",
       " 'CL snowy AA rainy': 1.1638953046707444e-05,\n",
       " 'CL snowy AA sunny': 1.1638953046707444e-05,\n",
       " 'CL snowy AA cloudy': 1.1638953046707444e-05,\n",
       " 'CL snowy AA snowy': 1.1638953046707444e-05,\n",
       " 'CL snowy AA foggy': 1.1638953046707444e-05,\n",
       " 'CL snowy NV rainy': 5.819476523353722e-06,\n",
       " 'CL snowy NV sunny': 5.819476523353722e-06,\n",
       " 'CL snowy NV cloudy': 5.819476523353722e-06,\n",
       " 'CL snowy NV snowy': 5.819476523353722e-06,\n",
       " 'CL snowy NV foggy': 5.819476523353722e-06,\n",
       " 'CL snowy NL rainy': 0.0,\n",
       " 'CL snowy NL sunny': 0.0,\n",
       " 'CL snowy NL cloudy': 0.0,\n",
       " 'CL snowy NL snowy': 0.0,\n",
       " 'CL snowy NL foggy': 0.0,\n",
       " 'CL snowy NH rainy': 0.0,\n",
       " 'CL snowy NH sunny': 0.0,\n",
       " 'CL snowy NH cloudy': 0.0,\n",
       " 'CL snowy NH snowy': 0.0,\n",
       " 'CL snowy NH foggy': 0.0,\n",
       " 'CL foggy MV rainy': 0.0009922207472318097,\n",
       " 'CL foggy MV sunny': 0.0009922207472318097,\n",
       " 'CL foggy MV cloudy': 0.0009922207472318097,\n",
       " 'CL foggy MV snowy': 0.0009922207472318097,\n",
       " 'CL foggy MV foggy': 0.0009922207472318097,\n",
       " 'CL foggy CL rainy': 0.0006896079680174162,\n",
       " 'CL foggy CL sunny': 0.0006896079680174162,\n",
       " 'CL foggy CL cloudy': 0.0006896079680174162,\n",
       " 'CL foggy CL snowy': 0.0006896079680174162,\n",
       " 'CL foggy CL foggy': 0.0006896079680174162,\n",
       " ...}"
      ]
     },
     "execution_count": 51,
     "metadata": {},
     "output_type": "execute_result"
    }
   ],
   "source": [
    "weather_NGP_IGP = joint_prob(weather_NGP, weather_IGP , ' ')\n",
    "weather_NGP_IGP"
   ]
  },
  {
   "cell_type": "code",
   "execution_count": 52,
   "metadata": {},
   "outputs": [
    {
     "data": {
      "text/plain": [
       "12100"
      ]
     },
     "execution_count": 52,
     "metadata": {},
     "output_type": "execute_result"
    }
   ],
   "source": [
    "len(weather_NGP_IGP)"
   ]
  },
  {
   "cell_type": "markdown",
   "metadata": {},
   "source": [
    "Now, let us define a predicate function `redbull_wins_one_of_two_on_rainy` where we would find the events where the Red Bull drivers, `MV` and `SP` win any one race under `rainy` conditions. \n",
    "\n",
    "For this we check in the joint probability distribution `weather_NGP_IGP` whether the keys start *or* end with either `MV rainy` **or** `SP rainy`. Further we then check if the other race result is not `MV rainy` and `SP rainy`. This would help us only filter out those events where Red Bull, though wins two races, not both of them are on a rainy day, thus satisfying the condition specified\n",
    "\n",
    "This would give us the dictionary with all key-value pairs where **any or both the Red Bull drivers won only on one rainy day**"
   ]
  },
  {
   "cell_type": "code",
   "execution_count": 53,
   "metadata": {},
   "outputs": [],
   "source": [
    "def redbull_wins_one_of_two_on_rainy(outcome):\n",
    "    return ((outcome.startswith(\"MV rainy\") or outcome.startswith(\"SP rainy\")) and ((not outcome.endswith(\"MV rainy\")) and (not outcome.endswith(\"SP rainy\")))) or ((not outcome.startswith(\"MV rainy\") and not outcome.startswith(\"SP rainy\")) and (outcome.endswith(\"MV rainy\") or outcome.endswith(\"SP rainy\")))"
   ]
  },
  {
   "cell_type": "markdown",
   "metadata": {},
   "source": [
    "Using `such_that` to check the resultant dictionary output"
   ]
  },
  {
   "cell_type": "code",
   "execution_count": 54,
   "metadata": {},
   "outputs": [
    {
     "data": {
      "text/plain": [
       "{'MV rainy MV sunny': 0.011946782821109675,\n",
       " 'MV rainy MV cloudy': 0.011946782821109675,\n",
       " 'MV rainy MV snowy': 0.011946782821109675,\n",
       " 'MV rainy MV foggy': 0.011946782821109675,\n",
       " 'MV rainy CL rainy': 0.008303189233439862,\n",
       " 'MV rainy CL sunny': 0.008303189233439862,\n",
       " 'MV rainy CL cloudy': 0.008303189233439862,\n",
       " 'MV rainy CL snowy': 0.008303189233439862,\n",
       " 'MV rainy CL foggy': 0.008303189233439862,\n",
       " 'MV rainy SP sunny': 0.008233120125984674,\n",
       " 'MV rainy SP cloudy': 0.008233120125984674,\n",
       " 'MV rainy SP snowy': 0.008233120125984674,\n",
       " 'MV rainy SP foggy': 0.008233120125984674,\n",
       " 'MV rainy GR rainy': 0.007112014406701653,\n",
       " 'MV rainy GR sunny': 0.007112014406701653,\n",
       " 'MV rainy GR cloudy': 0.007112014406701653,\n",
       " 'MV rainy GR snowy': 0.007112014406701653,\n",
       " 'MV rainy GR foggy': 0.007112014406701653,\n",
       " 'MV rainy CS rainy': 0.007076979852974058,\n",
       " 'MV rainy CS sunny': 0.007076979852974058,\n",
       " 'MV rainy CS cloudy': 0.007076979852974058,\n",
       " 'MV rainy CS snowy': 0.007076979852974058,\n",
       " 'MV rainy CS foggy': 0.007076979852974058,\n",
       " 'MV rainy LH rainy': 0.00595587413369104,\n",
       " 'MV rainy LH sunny': 0.00595587413369104,\n",
       " 'MV rainy LH cloudy': 0.00595587413369104,\n",
       " 'MV rainy LH snowy': 0.00595587413369104,\n",
       " 'MV rainy LH foggy': 0.00595587413369104,\n",
       " 'MV rainy LN rainy': 0.003503455372759435,\n",
       " 'MV rainy LN sunny': 0.003503455372759435,\n",
       " 'MV rainy LN cloudy': 0.003503455372759435,\n",
       " 'MV rainy LN snowy': 0.003503455372759435,\n",
       " 'MV rainy LN foggy': 0.003503455372759435,\n",
       " 'MV rainy EO rainy': 0.0023122805460212273,\n",
       " 'MV rainy EO sunny': 0.0023122805460212273,\n",
       " 'MV rainy EO cloudy': 0.0023122805460212273,\n",
       " 'MV rainy EO snowy': 0.0023122805460212273,\n",
       " 'MV rainy EO foggy': 0.0023122805460212273,\n",
       " 'MV rainy FA rainy': 0.0020670386699280672,\n",
       " 'MV rainy FA sunny': 0.0020670386699280672,\n",
       " 'MV rainy FA cloudy': 0.0020670386699280672,\n",
       " 'MV rainy FA snowy': 0.0020670386699280672,\n",
       " 'MV rainy FA foggy': 0.0020670386699280672,\n",
       " 'MV rainy VB rainy': 0.0016115894714693402,\n",
       " 'MV rainy VB sunny': 0.0016115894714693402,\n",
       " 'MV rainy VB cloudy': 0.0016115894714693402,\n",
       " 'MV rainy VB snowy': 0.0016115894714693402,\n",
       " 'MV rainy VB foggy': 0.0016115894714693402,\n",
       " 'MV rainy DR rainy': 0.0010160020581002362,\n",
       " 'MV rainy DR sunny': 0.0010160020581002362,\n",
       " 'MV rainy DR cloudy': 0.0010160020581002362,\n",
       " 'MV rainy DR snowy': 0.0010160020581002362,\n",
       " 'MV rainy DR foggy': 0.0010160020581002362,\n",
       " 'MV rainy SV rainy': 0.0008408292894622645,\n",
       " 'MV rainy SV sunny': 0.0008408292894622645,\n",
       " 'MV rainy SV cloudy': 0.0008408292894622645,\n",
       " 'MV rainy SV snowy': 0.0008408292894622645,\n",
       " 'MV rainy SV foggy': 0.0008408292894622645,\n",
       " 'MV rainy PG rainy': 0.0008057947357346701,\n",
       " 'MV rainy PG sunny': 0.0008057947357346701,\n",
       " 'MV rainy PG cloudy': 0.0008057947357346701,\n",
       " 'MV rainy PG snowy': 0.0008057947357346701,\n",
       " 'MV rainy PG foggy': 0.0008057947357346701,\n",
       " 'MV rainy KM rainy': 0.0007707601820070756,\n",
       " 'MV rainy KM sunny': 0.0007707601820070756,\n",
       " 'MV rainy KM cloudy': 0.0007707601820070756,\n",
       " 'MV rainy KM snowy': 0.0007707601820070756,\n",
       " 'MV rainy KM foggy': 0.0007707601820070756,\n",
       " 'MV rainy LS rainy': 0.0004554491984587266,\n",
       " 'MV rainy LS sunny': 0.0004554491984587266,\n",
       " 'MV rainy LS cloudy': 0.0004554491984587266,\n",
       " 'MV rainy LS snowy': 0.0004554491984587266,\n",
       " 'MV rainy LS foggy': 0.0004554491984587266,\n",
       " 'MV rainy MS rainy': 0.00042041464473113223,\n",
       " 'MV rainy MS sunny': 0.00042041464473113223,\n",
       " 'MV rainy MS cloudy': 0.00042041464473113223,\n",
       " 'MV rainy MS snowy': 0.00042041464473113223,\n",
       " 'MV rainy MS foggy': 0.00042041464473113223,\n",
       " 'MV rainy YT rainy': 0.0003853800910035378,\n",
       " 'MV rainy YT sunny': 0.0003853800910035378,\n",
       " 'MV rainy YT cloudy': 0.0003853800910035378,\n",
       " 'MV rainy YT snowy': 0.0003853800910035378,\n",
       " 'MV rainy YT foggy': 0.0003853800910035378,\n",
       " 'MV rainy ZG rainy': 0.00021020732236556611,\n",
       " 'MV rainy ZG sunny': 0.00021020732236556611,\n",
       " 'MV rainy ZG cloudy': 0.00021020732236556611,\n",
       " 'MV rainy ZG snowy': 0.00021020732236556611,\n",
       " 'MV rainy ZG foggy': 0.00021020732236556611,\n",
       " 'MV rainy AA rainy': 0.0001401382149103774,\n",
       " 'MV rainy AA sunny': 0.0001401382149103774,\n",
       " 'MV rainy AA cloudy': 0.0001401382149103774,\n",
       " 'MV rainy AA snowy': 0.0001401382149103774,\n",
       " 'MV rainy AA foggy': 0.0001401382149103774,\n",
       " 'MV rainy NV rainy': 7.00691074551887e-05,\n",
       " 'MV rainy NV sunny': 7.00691074551887e-05,\n",
       " 'MV rainy NV cloudy': 7.00691074551887e-05,\n",
       " 'MV rainy NV snowy': 7.00691074551887e-05,\n",
       " 'MV rainy NV foggy': 7.00691074551887e-05,\n",
       " 'MV rainy NL rainy': 0.0,\n",
       " 'MV rainy NL sunny': 0.0,\n",
       " 'MV rainy NL cloudy': 0.0,\n",
       " 'MV rainy NL snowy': 0.0,\n",
       " 'MV rainy NL foggy': 0.0,\n",
       " 'MV rainy NH rainy': 0.0,\n",
       " 'MV rainy NH sunny': 0.0,\n",
       " 'MV rainy NH cloudy': 0.0,\n",
       " 'MV rainy NH snowy': 0.0,\n",
       " 'MV rainy NH foggy': 0.0,\n",
       " 'MV sunny MV rainy': 0.011946782821109675,\n",
       " 'MV sunny SP rainy': 0.008233120125984674,\n",
       " 'MV cloudy MV rainy': 0.011946782821109675,\n",
       " 'MV cloudy SP rainy': 0.008233120125984674,\n",
       " 'MV snowy MV rainy': 0.011946782821109675,\n",
       " 'MV snowy SP rainy': 0.008233120125984674,\n",
       " 'MV foggy MV rainy': 0.011946782821109675,\n",
       " 'MV foggy SP rainy': 0.008233120125984674,\n",
       " 'CL rainy MV rainy': 0.008303189233439862,\n",
       " 'CL rainy SP rainy': 0.005722139207795799,\n",
       " 'CL sunny MV rainy': 0.008303189233439862,\n",
       " 'CL sunny SP rainy': 0.005722139207795799,\n",
       " 'CL cloudy MV rainy': 0.008303189233439862,\n",
       " 'CL cloudy SP rainy': 0.005722139207795799,\n",
       " 'CL snowy MV rainy': 0.008303189233439862,\n",
       " 'CL snowy SP rainy': 0.005722139207795799,\n",
       " 'CL foggy MV rainy': 0.008303189233439862,\n",
       " 'CL foggy SP rainy': 0.005722139207795799,\n",
       " 'SP rainy MV sunny': 0.008233120125984674,\n",
       " 'SP rainy MV cloudy': 0.008233120125984674,\n",
       " 'SP rainy MV snowy': 0.008233120125984674,\n",
       " 'SP rainy MV foggy': 0.008233120125984674,\n",
       " 'SP rainy CL rainy': 0.005722139207795799,\n",
       " 'SP rainy CL sunny': 0.005722139207795799,\n",
       " 'SP rainy CL cloudy': 0.005722139207795799,\n",
       " 'SP rainy CL snowy': 0.005722139207795799,\n",
       " 'SP rainy CL foggy': 0.005722139207795799,\n",
       " 'SP rainy SP sunny': 0.005673851113215244,\n",
       " 'SP rainy SP cloudy': 0.005673851113215244,\n",
       " 'SP rainy SP snowy': 0.005673851113215244,\n",
       " 'SP rainy SP foggy': 0.005673851113215244,\n",
       " 'SP rainy GR rainy': 0.004901241599926358,\n",
       " 'SP rainy GR sunny': 0.004901241599926358,\n",
       " 'SP rainy GR cloudy': 0.004901241599926358,\n",
       " 'SP rainy GR snowy': 0.004901241599926358,\n",
       " 'SP rainy GR foggy': 0.004901241599926358,\n",
       " 'SP rainy CS rainy': 0.004877097552636081,\n",
       " 'SP rainy CS sunny': 0.004877097552636081,\n",
       " 'SP rainy CS cloudy': 0.004877097552636081,\n",
       " 'SP rainy CS snowy': 0.004877097552636081,\n",
       " 'SP rainy CS foggy': 0.004877097552636081,\n",
       " 'SP rainy LH rainy': 0.004104488039347197,\n",
       " 'SP rainy LH sunny': 0.004104488039347197,\n",
       " 'SP rainy LH cloudy': 0.004104488039347197,\n",
       " 'SP rainy LH snowy': 0.004104488039347197,\n",
       " 'SP rainy LH foggy': 0.004104488039347197,\n",
       " 'SP rainy LN rainy': 0.002414404729027763,\n",
       " 'SP rainy LN sunny': 0.002414404729027763,\n",
       " 'SP rainy LN cloudy': 0.002414404729027763,\n",
       " 'SP rainy LN snowy': 0.002414404729027763,\n",
       " 'SP rainy LN foggy': 0.002414404729027763,\n",
       " 'SP rainy EO rainy': 0.0015935071211583237,\n",
       " 'SP rainy EO sunny': 0.0015935071211583237,\n",
       " 'SP rainy EO cloudy': 0.0015935071211583237,\n",
       " 'SP rainy EO snowy': 0.0015935071211583237,\n",
       " 'SP rainy EO foggy': 0.0015935071211583237,\n",
       " 'SP rainy FA rainy': 0.0014244987901263803,\n",
       " 'SP rainy FA sunny': 0.0014244987901263803,\n",
       " 'SP rainy FA cloudy': 0.0014244987901263803,\n",
       " 'SP rainy FA snowy': 0.0014244987901263803,\n",
       " 'SP rainy FA foggy': 0.0014244987901263803,\n",
       " 'SP rainy VB rainy': 0.0011106261753527711,\n",
       " 'SP rainy VB sunny': 0.0011106261753527711,\n",
       " 'SP rainy VB cloudy': 0.0011106261753527711,\n",
       " 'SP rainy VB snowy': 0.0011106261753527711,\n",
       " 'SP rainy VB foggy': 0.0011106261753527711,\n",
       " 'SP rainy DR rainy': 0.0007001773714180514,\n",
       " 'SP rainy DR sunny': 0.0007001773714180514,\n",
       " 'SP rainy DR cloudy': 0.0007001773714180514,\n",
       " 'SP rainy DR snowy': 0.0007001773714180514,\n",
       " 'SP rainy DR foggy': 0.0007001773714180514,\n",
       " 'SP rainy SV rainy': 0.0005794571349666632,\n",
       " 'SP rainy SV sunny': 0.0005794571349666632,\n",
       " 'SP rainy SV cloudy': 0.0005794571349666632,\n",
       " 'SP rainy SV snowy': 0.0005794571349666632,\n",
       " 'SP rainy SV foggy': 0.0005794571349666632,\n",
       " 'SP rainy PG rainy': 0.0005553130876763856,\n",
       " 'SP rainy PG sunny': 0.0005553130876763856,\n",
       " 'SP rainy PG cloudy': 0.0005553130876763856,\n",
       " 'SP rainy PG snowy': 0.0005553130876763856,\n",
       " 'SP rainy PG foggy': 0.0005553130876763856,\n",
       " 'SP rainy KM rainy': 0.0005311690403861078,\n",
       " 'SP rainy KM sunny': 0.0005311690403861078,\n",
       " 'SP rainy KM cloudy': 0.0005311690403861078,\n",
       " 'SP rainy KM snowy': 0.0005311690403861078,\n",
       " 'SP rainy KM foggy': 0.0005311690403861078,\n",
       " 'SP rainy LS rainy': 0.00031387261477360917,\n",
       " 'SP rainy LS sunny': 0.00031387261477360917,\n",
       " 'SP rainy LS cloudy': 0.00031387261477360917,\n",
       " 'SP rainy LS snowy': 0.00031387261477360917,\n",
       " 'SP rainy LS foggy': 0.00031387261477360917,\n",
       " 'SP rainy MS rainy': 0.0002897285674833316,\n",
       " 'SP rainy MS sunny': 0.0002897285674833316,\n",
       " 'SP rainy MS cloudy': 0.0002897285674833316,\n",
       " 'SP rainy MS snowy': 0.0002897285674833316,\n",
       " 'SP rainy MS foggy': 0.0002897285674833316,\n",
       " 'SP rainy YT rainy': 0.0002655845201930539,\n",
       " 'SP rainy YT sunny': 0.0002655845201930539,\n",
       " 'SP rainy YT cloudy': 0.0002655845201930539,\n",
       " 'SP rainy YT snowy': 0.0002655845201930539,\n",
       " 'SP rainy YT foggy': 0.0002655845201930539,\n",
       " 'SP rainy ZG rainy': 0.0001448642837416658,\n",
       " 'SP rainy ZG sunny': 0.0001448642837416658,\n",
       " 'SP rainy ZG cloudy': 0.0001448642837416658,\n",
       " 'SP rainy ZG snowy': 0.0001448642837416658,\n",
       " 'SP rainy ZG foggy': 0.0001448642837416658,\n",
       " 'SP rainy AA rainy': 9.657618916111053e-05,\n",
       " 'SP rainy AA sunny': 9.657618916111053e-05,\n",
       " 'SP rainy AA cloudy': 9.657618916111053e-05,\n",
       " 'SP rainy AA snowy': 9.657618916111053e-05,\n",
       " 'SP rainy AA foggy': 9.657618916111053e-05,\n",
       " 'SP rainy NV rainy': 4.8288094580555264e-05,\n",
       " 'SP rainy NV sunny': 4.8288094580555264e-05,\n",
       " 'SP rainy NV cloudy': 4.8288094580555264e-05,\n",
       " 'SP rainy NV snowy': 4.8288094580555264e-05,\n",
       " 'SP rainy NV foggy': 4.8288094580555264e-05,\n",
       " 'SP rainy NL rainy': 0.0,\n",
       " 'SP rainy NL sunny': 0.0,\n",
       " 'SP rainy NL cloudy': 0.0,\n",
       " 'SP rainy NL snowy': 0.0,\n",
       " 'SP rainy NL foggy': 0.0,\n",
       " 'SP rainy NH rainy': 0.0,\n",
       " 'SP rainy NH sunny': 0.0,\n",
       " 'SP rainy NH cloudy': 0.0,\n",
       " 'SP rainy NH snowy': 0.0,\n",
       " 'SP rainy NH foggy': 0.0,\n",
       " 'SP sunny MV rainy': 0.008233120125984674,\n",
       " 'SP sunny SP rainy': 0.005673851113215244,\n",
       " 'SP cloudy MV rainy': 0.008233120125984674,\n",
       " 'SP cloudy SP rainy': 0.005673851113215244,\n",
       " 'SP snowy MV rainy': 0.008233120125984674,\n",
       " 'SP snowy SP rainy': 0.005673851113215244,\n",
       " 'SP foggy MV rainy': 0.008233120125984674,\n",
       " 'SP foggy SP rainy': 0.005673851113215244,\n",
       " 'GR rainy MV rainy': 0.007112014406701653,\n",
       " 'GR rainy SP rainy': 0.004901241599926358,\n",
       " 'GR sunny MV rainy': 0.007112014406701653,\n",
       " 'GR sunny SP rainy': 0.004901241599926358,\n",
       " 'GR cloudy MV rainy': 0.007112014406701653,\n",
       " 'GR cloudy SP rainy': 0.004901241599926358,\n",
       " 'GR snowy MV rainy': 0.007112014406701653,\n",
       " 'GR snowy SP rainy': 0.004901241599926358,\n",
       " 'GR foggy MV rainy': 0.007112014406701653,\n",
       " 'GR foggy SP rainy': 0.004901241599926358,\n",
       " 'CS rainy MV rainy': 0.007076979852974058,\n",
       " 'CS rainy SP rainy': 0.004877097552636081,\n",
       " 'CS sunny MV rainy': 0.007076979852974058,\n",
       " 'CS sunny SP rainy': 0.004877097552636081,\n",
       " 'CS cloudy MV rainy': 0.007076979852974058,\n",
       " 'CS cloudy SP rainy': 0.004877097552636081,\n",
       " 'CS snowy MV rainy': 0.007076979852974058,\n",
       " 'CS snowy SP rainy': 0.004877097552636081,\n",
       " 'CS foggy MV rainy': 0.007076979852974058,\n",
       " 'CS foggy SP rainy': 0.004877097552636081,\n",
       " 'LH rainy MV rainy': 0.00595587413369104,\n",
       " 'LH rainy SP rainy': 0.004104488039347197,\n",
       " 'LH sunny MV rainy': 0.00595587413369104,\n",
       " 'LH sunny SP rainy': 0.004104488039347197,\n",
       " 'LH cloudy MV rainy': 0.00595587413369104,\n",
       " 'LH cloudy SP rainy': 0.004104488039347197,\n",
       " 'LH snowy MV rainy': 0.00595587413369104,\n",
       " 'LH snowy SP rainy': 0.004104488039347197,\n",
       " 'LH foggy MV rainy': 0.00595587413369104,\n",
       " 'LH foggy SP rainy': 0.004104488039347197,\n",
       " 'LN rainy MV rainy': 0.003503455372759435,\n",
       " 'LN rainy SP rainy': 0.002414404729027763,\n",
       " 'LN sunny MV rainy': 0.003503455372759435,\n",
       " 'LN sunny SP rainy': 0.002414404729027763,\n",
       " 'LN cloudy MV rainy': 0.003503455372759435,\n",
       " 'LN cloudy SP rainy': 0.002414404729027763,\n",
       " 'LN snowy MV rainy': 0.003503455372759435,\n",
       " 'LN snowy SP rainy': 0.002414404729027763,\n",
       " 'LN foggy MV rainy': 0.003503455372759435,\n",
       " 'LN foggy SP rainy': 0.002414404729027763,\n",
       " 'EO rainy MV rainy': 0.0023122805460212273,\n",
       " 'EO rainy SP rainy': 0.0015935071211583237,\n",
       " 'EO sunny MV rainy': 0.0023122805460212273,\n",
       " 'EO sunny SP rainy': 0.0015935071211583237,\n",
       " 'EO cloudy MV rainy': 0.0023122805460212273,\n",
       " 'EO cloudy SP rainy': 0.0015935071211583237,\n",
       " 'EO snowy MV rainy': 0.0023122805460212273,\n",
       " 'EO snowy SP rainy': 0.0015935071211583237,\n",
       " 'EO foggy MV rainy': 0.0023122805460212273,\n",
       " 'EO foggy SP rainy': 0.0015935071211583237,\n",
       " 'FA rainy MV rainy': 0.0020670386699280672,\n",
       " 'FA rainy SP rainy': 0.0014244987901263803,\n",
       " 'FA sunny MV rainy': 0.0020670386699280672,\n",
       " 'FA sunny SP rainy': 0.0014244987901263803,\n",
       " 'FA cloudy MV rainy': 0.0020670386699280672,\n",
       " 'FA cloudy SP rainy': 0.0014244987901263803,\n",
       " 'FA snowy MV rainy': 0.0020670386699280672,\n",
       " 'FA snowy SP rainy': 0.0014244987901263803,\n",
       " 'FA foggy MV rainy': 0.0020670386699280672,\n",
       " 'FA foggy SP rainy': 0.0014244987901263803,\n",
       " 'VB rainy MV rainy': 0.0016115894714693402,\n",
       " 'VB rainy SP rainy': 0.0011106261753527711,\n",
       " 'VB sunny MV rainy': 0.0016115894714693402,\n",
       " 'VB sunny SP rainy': 0.0011106261753527711,\n",
       " 'VB cloudy MV rainy': 0.0016115894714693402,\n",
       " 'VB cloudy SP rainy': 0.0011106261753527711,\n",
       " 'VB snowy MV rainy': 0.0016115894714693402,\n",
       " 'VB snowy SP rainy': 0.0011106261753527711,\n",
       " 'VB foggy MV rainy': 0.0016115894714693402,\n",
       " 'VB foggy SP rainy': 0.0011106261753527711,\n",
       " 'DR rainy MV rainy': 0.0010160020581002362,\n",
       " 'DR rainy SP rainy': 0.0007001773714180514,\n",
       " 'DR sunny MV rainy': 0.0010160020581002362,\n",
       " 'DR sunny SP rainy': 0.0007001773714180514,\n",
       " 'DR cloudy MV rainy': 0.0010160020581002362,\n",
       " 'DR cloudy SP rainy': 0.0007001773714180514,\n",
       " 'DR snowy MV rainy': 0.0010160020581002362,\n",
       " 'DR snowy SP rainy': 0.0007001773714180514,\n",
       " 'DR foggy MV rainy': 0.0010160020581002362,\n",
       " 'DR foggy SP rainy': 0.0007001773714180514,\n",
       " 'SV rainy MV rainy': 0.0008408292894622645,\n",
       " 'SV rainy SP rainy': 0.0005794571349666632,\n",
       " 'SV sunny MV rainy': 0.0008408292894622645,\n",
       " 'SV sunny SP rainy': 0.0005794571349666632,\n",
       " 'SV cloudy MV rainy': 0.0008408292894622645,\n",
       " 'SV cloudy SP rainy': 0.0005794571349666632,\n",
       " 'SV snowy MV rainy': 0.0008408292894622645,\n",
       " 'SV snowy SP rainy': 0.0005794571349666632,\n",
       " 'SV foggy MV rainy': 0.0008408292894622645,\n",
       " 'SV foggy SP rainy': 0.0005794571349666632,\n",
       " 'PG rainy MV rainy': 0.0008057947357346701,\n",
       " 'PG rainy SP rainy': 0.0005553130876763856,\n",
       " 'PG sunny MV rainy': 0.0008057947357346701,\n",
       " 'PG sunny SP rainy': 0.0005553130876763856,\n",
       " 'PG cloudy MV rainy': 0.0008057947357346701,\n",
       " 'PG cloudy SP rainy': 0.0005553130876763856,\n",
       " 'PG snowy MV rainy': 0.0008057947357346701,\n",
       " 'PG snowy SP rainy': 0.0005553130876763856,\n",
       " 'PG foggy MV rainy': 0.0008057947357346701,\n",
       " 'PG foggy SP rainy': 0.0005553130876763856,\n",
       " 'KM rainy MV rainy': 0.0007707601820070756,\n",
       " 'KM rainy SP rainy': 0.0005311690403861078,\n",
       " 'KM sunny MV rainy': 0.0007707601820070756,\n",
       " 'KM sunny SP rainy': 0.0005311690403861078,\n",
       " 'KM cloudy MV rainy': 0.0007707601820070756,\n",
       " 'KM cloudy SP rainy': 0.0005311690403861078,\n",
       " 'KM snowy MV rainy': 0.0007707601820070756,\n",
       " 'KM snowy SP rainy': 0.0005311690403861078,\n",
       " 'KM foggy MV rainy': 0.0007707601820070756,\n",
       " 'KM foggy SP rainy': 0.0005311690403861078,\n",
       " 'LS rainy MV rainy': 0.0004554491984587266,\n",
       " 'LS rainy SP rainy': 0.00031387261477360917,\n",
       " 'LS sunny MV rainy': 0.0004554491984587266,\n",
       " 'LS sunny SP rainy': 0.00031387261477360917,\n",
       " 'LS cloudy MV rainy': 0.0004554491984587266,\n",
       " 'LS cloudy SP rainy': 0.00031387261477360917,\n",
       " 'LS snowy MV rainy': 0.0004554491984587266,\n",
       " 'LS snowy SP rainy': 0.00031387261477360917,\n",
       " 'LS foggy MV rainy': 0.0004554491984587266,\n",
       " 'LS foggy SP rainy': 0.00031387261477360917,\n",
       " 'MS rainy MV rainy': 0.00042041464473113223,\n",
       " 'MS rainy SP rainy': 0.0002897285674833316,\n",
       " 'MS sunny MV rainy': 0.00042041464473113223,\n",
       " 'MS sunny SP rainy': 0.0002897285674833316,\n",
       " 'MS cloudy MV rainy': 0.00042041464473113223,\n",
       " 'MS cloudy SP rainy': 0.0002897285674833316,\n",
       " 'MS snowy MV rainy': 0.00042041464473113223,\n",
       " 'MS snowy SP rainy': 0.0002897285674833316,\n",
       " 'MS foggy MV rainy': 0.00042041464473113223,\n",
       " 'MS foggy SP rainy': 0.0002897285674833316,\n",
       " 'YT rainy MV rainy': 0.0003853800910035378,\n",
       " 'YT rainy SP rainy': 0.0002655845201930539,\n",
       " 'YT sunny MV rainy': 0.0003853800910035378,\n",
       " 'YT sunny SP rainy': 0.0002655845201930539,\n",
       " 'YT cloudy MV rainy': 0.0003853800910035378,\n",
       " 'YT cloudy SP rainy': 0.0002655845201930539,\n",
       " 'YT snowy MV rainy': 0.0003853800910035378,\n",
       " 'YT snowy SP rainy': 0.0002655845201930539,\n",
       " 'YT foggy MV rainy': 0.0003853800910035378,\n",
       " 'YT foggy SP rainy': 0.0002655845201930539,\n",
       " 'ZG rainy MV rainy': 0.00021020732236556611,\n",
       " 'ZG rainy SP rainy': 0.0001448642837416658,\n",
       " 'ZG sunny MV rainy': 0.00021020732236556611,\n",
       " 'ZG sunny SP rainy': 0.0001448642837416658,\n",
       " 'ZG cloudy MV rainy': 0.00021020732236556611,\n",
       " 'ZG cloudy SP rainy': 0.0001448642837416658,\n",
       " 'ZG snowy MV rainy': 0.00021020732236556611,\n",
       " 'ZG snowy SP rainy': 0.0001448642837416658,\n",
       " 'ZG foggy MV rainy': 0.00021020732236556611,\n",
       " 'ZG foggy SP rainy': 0.0001448642837416658,\n",
       " 'AA rainy MV rainy': 0.0001401382149103774,\n",
       " 'AA rainy SP rainy': 9.657618916111053e-05,\n",
       " 'AA sunny MV rainy': 0.0001401382149103774,\n",
       " 'AA sunny SP rainy': 9.657618916111053e-05,\n",
       " 'AA cloudy MV rainy': 0.0001401382149103774,\n",
       " 'AA cloudy SP rainy': 9.657618916111053e-05,\n",
       " 'AA snowy MV rainy': 0.0001401382149103774,\n",
       " 'AA snowy SP rainy': 9.657618916111053e-05,\n",
       " 'AA foggy MV rainy': 0.0001401382149103774,\n",
       " 'AA foggy SP rainy': 9.657618916111053e-05,\n",
       " 'NV rainy MV rainy': 7.00691074551887e-05,\n",
       " 'NV rainy SP rainy': 4.8288094580555264e-05,\n",
       " 'NV sunny MV rainy': 7.00691074551887e-05,\n",
       " 'NV sunny SP rainy': 4.8288094580555264e-05,\n",
       " 'NV cloudy MV rainy': 7.00691074551887e-05,\n",
       " 'NV cloudy SP rainy': 4.8288094580555264e-05,\n",
       " 'NV snowy MV rainy': 7.00691074551887e-05,\n",
       " 'NV snowy SP rainy': 4.8288094580555264e-05,\n",
       " 'NV foggy MV rainy': 7.00691074551887e-05,\n",
       " 'NV foggy SP rainy': 4.8288094580555264e-05,\n",
       " 'NL rainy MV rainy': 0.0,\n",
       " 'NL rainy SP rainy': 0.0,\n",
       " 'NL sunny MV rainy': 0.0,\n",
       " 'NL sunny SP rainy': 0.0,\n",
       " 'NL cloudy MV rainy': 0.0,\n",
       " 'NL cloudy SP rainy': 0.0,\n",
       " 'NL snowy MV rainy': 0.0,\n",
       " 'NL snowy SP rainy': 0.0,\n",
       " 'NL foggy MV rainy': 0.0,\n",
       " 'NL foggy SP rainy': 0.0,\n",
       " 'NH rainy MV rainy': 0.0,\n",
       " 'NH rainy SP rainy': 0.0,\n",
       " 'NH sunny MV rainy': 0.0,\n",
       " 'NH sunny SP rainy': 0.0,\n",
       " 'NH cloudy MV rainy': 0.0,\n",
       " 'NH cloudy SP rainy': 0.0,\n",
       " 'NH snowy MV rainy': 0.0,\n",
       " 'NH snowy SP rainy': 0.0,\n",
       " 'NH foggy MV rainy': 0.0,\n",
       " 'NH foggy SP rainy': 0.0}"
      ]
     },
     "execution_count": 54,
     "metadata": {},
     "output_type": "execute_result"
    }
   ],
   "source": [
    "such_that(redbull_wins_one_of_two_on_rainy, weather_NGP_IGP)"
   ]
  },
  {
   "cell_type": "markdown",
   "metadata": {},
   "source": [
    "Now, we have to find the probability that Red Bull wins both the race. So we again define a predicate function `redbull_wins_both_race` where we check if the key/event either begins with `MV` or `SP` or contain `MV` or `SP` as the 3rd element after using `.split(\" \")` on the key string. This would return all the events where the winner was only one amongst `MV` or `SP` for both the races"
   ]
  },
  {
   "cell_type": "code",
   "execution_count": 55,
   "metadata": {},
   "outputs": [],
   "source": [
    "def redbull_wins_both_race(outcome): \n",
    "    return (outcome.startswith(\"MV\") or outcome.startswith(\"SP\")) and (outcome.split(\" \")[2]==\"MV\" or outcome.split(\" \")[2]==\"SP\") "
   ]
  },
  {
   "cell_type": "markdown",
   "metadata": {},
   "source": [
    "Using the `such_that` function to view the resultant probability distribution. As you can spot below, Red Bull only wins one amongst the two races on a rainy day, though both the races are eventually won by Red Bull"
   ]
  },
  {
   "cell_type": "code",
   "execution_count": 56,
   "metadata": {
    "scrolled": true
   },
   "outputs": [
    {
     "data": {
      "text/plain": [
       "{'MV rainy MV sunny': 0.0438100555796682,\n",
       " 'MV rainy MV cloudy': 0.0438100555796682,\n",
       " 'MV rainy MV snowy': 0.0438100555796682,\n",
       " 'MV rainy MV foggy': 0.0438100555796682,\n",
       " 'MV rainy SP sunny': 0.030191680531442902,\n",
       " 'MV rainy SP cloudy': 0.030191680531442902,\n",
       " 'MV rainy SP snowy': 0.030191680531442902,\n",
       " 'MV rainy SP foggy': 0.030191680531442902,\n",
       " 'MV sunny MV rainy': 0.0438100555796682,\n",
       " 'MV sunny SP rainy': 0.030191680531442902,\n",
       " 'MV cloudy MV rainy': 0.0438100555796682,\n",
       " 'MV cloudy SP rainy': 0.030191680531442902,\n",
       " 'MV snowy MV rainy': 0.0438100555796682,\n",
       " 'MV snowy SP rainy': 0.030191680531442902,\n",
       " 'MV foggy MV rainy': 0.0438100555796682,\n",
       " 'MV foggy SP rainy': 0.030191680531442902,\n",
       " 'SP rainy MV sunny': 0.030191680531442902,\n",
       " 'SP rainy MV cloudy': 0.030191680531442902,\n",
       " 'SP rainy MV snowy': 0.030191680531442902,\n",
       " 'SP rainy MV foggy': 0.030191680531442902,\n",
       " 'SP rainy SP sunny': 0.020806583357445986,\n",
       " 'SP rainy SP cloudy': 0.020806583357445986,\n",
       " 'SP rainy SP snowy': 0.020806583357445986,\n",
       " 'SP rainy SP foggy': 0.020806583357445986,\n",
       " 'SP sunny MV rainy': 0.030191680531442902,\n",
       " 'SP sunny SP rainy': 0.020806583357445986,\n",
       " 'SP cloudy MV rainy': 0.030191680531442902,\n",
       " 'SP cloudy SP rainy': 0.020806583357445986,\n",
       " 'SP snowy MV rainy': 0.030191680531442902,\n",
       " 'SP snowy SP rainy': 0.020806583357445986,\n",
       " 'SP foggy MV rainy': 0.030191680531442902,\n",
       " 'SP foggy SP rainy': 0.020806583357445986}"
      ]
     },
     "execution_count": 56,
     "metadata": {},
     "output_type": "execute_result"
    }
   ],
   "source": [
    "such_that(redbull_wins_both_race, such_that(redbull_wins_one_of_two_on_rainy, weather_NGP_IGP))"
   ]
  },
  {
   "cell_type": "markdown",
   "metadata": {},
   "source": [
    "Now, calculating the probability for this scenario using the `p` function, we obtain the below probability"
   ]
  },
  {
   "cell_type": "code",
   "execution_count": 57,
   "metadata": {},
   "outputs": [
    {
     "data": {
      "text/plain": [
       "0.27269499349035414"
      ]
     },
     "execution_count": 57,
     "metadata": {},
     "output_type": "execute_result"
    }
   ],
   "source": [
    "p(redbull_wins_both_race, such_that(redbull_wins_one_of_two_on_rainy,weather_NGP_IGP))"
   ]
  },
  {
   "cell_type": "markdown",
   "metadata": {},
   "source": [
    "## Question 4:\n",
    "After the races, there is always a media blitz! Knowing that everyone has a favorite F1 driver, fashion brands pay F1 drivers to be their ambassadors. Let's assume that brands combine to organize one hundred fashion shows every season and that each retired or active F1 driver is under contract to attend exactly one fashion show every season in order to wear a fashion brand's clothes and to represent the brand (e.g. Gucci). For the sake of simplicity let's also assume that there are exactly 100 F1 retired and active driveres. If you go to a fashion show, what is the probability you will see your favorite driver (e.g. Lewis Hamilton)? What is the probability you will see a Formula 1 driver? How many fashion shows do you need to attend per season to have at least a 50% chance to share a cocktail with a Formula 1 driver?"
   ]
  },
  {
   "cell_type": "markdown",
   "metadata": {},
   "source": [
    "## Solution:"
   ]
  },
  {
   "cell_type": "markdown",
   "metadata": {},
   "source": [
    "Here we will calculate the solution and build functions that are both dependent and independent of the total number of people attending the fashion events"
   ]
  },
  {
   "cell_type": "markdown",
   "metadata": {},
   "source": [
    "Consider Case 1, where we know the total number of people that would attend the fashion shows and we also know, the total number of people in the show with whom the driver will share a cocktail."
   ]
  },
  {
   "cell_type": "markdown",
   "metadata": {},
   "source": [
    "In Case 2, the probability of sharing a cocktail is independent on the number of people attending or getting the chance to share a cocktail with the driver and is purely dependent on the agreement or disagreement of the driver upon you asking for consent"
   ]
  },
  {
   "cell_type": "markdown",
   "metadata": {},
   "source": [
    "### Case 1"
   ]
  },
  {
   "cell_type": "markdown",
   "metadata": {},
   "source": [
    "In this case, lets consider two scenarios:<br>\n",
    "Case 1a: Each brand has one brand ambassador (there are total of 100 brands each having one ambassador) and one fashion event<br>\n",
    "Case 1b: Each brand has possibility of more than one brand ambassador (Total number of brands is less than 100) and more than one fashion event"
   ]
  },
  {
   "cell_type": "markdown",
   "metadata": {},
   "source": [
    "According to **Case 1a**<br>\n",
    "* Since there is only one favourite driver and he can attend any one of the 100 fashion events, therefore the probability of meeting your favourite Formula 1 driver (retired or active) = 1/100\n",
    "* Now since there are 100 fashion events and each of the 100 brands have one ambassador each, therefore every event surely has one Formula 1 driver attending that event. Therefore 100 F1 drivers attend the 100 fashion events and thus the probability of one F1 driver at one fashion event becomes 100/100 = 1\n",
    "* For sharing a cocktail with a F1 driver, you need to be one amongst the lucky people who will share a cocktail with a driver. Suppose there are a total of 30 people attending each event and the driver only drinks with one of these people, thus you getting a chance to drink = total number of people driver drinks with/total number of people attending = 1/30. We also need to consider the probability of meeting a Formula 1 driver in the first case, which in this case = 1. Therefore joint probability that you meet a driver and you share a drink with him = 1 * 1/30. Now in order to have atleast a 50% or 0.5 chance to share a cocktail with the driver, we divide 0.5 by the joint probability obtained thus resulting in the number of days required, which is, 0.5/ (1* 1/30) = **15 days**"
   ]
  },
  {
   "cell_type": "markdown",
   "metadata": {},
   "source": [
    "According to **Case 1b**<br>\n",
    "* Here as well, there is only one favourite driver and he can attend any one of the 100 fashion events, therefore the probability of meeting your favourite Formula 1 driver (retired or active) still remains 0.01 or 1/100\n",
    "* Now since there are less than 100 fashion brands, hence each brand has more than one ambassador and more than one fashion event. For instance, say there are only 40 brands and all these brands have multiple ambassadors and mulitple shows each but the total count of shows and ambassadors still remains 100 each. And there is also a probability that all of these ambassadors of all the brands attend only 40 out of the total 100 shows. Hence there are only a total of 40 events where F1 drivers actually attend an event, and 60 events have no drivers in attendance. Thus the probability now becomes (no. of events attended by drivers)/(total number of shows) = 40/100\n",
    "* Again, for sharing a cocktail with a F1 driver, you need to be one amongst the lucky people who will share a cocktail with a driver. Suppose there are a total of 25 people attending each event and each driver only drinks with 1 of these people, thus you getting a chance to drink = total number of people driver drinks with/total number of people attending = 1/25. We also need to consider the probability of meeting a Formula 1 driver in the first case, which in this case = 40/100. Therefore joint probability that you meet a driver and you share a drink with him = 40/100 * 1/25. Now in order to have atleast a 50% or 0.5 chance to share a cocktail with the driver, we divide 0.5 by the joint probability obtained thus resulting in the number of days required, which is, 0.5/ (40/100* 1/25) = **32 days** (note that here, we take ceil division, since we can't have total number of days in fractions)"
   ]
  },
  {
   "cell_type": "code",
   "execution_count": 58,
   "metadata": {},
   "outputs": [],
   "source": [
    "def question4(total_fashion_shows_attended_by_formula1_drivers , total_fashion_shows_held , count_when_driver_drink_with_fans , total_fans_in_season):\n",
    "    \n",
    "    # probability you will see your favorite driver (e.g. Lewis Hamilton) assuming you don't know which driver represents which brand\n",
    "    prob_of_seeing_favorite_driver = 1 /total_fashion_shows_held\n",
    "    print('Probability of seeing the favorite driver = ', prob_of_seeing_favorite_driver)\n",
    "    \n",
    "    #probability of seeing a formula 1 driver\n",
    "    probability_of_seeing_a_formula1_driver = total_fashion_shows_attended_by_formula1_drivers / total_fashion_shows_held\n",
    "    print('Probability of seeing a formula 1 driver = ', probability_of_seeing_a_formula1_driver )\n",
    "\n",
    "    # First find the probability of sharing a cocktail with the F1 player\n",
    "    cocktail_probability = probability_of_seeing_a_formula1_driver * (count_when_driver_drink_with_fans/total_fans_in_season)\n",
    "\n",
    "    # How many fashion shows do you need to attend per season to have at least a 50% chance to share a cocktail with a Formula 1 driver?\n",
    "    print(\"Number of shows needed to attend for 50% of the chance sharing a cocktail with the player:\" , math.ceil(0.5/cocktail_probability))"
   ]
  },
  {
   "cell_type": "markdown",
   "metadata": {},
   "source": [
    "Lets check both our scenarios for Case 1 now"
   ]
  },
  {
   "cell_type": "markdown",
   "metadata": {},
   "source": [
    "Case 1a:"
   ]
  },
  {
   "cell_type": "code",
   "execution_count": 59,
   "metadata": {},
   "outputs": [
    {
     "name": "stdout",
     "output_type": "stream",
     "text": [
      "Probability of seeing the favorite driver =  0.01\n",
      "Probability of seeing a formula 1 driver =  1.0\n",
      "Number of shows needed to attend for 50% of the chance sharing a cocktail with the player: 15\n"
     ]
    }
   ],
   "source": [
    "question4(100,100,1,30)"
   ]
  },
  {
   "cell_type": "markdown",
   "metadata": {},
   "source": [
    "Case 1b:"
   ]
  },
  {
   "cell_type": "code",
   "execution_count": 60,
   "metadata": {},
   "outputs": [
    {
     "name": "stdout",
     "output_type": "stream",
     "text": [
      "Probability of seeing the favorite driver =  0.01\n",
      "Probability of seeing a formula 1 driver =  0.4\n",
      "Number of shows needed to attend for 50% of the chance sharing a cocktail with the player: 32\n"
     ]
    }
   ],
   "source": [
    "question4(40, 100, 1, 25)"
   ]
  },
  {
   "cell_type": "markdown",
   "metadata": {},
   "source": [
    "As we can see, both the cases are verified here"
   ]
  },
  {
   "cell_type": "markdown",
   "metadata": {},
   "source": [
    "### Case 2\n",
    "\n",
    "So in this also we will have two scenarios for **Case 2**:<br>\n",
    "**Case 2a:** Each brand has one brand ambassador (there are total of 100 brands each having one ambassador) and one fashion event<br>\n",
    "**Case 2b:** Each brand has possibility of more than one brand ambassador (Total number of brands is less than 100) and more than one fashion event"
   ]
  },
  {
   "cell_type": "markdown",
   "metadata": {},
   "source": [
    "According to **Case 2a**<br>\n",
    "* Since there is only one favourite driver and he can attend any one of the 100 fashion events, therefore the probability of meeting your favourite Formula 1 driver (retired or active) = 1/100\n",
    "* Now since there are 100 fashion events and each of the 100 brands have one ambassador each, therefore every event surely has one Formula 1 driver attending that event. Therefore 100 F1 drivers attend the 100 fashion events and thus the probability of one F1 driver at one fashion event becomes 100/100 = 1\n",
    "* For sharing a cocktail with a F1 driver, you need to ask him for consent. There are two possibilities, the driver either **agrees** or **disagrees** with equal probability. Thus probability of sharing a cocktail becomes 1/2. And since the first day you are going to meet a F1 driver is Day 1, hence from **Day 1** your probability of sharing a cocktail becomes atleast 0.5 or 50%"
   ]
  },
  {
   "cell_type": "markdown",
   "metadata": {},
   "source": [
    "According to **Case 2b**<br>\n",
    "* Here as well, there is only one favourite driver and he can attend any one of the 100 fashion events, therefore the probability of meeting your favourite Formula 1 driver (retired or active) still remains 0.01 or 1/100\n",
    "* Now since there are less than 100 fashion brands, hence each brand has more than one ambassador and more than one fashion event. For instance, say there are only 80 brands and 20 of these 80 brands have 2 ambassadors and 2 events each. And there is also a probability that both of these ambassadors of all the brands attend only one of the two events. Hence there are only a total of 80 events where F1 drivers actually attend an event, and 20 events have no drivers in attendance. Thus the probability now becomes (no. of events attended by drivers)/(total number of shows held) = 80/100\n",
    "* For sharing a cocktail with a F1 driver, you need to ask him for consent and again there are two possibilities, the driver either **agrees** or **disagrees** with equal probability. But for you to ask the driver, ou need to have atleast **one** F1 driver present at the event. Considering the scenario from point 1, since there are only 80 events with actual attendance. It can be possible that the 20 events with no driver attendance take place first (worst case scenario). Thus there would be an attendance from the 21st event (100 - 80 + 1 or total events - total events with attendance + 1) and probability of sharing a cocktail is 1/2 depending upon the agreemnt or disagreement from the driver. Since in this worst case scenario, the first day you are going to meet a F1 driver is Day 21, hence from **Day 21** your probability of sharing a cocktail becomes atleast 0.5 or 50%"
   ]
  },
  {
   "cell_type": "markdown",
   "metadata": {},
   "source": [
    "Putting all of these scenarios in a function using formulas specified above, we obtain the below function `question4_v2`"
   ]
  },
  {
   "cell_type": "code",
   "execution_count": 61,
   "metadata": {},
   "outputs": [],
   "source": [
    "def question4_v2(shows_attended_by_drivers , total_shows_held):\n",
    "    \n",
    "    # probability you will see your favorite driver (e.g. Lewis Hamilton) assuming you don't know which driver represents which brand\n",
    "    prob_of_seeing_favorite_driver = 1/total_shows_held       #since everyone has only *one* favourite driver\n",
    "    print('Probability of seeing your favorite F1 driver = ', prob_of_seeing_favorite_driver)\n",
    "\n",
    "    #probability of seeing a formula 1 driver\n",
    "    probability_of_seeing_a_formula1_driver = shows_attended_by_drivers/total_shows_held\n",
    "    print('Probability of seeing *a* Formula 1 driver = ', probability_of_seeing_a_formula1_driver )\n",
    "\n",
    "    # How many fashion shows do you need to attend per season to have at least a 50% chance to share a cocktail with a Formula 1 driver?\n",
    "    # Here we consider the least number of events you need to attend in order to ask the driver for a cocktail, where the driver would then agree or disagree with equal probability\n",
    "    # similar to finding (shows with no drivers + 1) to find the first day in a worst case scenario from when the drivers start attending the shows\n",
    "    shows_required_to_share_cocktail = total_shows_held - shows_attended_by_drivers + 1   \n",
    "    print(\"Minimum number of shows needed to attend for 50% of the chance sharing a cocktail with the player:\" , shows_required_to_share_cocktail)"
   ]
  },
  {
   "cell_type": "markdown",
   "metadata": {},
   "source": [
    "Lets execute both our cases below"
   ]
  },
  {
   "cell_type": "markdown",
   "metadata": {},
   "source": [
    "Case 2a:"
   ]
  },
  {
   "cell_type": "code",
   "execution_count": 62,
   "metadata": {},
   "outputs": [
    {
     "name": "stdout",
     "output_type": "stream",
     "text": [
      "Probability of seeing your favorite F1 driver =  0.01\n",
      "Probability of seeing *a* Formula 1 driver =  1.0\n",
      "Minimum number of shows needed to attend for 50% of the chance sharing a cocktail with the player: 1\n"
     ]
    }
   ],
   "source": [
    "question4_v2(100,100)"
   ]
  },
  {
   "cell_type": "markdown",
   "metadata": {},
   "source": [
    "Case 2b:"
   ]
  },
  {
   "cell_type": "code",
   "execution_count": 63,
   "metadata": {
    "scrolled": true
   },
   "outputs": [
    {
     "name": "stdout",
     "output_type": "stream",
     "text": [
      "Probability of seeing your favorite F1 driver =  0.01\n",
      "Probability of seeing *a* Formula 1 driver =  0.8\n",
      "Minimum number of shows needed to attend for 50% of the chance sharing a cocktail with the player: 21\n"
     ]
    }
   ],
   "source": [
    "question4_v2(80,100)"
   ]
  },
  {
   "cell_type": "markdown",
   "metadata": {},
   "source": [
    "As seen above, both our cases are fully satisfied and verified from our function"
   ]
  }
 ],
 "metadata": {
  "kernelspec": {
   "display_name": "Python 3 (ipykernel)",
   "language": "python",
   "name": "python3"
  },
  "language_info": {
   "codemirror_mode": {
    "name": "ipython",
    "version": 3
   },
   "file_extension": ".py",
   "mimetype": "text/x-python",
   "name": "python",
   "nbconvert_exporter": "python",
   "pygments_lexer": "ipython3",
   "version": "3.9.12"
  },
  "vscode": {
   "interpreter": {
    "hash": "b9ff51a62ecd40cb657004315c899f8469115e274b4099ed87d14223a27565a9"
   }
  }
 },
 "nbformat": 4,
 "nbformat_minor": 2
}
